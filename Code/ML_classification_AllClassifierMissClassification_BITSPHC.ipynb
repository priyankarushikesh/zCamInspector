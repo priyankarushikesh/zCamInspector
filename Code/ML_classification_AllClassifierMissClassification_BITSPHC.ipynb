{
 "cells": [
  {
   "cell_type": "code",
   "execution_count": 1,
   "id": "84660d16",
   "metadata": {},
   "outputs": [],
   "source": [
    "import pandas as pd\n",
    "import numpy as np\n",
    "from sklearn.model_selection import train_test_split\n",
    "from sklearn.feature_selection import SelectKBest\n",
    "from sklearn.feature_selection import f_classif\n",
    "from sklearn.model_selection import cross_val_score\n",
    "from sklearn.tree import DecisionTreeClassifier\n",
    "from sklearn import metrics\n",
    "from matplotlib import pyplot"
   ]
  },
  {
   "cell_type": "code",
   "execution_count": 2,
   "id": "35d84e5b",
   "metadata": {},
   "outputs": [],
   "source": [
    "#Sample CSV files of IPCam\n",
    "fnamesIPcam = [\"D:/alarmClockCam_1_Flow.csv\",\n",
    "          \"D:/canarycam_1_Flow.csv\",\n",
    "          \"D:/d3dtraffic_1_Flow.csv\",\n",
    "          \"D:/ezviz_1_Flow.csv\",\n",
    "          \"D:/netatmocam1_Flow.csv\",\n",
    "          \"D:/v380Cam1_1_Flow.csv\",\n",
    "          ]"
   ]
  },
  {
   "cell_type": "code",
   "execution_count": null,
   "id": "d02b6d9c",
   "metadata": {},
   "outputs": [],
   "source": [
    "dfList = list()\n",
    "for fname in fnamesIPcam: \n",
    "    data = pd.read_csv(fname)\n",
    "    print('file:', fname, ' data size: ',data.shape)\n",
    "    dfList.append(data)\n",
    "############## combine the data frames\n",
    "ipcamDF = pd.concat(dfList)\n",
    "print(ipcamDF.shape)"
   ]
  },
  {
   "cell_type": "code",
   "execution_count": 4,
   "id": "f71fc8fa",
   "metadata": {},
   "outputs": [
    {
     "name": "stdout",
     "output_type": "stream",
     "text": [
      "['IPCam_AlarmClock', 'IPCam_Canary', 'IPCam_D3D', 'IPCam_Ezviz', 'IPCam_Netatmo', 'IPCam_V380']\n"
     ]
    }
   ],
   "source": [
    "#see unique labels\n",
    "print(list(ipcamDF['Label'].unique()))"
   ]
  },
  {
   "cell_type": "code",
   "execution_count": 5,
   "id": "45480c90",
   "metadata": {},
   "outputs": [
    {
     "name": "stdout",
     "output_type": "stream",
     "text": [
      "['IPCam_AlarmClock', 'IPCam_Canary', 'IPCam_D3D', 'IPCam_Ezviz', 'IPCam_Netatmo', 'IPCam_V380']\n"
     ]
    }
   ],
   "source": [
    "\n",
    "print(list(ipcamDF['Label'].unique()))\n"
   ]
  },
  {
   "cell_type": "code",
   "execution_count": 6,
   "id": "63e29efd",
   "metadata": {},
   "outputs": [
    {
     "name": "stdout",
     "output_type": "stream",
     "text": [
      "(10000, 84)\n"
     ]
    }
   ],
   "source": [
    "######### creating master DF\n",
    "dfListAll = [ipcamDF]\n",
    "masterDF = pd.concat(dfListAll)\n",
    "print(masterDF.shape)"
   ]
  },
  {
   "cell_type": "code",
   "execution_count": 7,
   "id": "93145ae4",
   "metadata": {},
   "outputs": [
    {
     "name": "stdout",
     "output_type": "stream",
     "text": [
      "['IPCam_AlarmClock', 'IPCam_Canary', 'IPCam_D3D', 'IPCam_Ezviz', 'IPCam_Netatmo', 'IPCam_V380']\n"
     ]
    }
   ],
   "source": [
    "uniqueLabels = list(masterDF['Label'].unique())\n",
    "print(uniqueLabels)"
   ]
  },
  {
   "cell_type": "code",
   "execution_count": 8,
   "id": "db1171e7",
   "metadata": {},
   "outputs": [
    {
     "name": "stdout",
     "output_type": "stream",
     "text": [
      "pruneddata size:  (10000, 77)\n",
      "['Flow Duration', 'Tot Fwd Pkts', 'Tot Bwd Pkts', 'TotLen Fwd Pkts', 'TotLen Bwd Pkts', 'Fwd Pkt Len Max', 'Fwd Pkt Len Min', 'Fwd Pkt Len Mean', 'Fwd Pkt Len Std', 'Bwd Pkt Len Max', 'Bwd Pkt Len Min', 'Bwd Pkt Len Mean', 'Bwd Pkt Len Std', 'Flow Byts/s', 'Flow Pkts/s', 'Flow IAT Mean', 'Flow IAT Std', 'Flow IAT Max', 'Flow IAT Min', 'Fwd IAT Tot', 'Fwd IAT Mean', 'Fwd IAT Std', 'Fwd IAT Max', 'Fwd IAT Min', 'Bwd IAT Tot', 'Bwd IAT Mean', 'Bwd IAT Std', 'Bwd IAT Max', 'Bwd IAT Min', 'Fwd PSH Flags', 'Bwd PSH Flags', 'Fwd URG Flags', 'Bwd URG Flags', 'Fwd Header Len', 'Bwd Header Len', 'Fwd Pkts/s', 'Bwd Pkts/s', 'Pkt Len Min', 'Pkt Len Max', 'Pkt Len Mean', 'Pkt Len Std', 'Pkt Len Var', 'FIN Flag Cnt', 'SYN Flag Cnt', 'RST Flag Cnt', 'PSH Flag Cnt', 'ACK Flag Cnt', 'URG Flag Cnt', 'CWE Flag Count', 'ECE Flag Cnt', 'Down/Up Ratio', 'Pkt Size Avg', 'Fwd Seg Size Avg', 'Bwd Seg Size Avg', 'Fwd Byts/b Avg', 'Fwd Pkts/b Avg', 'Fwd Blk Rate Avg', 'Bwd Byts/b Avg', 'Bwd Pkts/b Avg', 'Bwd Blk Rate Avg', 'Subflow Fwd Pkts', 'Subflow Fwd Byts', 'Subflow Bwd Pkts', 'Subflow Bwd Byts', 'Init Fwd Win Byts', 'Init Bwd Win Byts', 'Fwd Act Data Pkts', 'Fwd Seg Size Min', 'Active Mean', 'Active Std', 'Active Max', 'Active Min', 'Idle Mean', 'Idle Std', 'Idle Max', 'Idle Min', 'Label']\n"
     ]
    }
   ],
   "source": [
    "#discard all those columns that helps in uniquely identifying a flow\n",
    "masterPruned = masterDF.iloc[:,np.arange(7,84)]\n",
    "print('pruneddata size: ', masterPruned.shape)\n",
    "ftList = list(masterPruned.columns)\n",
    "print(ftList)"
   ]
  },
  {
   "cell_type": "code",
   "execution_count": 9,
   "id": "799a2873",
   "metadata": {},
   "outputs": [
    {
     "data": {
      "text/plain": [
       "(10000, 77)"
      ]
     },
     "execution_count": 9,
     "metadata": {},
     "output_type": "execute_result"
    }
   ],
   "source": [
    "#discard those flows that has 0 flow duration\n",
    "masterSelected = masterPruned.drop(masterPruned[masterPruned['Flow Duration']==0].index)\n",
    "masterSelected.shape"
   ]
  },
  {
   "cell_type": "code",
   "execution_count": 10,
   "id": "3dea0deb",
   "metadata": {},
   "outputs": [
    {
     "name": "stdout",
     "output_type": "stream",
     "text": [
      "[]\n"
     ]
    }
   ],
   "source": [
    "#identify those columns that has non-numeric values\n",
    "typesList = masterSelected.dtypes\n",
    "ftCount = len(ftList)\n",
    "nonNumericFtList = list()\n",
    "for fi in range(ftCount):\n",
    "    if ftList[fi] != 'Label' and typesList[fi] != 'int64' and typesList[fi] != 'float64':\n",
    "        print(ftList[fi], '  ', typesList[fi])\n",
    "        nonNumericFtList.append(ftList[fi])\n",
    "print(nonNumericFtList)"
   ]
  },
  {
   "cell_type": "code",
   "execution_count": 11,
   "id": "4a9d6fef",
   "metadata": {},
   "outputs": [],
   "source": [
    "for ft in nonNumericFtList:\n",
    "    masterSelected[ft] = pd.to_numeric(masterSelected[ft], errors='coerce')"
   ]
  },
  {
   "cell_type": "code",
   "execution_count": 12,
   "id": "131ac7d3",
   "metadata": {},
   "outputs": [
    {
     "name": "stdout",
     "output_type": "stream",
     "text": [
      "[]\n"
     ]
    }
   ],
   "source": [
    "print(nonNumericFtList)\n",
    "for ft in nonNumericFtList:\n",
    "    countNaN = masterSelected[ft].isna().sum()\n",
    "    print('converted to numeric ft: ', ft, '  countNaN: ', countNaN)"
   ]
  },
  {
   "cell_type": "code",
   "execution_count": 13,
   "id": "485482a5",
   "metadata": {},
   "outputs": [
    {
     "name": "stdout",
     "output_type": "stream",
     "text": [
      "count inf:  0\n"
     ]
    }
   ],
   "source": [
    "number_inf = masterSelected[masterSelected == np.inf].count().sum()\n",
    "print('count inf: ',number_inf)"
   ]
  },
  {
   "cell_type": "code",
   "execution_count": 14,
   "id": "a19c7a0e",
   "metadata": {},
   "outputs": [
    {
     "name": "stdout",
     "output_type": "stream",
     "text": [
      "[]\n"
     ]
    }
   ],
   "source": [
    "typesList = masterSelected.dtypes\n",
    "ftCount = len(ftList)\n",
    "nonNumericFtList = list()\n",
    "for fi in range(ftCount):\n",
    "    if ftList[fi] != 'Label' and typesList[fi] != 'int64' and typesList[fi] != 'float64':\n",
    "        print(ftList[fi], '  ', typesList[fi])\n",
    "        nonNumericFtList.append(ftList[fi])\n",
    "print(nonNumericFtList)"
   ]
  },
  {
   "cell_type": "code",
   "execution_count": 15,
   "id": "64f44814",
   "metadata": {},
   "outputs": [
    {
     "name": "stdout",
     "output_type": "stream",
     "text": [
      "count:  1  ft:  Fwd PSH Flags  ftmin:  0  ftMax:  0\n",
      "count:  2  ft:  Fwd URG Flags  ftmin:  0  ftMax:  0\n",
      "count:  3  ft:  Bwd URG Flags  ftmin:  0  ftMax:  0\n",
      "count:  4  ft:  URG Flag Cnt  ftmin:  0  ftMax:  0\n",
      "count:  5  ft:  CWE Flag Count  ftmin:  0  ftMax:  0\n",
      "count:  6  ft:  ECE Flag Cnt  ftmin:  0  ftMax:  0\n",
      "count:  7  ft:  Fwd Byts/b Avg  ftmin:  0  ftMax:  0\n",
      "count:  8  ft:  Fwd Pkts/b Avg  ftmin:  0  ftMax:  0\n",
      "count:  9  ft:  Fwd Blk Rate Avg  ftmin:  0  ftMax:  0\n",
      "count:  10  ft:  Bwd Byts/b Avg  ftmin:  0  ftMax:  0\n",
      "count:  11  ft:  Bwd Pkts/b Avg  ftmin:  0  ftMax:  0\n",
      "count:  12  ft:  Bwd Blk Rate Avg  ftmin:  0  ftMax:  0\n",
      "count:  13  ft:  Init Fwd Win Byts  ftmin:  -1  ftMax:  -1\n",
      "count:  14  ft:  Fwd Seg Size Min  ftmin:  0  ftMax:  0\n",
      "['Fwd PSH Flags', 'Fwd URG Flags', 'Bwd URG Flags', 'URG Flag Cnt', 'CWE Flag Count', 'ECE Flag Cnt', 'Fwd Byts/b Avg', 'Fwd Pkts/b Avg', 'Fwd Blk Rate Avg', 'Bwd Byts/b Avg', 'Bwd Pkts/b Avg', 'Bwd Blk Rate Avg', 'Init Fwd Win Byts', 'Fwd Seg Size Min']\n"
     ]
    }
   ],
   "source": [
    "#identify those columns that has 0 std\n",
    "count = 0\n",
    "staticFtList = list()\n",
    "for ft in ftList:\n",
    "    if ft == 'Label':\n",
    "        continue\n",
    "    #print('ft : ', ft)\n",
    "    ftMin = masterSelected[ft].min()\n",
    "    ftMax = masterSelected[ft].max()\n",
    "    #std = masterPruned[ft].std()\n",
    "    \n",
    "    if ftMin == ftMax:\n",
    "        count += 1\n",
    "        print('count: ', count, ' ft: ', ft, ' ftmin: ', ftMin, ' ftMax: ', ftMax)\n",
    "        staticFtList.append(ft)\n",
    "print(staticFtList)"
   ]
  },
  {
   "cell_type": "code",
   "execution_count": 16,
   "id": "fcf3b15f",
   "metadata": {},
   "outputs": [
    {
     "name": "stdout",
     "output_type": "stream",
     "text": [
      "before droping column:  (10000, 77)\n",
      "after droping column:  (10000, 63)\n"
     ]
    }
   ],
   "source": [
    "#remove those columns that have 0 std\n",
    "print('before droping column: ', masterSelected.shape)\n",
    "for ft in staticFtList:\n",
    "    masterSelected.drop([ft], axis=1,inplace=True)\n",
    "print('after droping column: ', masterSelected.shape)    "
   ]
  },
  {
   "cell_type": "code",
   "execution_count": 17,
   "id": "623a039f",
   "metadata": {},
   "outputs": [
    {
     "name": "stdout",
     "output_type": "stream",
     "text": [
      "63\n",
      "['Flow Duration', 'Tot Fwd Pkts', 'Tot Bwd Pkts', 'TotLen Fwd Pkts', 'TotLen Bwd Pkts', 'Fwd Pkt Len Max', 'Fwd Pkt Len Min', 'Fwd Pkt Len Mean', 'Fwd Pkt Len Std', 'Bwd Pkt Len Max', 'Bwd Pkt Len Min', 'Bwd Pkt Len Mean', 'Bwd Pkt Len Std', 'Flow Byts/s', 'Flow Pkts/s', 'Flow IAT Mean', 'Flow IAT Std', 'Flow IAT Max', 'Flow IAT Min', 'Fwd IAT Tot', 'Fwd IAT Mean', 'Fwd IAT Std', 'Fwd IAT Max', 'Fwd IAT Min', 'Bwd IAT Tot', 'Bwd IAT Mean', 'Bwd IAT Std', 'Bwd IAT Max', 'Bwd IAT Min', 'Bwd PSH Flags', 'Fwd Header Len', 'Bwd Header Len', 'Fwd Pkts/s', 'Bwd Pkts/s', 'Pkt Len Min', 'Pkt Len Max', 'Pkt Len Mean', 'Pkt Len Std', 'Pkt Len Var', 'FIN Flag Cnt', 'SYN Flag Cnt', 'RST Flag Cnt', 'PSH Flag Cnt', 'ACK Flag Cnt', 'Down/Up Ratio', 'Pkt Size Avg', 'Fwd Seg Size Avg', 'Bwd Seg Size Avg', 'Subflow Fwd Pkts', 'Subflow Fwd Byts', 'Subflow Bwd Pkts', 'Subflow Bwd Byts', 'Init Bwd Win Byts', 'Fwd Act Data Pkts', 'Active Mean', 'Active Std', 'Active Max', 'Active Min', 'Idle Mean', 'Idle Std', 'Idle Max', 'Idle Min', 'Label']\n"
     ]
    }
   ],
   "source": [
    "xCount = masterSelected.shape[1]\n",
    "print(xCount)\n",
    "finalFtList = list(masterSelected.columns)\n",
    "print(finalFtList)"
   ]
  },
  {
   "cell_type": "code",
   "execution_count": 19,
   "id": "9a8ed304",
   "metadata": {},
   "outputs": [],
   "source": [
    "#report intermediate data frame to a csv\n",
    "masterSelected.to_csv('D:/code/MLCode_output/ProcessedNPrunned_BITSDataset_missclass.csv', index = False)"
   ]
  },
  {
   "cell_type": "code",
   "execution_count": 20,
   "id": "96198f09",
   "metadata": {},
   "outputs": [],
   "source": [
    "df = pd.read_csv('D:/code/MLCode_output/ProcessedNPrunned_BITSDataset_missclass.csv')"
   ]
  },
  {
   "cell_type": "code",
   "execution_count": 21,
   "id": "4555de7f",
   "metadata": {},
   "outputs": [],
   "source": [
    "# Shuffle the dataset\n",
    "df_shuffled = df.sample(n=len(df))"
   ]
  },
  {
   "cell_type": "code",
   "execution_count": 22,
   "id": "1f3db905",
   "metadata": {},
   "outputs": [],
   "source": [
    "# Save the shuffled dataset to a new CSV file\n",
    "df_shuffled.to_csv('D:/code/MLCode_output/ProcessedNPrunned_BITSDataset_missclass_Shuffled.csv', index=False)"
   ]
  },
  {
   "cell_type": "code",
   "execution_count": 23,
   "id": "b6b6afcd",
   "metadata": {},
   "outputs": [],
   "source": [
    "df_shuffled = df_shuffled.reset_index(drop=True)"
   ]
  },
  {
   "cell_type": "code",
   "execution_count": 24,
   "id": "f847649e",
   "metadata": {},
   "outputs": [
    {
     "name": "stdout",
     "output_type": "stream",
     "text": [
      "Xshape:  (10000, 62)\n",
      "Yshape:  (10000,)\n"
     ]
    }
   ],
   "source": [
    "#classification with all the features\n",
    "masterDS = df_shuffled.values  #masterSelected.values\n",
    "X = masterDS[:,:-1]\n",
    "Y = masterDS[:,-1]\n",
    "print(\"Xshape: \", X.shape)\n",
    "print(\"Yshape: \", Y.shape)"
   ]
  },
  {
   "cell_type": "markdown",
   "id": "e478d4a0",
   "metadata": {},
   "source": [
    "Decision Tree Classifier"
   ]
  },
  {
   "cell_type": "code",
   "execution_count": 25,
   "id": "3fecafba",
   "metadata": {},
   "outputs": [],
   "source": [
    "from sklearn.model_selection import train_test_split\n",
    "from sklearn.model_selection import cross_val_score\n",
    "from sklearn.tree import DecisionTreeClassifier"
   ]
  },
  {
   "cell_type": "code",
   "execution_count": 28,
   "id": "4c587ea9",
   "metadata": {},
   "outputs": [],
   "source": [
    "#max tree depth = 10\n",
    "depth = 11 #run the cells of 19, 20, 21 for the other values of depth -- to generate plot\n",
    "clf = DecisionTreeClassifier(max_depth = depth, random_state = 42)\n",
    "#scores = cross_val_score(clf, X, Y, cv=10)\n",
    "#print(scores)"
   ]
  },
  {
   "cell_type": "code",
   "execution_count": 29,
   "id": "1995ce84",
   "metadata": {},
   "outputs": [],
   "source": [
    "score_list = cross_val_score(clf, X, Y, cv=10)"
   ]
  },
  {
   "cell_type": "code",
   "execution_count": 30,
   "id": "6cefc266",
   "metadata": {},
   "outputs": [
    {
     "name": "stdout",
     "output_type": "stream",
     "text": [
      "score list:  [0.972 0.972 0.974 0.964 0.975 0.984 0.973 0.98  0.968 0.983]\n",
      "depth =  11  avg. score =  0.9745000000000001  std. score:  0.006004165220911235\n"
     ]
    }
   ],
   "source": [
    "print('score list: ', score_list)\n",
    "print('depth = ', depth, ' avg. score = ', np.average(score_list), ' std. score: ', np.std(score_list))"
   ]
  },
  {
   "cell_type": "code",
   "execution_count": 31,
   "id": "b89071fa",
   "metadata": {},
   "outputs": [],
   "source": [
    "#create train and test set \n",
    "X_train, X_test, y_train, y_test = train_test_split(X, Y, test_size=0.33, random_state=42)"
   ]
  },
  {
   "cell_type": "code",
   "execution_count": 32,
   "id": "0795f180",
   "metadata": {},
   "outputs": [
    {
     "data": {
      "text/html": [
       "<style>#sk-container-id-1 {color: black;background-color: white;}#sk-container-id-1 pre{padding: 0;}#sk-container-id-1 div.sk-toggleable {background-color: white;}#sk-container-id-1 label.sk-toggleable__label {cursor: pointer;display: block;width: 100%;margin-bottom: 0;padding: 0.3em;box-sizing: border-box;text-align: center;}#sk-container-id-1 label.sk-toggleable__label-arrow:before {content: \"▸\";float: left;margin-right: 0.25em;color: #696969;}#sk-container-id-1 label.sk-toggleable__label-arrow:hover:before {color: black;}#sk-container-id-1 div.sk-estimator:hover label.sk-toggleable__label-arrow:before {color: black;}#sk-container-id-1 div.sk-toggleable__content {max-height: 0;max-width: 0;overflow: hidden;text-align: left;background-color: #f0f8ff;}#sk-container-id-1 div.sk-toggleable__content pre {margin: 0.2em;color: black;border-radius: 0.25em;background-color: #f0f8ff;}#sk-container-id-1 input.sk-toggleable__control:checked~div.sk-toggleable__content {max-height: 200px;max-width: 100%;overflow: auto;}#sk-container-id-1 input.sk-toggleable__control:checked~label.sk-toggleable__label-arrow:before {content: \"▾\";}#sk-container-id-1 div.sk-estimator input.sk-toggleable__control:checked~label.sk-toggleable__label {background-color: #d4ebff;}#sk-container-id-1 div.sk-label input.sk-toggleable__control:checked~label.sk-toggleable__label {background-color: #d4ebff;}#sk-container-id-1 input.sk-hidden--visually {border: 0;clip: rect(1px 1px 1px 1px);clip: rect(1px, 1px, 1px, 1px);height: 1px;margin: -1px;overflow: hidden;padding: 0;position: absolute;width: 1px;}#sk-container-id-1 div.sk-estimator {font-family: monospace;background-color: #f0f8ff;border: 1px dotted black;border-radius: 0.25em;box-sizing: border-box;margin-bottom: 0.5em;}#sk-container-id-1 div.sk-estimator:hover {background-color: #d4ebff;}#sk-container-id-1 div.sk-parallel-item::after {content: \"\";width: 100%;border-bottom: 1px solid gray;flex-grow: 1;}#sk-container-id-1 div.sk-label:hover label.sk-toggleable__label {background-color: #d4ebff;}#sk-container-id-1 div.sk-serial::before {content: \"\";position: absolute;border-left: 1px solid gray;box-sizing: border-box;top: 0;bottom: 0;left: 50%;z-index: 0;}#sk-container-id-1 div.sk-serial {display: flex;flex-direction: column;align-items: center;background-color: white;padding-right: 0.2em;padding-left: 0.2em;position: relative;}#sk-container-id-1 div.sk-item {position: relative;z-index: 1;}#sk-container-id-1 div.sk-parallel {display: flex;align-items: stretch;justify-content: center;background-color: white;position: relative;}#sk-container-id-1 div.sk-item::before, #sk-container-id-1 div.sk-parallel-item::before {content: \"\";position: absolute;border-left: 1px solid gray;box-sizing: border-box;top: 0;bottom: 0;left: 50%;z-index: -1;}#sk-container-id-1 div.sk-parallel-item {display: flex;flex-direction: column;z-index: 1;position: relative;background-color: white;}#sk-container-id-1 div.sk-parallel-item:first-child::after {align-self: flex-end;width: 50%;}#sk-container-id-1 div.sk-parallel-item:last-child::after {align-self: flex-start;width: 50%;}#sk-container-id-1 div.sk-parallel-item:only-child::after {width: 0;}#sk-container-id-1 div.sk-dashed-wrapped {border: 1px dashed gray;margin: 0 0.4em 0.5em 0.4em;box-sizing: border-box;padding-bottom: 0.4em;background-color: white;}#sk-container-id-1 div.sk-label label {font-family: monospace;font-weight: bold;display: inline-block;line-height: 1.2em;}#sk-container-id-1 div.sk-label-container {text-align: center;}#sk-container-id-1 div.sk-container {/* jupyter's `normalize.less` sets `[hidden] { display: none; }` but bootstrap.min.css set `[hidden] { display: none !important; }` so we also need the `!important` here to be able to override the default hidden behavior on the sphinx rendered scikit-learn.org. See: https://github.com/scikit-learn/scikit-learn/issues/21755 */display: inline-block !important;position: relative;}#sk-container-id-1 div.sk-text-repr-fallback {display: none;}</style><div id=\"sk-container-id-1\" class=\"sk-top-container\"><div class=\"sk-text-repr-fallback\"><pre>DecisionTreeClassifier(max_depth=11, random_state=42)</pre><b>In a Jupyter environment, please rerun this cell to show the HTML representation or trust the notebook. <br />On GitHub, the HTML representation is unable to render, please try loading this page with nbviewer.org.</b></div><div class=\"sk-container\" hidden><div class=\"sk-item\"><div class=\"sk-estimator sk-toggleable\"><input class=\"sk-toggleable__control sk-hidden--visually\" id=\"sk-estimator-id-1\" type=\"checkbox\" checked><label for=\"sk-estimator-id-1\" class=\"sk-toggleable__label sk-toggleable__label-arrow\">DecisionTreeClassifier</label><div class=\"sk-toggleable__content\"><pre>DecisionTreeClassifier(max_depth=11, random_state=42)</pre></div></div></div></div></div>"
      ],
      "text/plain": [
       "DecisionTreeClassifier(max_depth=11, random_state=42)"
      ]
     },
     "execution_count": 32,
     "metadata": {},
     "output_type": "execute_result"
    }
   ],
   "source": [
    "depth = 11 #take final depth from above analysis\n",
    "clf = DecisionTreeClassifier(max_depth = depth, random_state = 42)\n",
    "clf.fit(X_train, y_train)"
   ]
  },
  {
   "cell_type": "code",
   "execution_count": 33,
   "id": "f5f50100",
   "metadata": {},
   "outputs": [],
   "source": [
    "test_pred_decision_tree = clf.predict(X_test)"
   ]
  },
  {
   "cell_type": "code",
   "execution_count": 34,
   "id": "b20dec83",
   "metadata": {},
   "outputs": [
    {
     "name": "stdout",
     "output_type": "stream",
     "text": [
      "[[ 141    0    0    0    0    1]\n",
      " [   0  125    2    1    6    5]\n",
      " [   1    0  554    2    1    3]\n",
      " [   0    0    0  839    0    1]\n",
      " [   1    3   20    0  295    4]\n",
      " [   1    5   10    2    5 1272]]\n"
     ]
    }
   ],
   "source": [
    "confusion_matrix = metrics.confusion_matrix(y_test, test_pred_decision_tree)\n",
    "print(confusion_matrix)"
   ]
  },
  {
   "cell_type": "code",
   "execution_count": 36,
   "id": "d28ff7e7",
   "metadata": {},
   "outputs": [
    {
     "name": "stdout",
     "output_type": "stream",
     "text": [
      "[[ 141    0    0    0    0    1]\n",
      " [   0  125    2    1    6    5]\n",
      " [   1    0  554    2    1    3]\n",
      " [   0    0    0  839    0    1]\n",
      " [   1    3   20    0  295    4]\n",
      " [   1    5   10    2    5 1272]]\n",
      "\n",
      "\n",
      "Clock as Clock =  141  percent =  0.9929577464788732\n",
      "Clock as Ezviz =  0  percent =  0.0\n",
      "Clock as D3D =  0  percent =  0.0\n",
      "Clock as Netatmo =  0  percent =  0.0\n",
      "Clock as Canary =  0  percent =  0.0\n",
      "Clock as Bulb =  1  percent =  0.007042253521126761\n",
      "\n",
      "\n",
      "Ezviz as Clock =  0  percent =  0.0\n",
      "Ezviz as Ezviz =  125  percent =  0.8992805755395683\n",
      "Ezviz as D3D = 2  percent =  0.014388489208633094\n",
      "Ezviz as Netatmo =  1  percent =  0.007194244604316547\n",
      "Ezviz as Canary =  6  percent =  0.04316546762589928\n",
      "Ezviz as Bulb =  5  percent =  0.03597122302158273\n",
      "\n",
      "\n",
      "D3D as Clock =  1  percent =  0.0017825311942959\n",
      "D3D as Ezviz =  0  percent =  0.0\n",
      "D3D as D3D =  554  percent =  0.9875222816399287\n",
      "D3D as Netatmo =  2  percent =  0.0035650623885918\n",
      "D3D as Canary =  1  percent =  0.0017825311942959\n",
      "D3D as Bulb =  3  percent =  0.0053475935828877\n",
      "\n",
      "\n",
      "Netatmo as Clock =  0  percent =  0.0\n",
      "Netatmo as Ezviz =  0  percent =  0.0\n",
      "Netatmo as D3D =  0  percent =  0.0\n",
      "Netatmo as Netatmo =  839  percent =  0.9988095238095238\n",
      "Netatmo as Canary =  0  percent =  0.0\n",
      "Netatmo as Bulb =  1  percent =  0.0011904761904761906\n",
      "\n",
      "\n",
      "Canary as Clock =  1  percent =  0.0030959752321981426\n",
      "Canary as Ezviz =  3  percent =  0.009287925696594427\n",
      "Canary as D3D =  20  percent =  0.06191950464396285\n",
      "Canary as Netatmo =  0  percent =  0.0\n",
      "Canary as Canary =  295  percent =  0.913312693498452\n",
      "Canary as Bulb =  4  percent =  0.01238390092879257\n",
      "\n",
      "\n",
      "Bulb as Clock =  1  percent =  0.0007722007722007722\n",
      "Bulb as Ezviz =  5  percent =  0.003861003861003861\n",
      "Bulb as D3D =  10  percent =  0.007722007722007722\n",
      "Bulb as Netatmo =  2  percent =  0.0015444015444015444\n",
      "Bulb as Canary =  5  percent =  0.003861003861003861\n",
      "Bulb as Bulb =  1272  percent =  0.9822393822393822\n"
     ]
    }
   ],
   "source": [
    "conf_mat = metrics.confusion_matrix(y_test, test_pred_decision_tree, labels=uniqueLabels)\n",
    "#[i][j] ==> knwon to be in group i and predicted as group j\n",
    "print(conf_mat)\n",
    "print('\\n')\n",
    "print('Clock as Clock = ',conf_mat[0][0],' percent = ', (conf_mat[0][0]/(conf_mat[0][0]+conf_mat[0][1]+conf_mat[0][2]+conf_mat[0][3]+conf_mat[0][4]+conf_mat[0][5])))\n",
    "print('Clock as Ezviz = ',conf_mat[0][1],' percent = ', (conf_mat[0][1]/(conf_mat[0][0]+conf_mat[0][1]+conf_mat[0][2]+conf_mat[0][3]+conf_mat[0][4]+conf_mat[0][5])))\n",
    "print('Clock as D3D = ',conf_mat[0][2],' percent = ', (conf_mat[0][2]/(conf_mat[0][0]+conf_mat[0][1]+conf_mat[0][2]+conf_mat[0][3]+conf_mat[0][4]+conf_mat[0][5])))\n",
    "print('Clock as Netatmo = ',conf_mat[0][3],' percent = ', (conf_mat[0][3]/(conf_mat[0][0]+conf_mat[0][1]+conf_mat[0][2]+conf_mat[0][3]+conf_mat[0][4]+conf_mat[0][5])))\n",
    "print('Clock as Canary = ',conf_mat[0][4],' percent = ', (conf_mat[0][4]/(conf_mat[0][0]+conf_mat[0][1]+conf_mat[0][2]+conf_mat[0][3]+conf_mat[0][4]+conf_mat[0][5])))\n",
    "print('Clock as Bulb = ',conf_mat[0][5],' percent = ', (conf_mat[0][5]/(conf_mat[0][0]+conf_mat[0][1]+conf_mat[0][2]+conf_mat[0][3]+conf_mat[0][4]+conf_mat[0][5])))\n",
    "print('\\n')\n",
    "\n",
    "print('Ezviz as Clock = ',conf_mat[1][0],' percent = ', (conf_mat[1][0]/(conf_mat[1][0]+conf_mat[1][1]+conf_mat[1][2]+conf_mat[1][3]+conf_mat[1][4]+conf_mat[1][5])))\n",
    "print('Ezviz as Ezviz = ',conf_mat[1][1],' percent = ', (conf_mat[1][1]/(conf_mat[1][0]+conf_mat[1][1]+conf_mat[1][2]+conf_mat[1][3]+conf_mat[1][4]+conf_mat[1][5])))\n",
    "print('Ezviz as D3D =',conf_mat[1][2],' percent = ', (conf_mat[1][2]/(conf_mat[1][0]+conf_mat[1][1]+conf_mat[1][2]+conf_mat[1][3]+conf_mat[1][4]+conf_mat[1][5])))\n",
    "print('Ezviz as Netatmo = ',conf_mat[1][3],' percent = ', (conf_mat[1][3]/(conf_mat[1][0]+conf_mat[1][1]+conf_mat[1][2]+conf_mat[1][3]+conf_mat[1][4]+conf_mat[1][5])))\n",
    "print('Ezviz as Canary = ',conf_mat[1][4],' percent = ', (conf_mat[1][4]/(conf_mat[1][0]+conf_mat[1][1]+conf_mat[1][2]+conf_mat[1][3]+conf_mat[1][4]+conf_mat[1][5])))\n",
    "print('Ezviz as Bulb = ',conf_mat[1][5],' percent = ', (conf_mat[1][5]/(conf_mat[1][0]+conf_mat[1][1]+conf_mat[1][2]+conf_mat[1][3]+conf_mat[1][4]+conf_mat[1][5])))\n",
    "print('\\n')\n",
    "\n",
    "print('D3D as Clock = ',conf_mat[2][0],' percent = ', (conf_mat[2][0]/(conf_mat[2][0]+conf_mat[2][1]+conf_mat[2][2]+conf_mat[2][3]+conf_mat[2][4]+conf_mat[2][5])))\n",
    "print('D3D as Ezviz = ',conf_mat[2][1],' percent = ', (conf_mat[2][1]/(conf_mat[2][0]+conf_mat[2][1]+conf_mat[2][2]+conf_mat[2][3]+conf_mat[2][4]+conf_mat[2][5])))\n",
    "print('D3D as D3D = ',conf_mat[2][2],' percent = ', (conf_mat[2][2]/(conf_mat[2][0]+conf_mat[2][1]+conf_mat[2][2]+conf_mat[2][3]+conf_mat[2][4]+conf_mat[2][5])))\n",
    "print('D3D as Netatmo = ',conf_mat[2][3],' percent = ', (conf_mat[2][3]/(conf_mat[2][0]+conf_mat[2][1]+conf_mat[2][2]+conf_mat[2][3]+conf_mat[2][4]+conf_mat[2][5])))\n",
    "print('D3D as Canary = ',conf_mat[2][4],' percent = ', (conf_mat[2][4]/(conf_mat[2][0]+conf_mat[2][1]+conf_mat[2][2]+conf_mat[2][3]+conf_mat[2][4]+conf_mat[2][5])))\n",
    "print('D3D as Bulb = ',conf_mat[2][5],' percent = ', (conf_mat[2][5]/(conf_mat[2][0]+conf_mat[2][1]+conf_mat[2][2]+conf_mat[2][3]+conf_mat[2][4]+conf_mat[2][5])))\n",
    "print('\\n')\n",
    "\n",
    "print('Netatmo as Clock = ',conf_mat[3][0],' percent = ', (conf_mat[3][0]/(conf_mat[3][0]+conf_mat[3][1]+conf_mat[3][2]+conf_mat[3][3]+conf_mat[3][4]+conf_mat[3][5])))\n",
    "print('Netatmo as Ezviz = ',conf_mat[3][1],' percent = ', (conf_mat[3][1]/(conf_mat[3][0]+conf_mat[3][1]+conf_mat[3][2]+conf_mat[3][3]+conf_mat[3][4]+conf_mat[3][5])))\n",
    "print('Netatmo as D3D = ',conf_mat[3][2],' percent = ', (conf_mat[3][2]/(conf_mat[3][0]+conf_mat[3][1]+conf_mat[3][2]+conf_mat[3][3]+conf_mat[3][4]+conf_mat[3][5])))\n",
    "print('Netatmo as Netatmo = ',conf_mat[3][3],' percent = ', (conf_mat[3][3]/(conf_mat[3][0]+conf_mat[3][1]+conf_mat[3][2]+conf_mat[3][3]+conf_mat[3][4]+conf_mat[3][5])))\n",
    "print('Netatmo as Canary = ',conf_mat[3][4],' percent = ', (conf_mat[3][4]/(conf_mat[3][0]+conf_mat[3][1]+conf_mat[3][2]+conf_mat[3][3]+conf_mat[3][4]+conf_mat[3][5])))\n",
    "print('Netatmo as Bulb = ',conf_mat[3][5],' percent = ', (conf_mat[3][5]/(conf_mat[3][0]+conf_mat[3][1]+conf_mat[3][2]+conf_mat[3][3]+conf_mat[3][4]+conf_mat[3][5])))\n",
    "print('\\n')\n",
    "\n",
    "print('Canary as Clock = ',conf_mat[4][0],' percent = ', (conf_mat[4][0]/(conf_mat[4][0]+conf_mat[4][1]+conf_mat[4][2]+conf_mat[4][3]+conf_mat[4][4]+conf_mat[4][5])))\n",
    "print('Canary as Ezviz = ',conf_mat[4][1],' percent = ', (conf_mat[4][1]/(conf_mat[4][0]+conf_mat[4][1]+conf_mat[4][2]+conf_mat[4][3]+conf_mat[4][4]+conf_mat[4][5])))\n",
    "print('Canary as D3D = ',conf_mat[4][2],' percent = ', (conf_mat[4][2]/(conf_mat[4][0]+conf_mat[4][1]+conf_mat[4][2]+conf_mat[4][3]+conf_mat[4][4]+conf_mat[4][5])))\n",
    "print('Canary as Netatmo = ',conf_mat[4][3],' percent = ', (conf_mat[4][3]/(conf_mat[4][0]+conf_mat[4][1]+conf_mat[4][2]+conf_mat[4][3]+conf_mat[4][4]+conf_mat[4][5])))\n",
    "print('Canary as Canary = ',conf_mat[4][4],' percent = ', (conf_mat[4][4]/(conf_mat[4][0]+conf_mat[4][1]+conf_mat[4][2]+conf_mat[4][3]+conf_mat[4][4]+conf_mat[4][5])))\n",
    "print('Canary as Bulb = ',conf_mat[4][5],' percent = ', (conf_mat[4][5]/(conf_mat[4][0]+conf_mat[4][1]+conf_mat[4][2]+conf_mat[4][3]+conf_mat[4][4]+conf_mat[4][5])))\n",
    "print('\\n')\n",
    "\n",
    "print('Bulb as Clock = ',conf_mat[5][0],' percent = ', (conf_mat[5][0]/(conf_mat[5][0]+conf_mat[5][1]+conf_mat[5][2]+conf_mat[5][3]+conf_mat[5][4]+conf_mat[5][5])))\n",
    "print('Bulb as Ezviz = ',conf_mat[5][1],' percent = ', (conf_mat[5][1]/(conf_mat[5][0]+conf_mat[5][1]+conf_mat[5][2]+conf_mat[5][3]+conf_mat[5][4]+conf_mat[5][5])))\n",
    "print('Bulb as D3D = ',conf_mat[5][2],' percent = ', (conf_mat[5][2]/(conf_mat[5][0]+conf_mat[5][1]+conf_mat[5][2]+conf_mat[5][3]+conf_mat[5][4]+conf_mat[5][5])))\n",
    "print('Bulb as Netatmo = ',conf_mat[5][3],' percent = ', (conf_mat[5][3]/(conf_mat[5][0]+conf_mat[5][1]+conf_mat[5][2]+conf_mat[5][3]+conf_mat[5][4]+conf_mat[5][5])))\n",
    "print('Bulb as Canary = ',conf_mat[5][4],' percent = ', (conf_mat[5][4]/(conf_mat[5][0]+conf_mat[5][1]+conf_mat[5][2]+conf_mat[5][3]+conf_mat[5][4]+conf_mat[5][5])))\n",
    "print('Bulb as Bulb = ',conf_mat[5][5],' percent = ', (conf_mat[5][5]/(conf_mat[5][0]+conf_mat[5][1]+conf_mat[5][2]+conf_mat[5][3]+conf_mat[5][4]+conf_mat[5][5])))"
   ]
  },
  {
   "cell_type": "code",
   "execution_count": 37,
   "id": "c02f77be",
   "metadata": {},
   "outputs": [],
   "source": [
    "accuracy = metrics.accuracy_score(y_test, test_pred_decision_tree)\n",
    "precision = metrics.precision_score(y_test, test_pred_decision_tree, average=None)\n",
    "recall = metrics.recall_score(y_test, test_pred_decision_tree, average =None)\n",
    "f1 = metrics.f1_score(y_test, test_pred_decision_tree, average=None)"
   ]
  },
  {
   "cell_type": "code",
   "execution_count": 38,
   "id": "9d5c12c7",
   "metadata": {},
   "outputs": [
    {
     "name": "stdout",
     "output_type": "stream",
     "text": [
      "accuracy =  0.9775757575757575  precision:  [0.97916667 0.93984962 0.94539249 0.99407583 0.96091205 0.98911353]  recall:  [0.99295775 0.89928058 0.98752228 0.99880952 0.91331269 0.98223938]   f1:  [0.98601399 0.91911765 0.96599826 0.99643705 0.93650794 0.98566447]\n"
     ]
    }
   ],
   "source": [
    "print('accuracy = ', accuracy, ' precision: ', precision, ' recall: ', recall, '  f1: ',f1)"
   ]
  },
  {
   "cell_type": "markdown",
   "id": "7ad9fdc7",
   "metadata": {},
   "source": [
    "Extra Tree Classifier"
   ]
  },
  {
   "cell_type": "code",
   "execution_count": 39,
   "id": "07dc6f69",
   "metadata": {},
   "outputs": [],
   "source": [
    "df = pd.read_csv('D:/code/MLCode_output/ProcessedNPrunned_BITSDataset_missclass.csv')"
   ]
  },
  {
   "cell_type": "code",
   "execution_count": 40,
   "id": "b4440d66",
   "metadata": {},
   "outputs": [],
   "source": [
    "# Shuffle the dataset\n",
    "df_shuffled = df.sample(n=len(df))"
   ]
  },
  {
   "cell_type": "code",
   "execution_count": 43,
   "id": "eb307ccf",
   "metadata": {},
   "outputs": [],
   "source": [
    "df = pd.read_csv('D:/code/MLCode_output/ProcessedNPrunned_BITSDataset_missclass.csv')"
   ]
  },
  {
   "cell_type": "code",
   "execution_count": 44,
   "id": "8b7f805b",
   "metadata": {},
   "outputs": [],
   "source": [
    "df_shuffled = df_shuffled.reset_index(drop=True)"
   ]
  },
  {
   "cell_type": "code",
   "execution_count": 45,
   "id": "a6e000f5",
   "metadata": {},
   "outputs": [
    {
     "name": "stdout",
     "output_type": "stream",
     "text": [
      "Xshape:  (10000, 62)\n",
      "Yshape:  (10000,)\n"
     ]
    }
   ],
   "source": [
    "#classification with all the features\n",
    "masterDS = df_shuffled.values  #masterSelected.values\n",
    "X = masterDS[:,:-1]\n",
    "Y = masterDS[:,-1]\n",
    "print(\"Xshape: \", X.shape)\n",
    "print(\"Yshape: \", Y.shape)"
   ]
  },
  {
   "cell_type": "code",
   "execution_count": 46,
   "id": "6d0ad42a",
   "metadata": {},
   "outputs": [],
   "source": [
    "from sklearn.model_selection import train_test_split\n",
    "X_train, X_test, y_train, y_test = train_test_split(X, Y, test_size = 0.25, random_state = 0)"
   ]
  },
  {
   "cell_type": "code",
   "execution_count": 47,
   "id": "9e86d891",
   "metadata": {},
   "outputs": [],
   "source": [
    "from sklearn.ensemble import ExtraTreesClassifier\n",
    "from sklearn.datasets import make_classification\n",
    "from sklearn.model_selection import KFold, cross_val_score\n",
    "from numpy import mean"
   ]
  },
  {
   "cell_type": "code",
   "execution_count": 48,
   "id": "17750b1d",
   "metadata": {},
   "outputs": [],
   "source": [
    "# Building the model\n",
    "extra_tree_forest = ExtraTreesClassifier(n_estimators = 5, criterion ='entropy', max_features = xCount)"
   ]
  },
  {
   "cell_type": "code",
   "execution_count": 49,
   "id": "472c1575",
   "metadata": {},
   "outputs": [
    {
     "data": {
      "text/html": [
       "<style>#sk-container-id-2 {color: black;background-color: white;}#sk-container-id-2 pre{padding: 0;}#sk-container-id-2 div.sk-toggleable {background-color: white;}#sk-container-id-2 label.sk-toggleable__label {cursor: pointer;display: block;width: 100%;margin-bottom: 0;padding: 0.3em;box-sizing: border-box;text-align: center;}#sk-container-id-2 label.sk-toggleable__label-arrow:before {content: \"▸\";float: left;margin-right: 0.25em;color: #696969;}#sk-container-id-2 label.sk-toggleable__label-arrow:hover:before {color: black;}#sk-container-id-2 div.sk-estimator:hover label.sk-toggleable__label-arrow:before {color: black;}#sk-container-id-2 div.sk-toggleable__content {max-height: 0;max-width: 0;overflow: hidden;text-align: left;background-color: #f0f8ff;}#sk-container-id-2 div.sk-toggleable__content pre {margin: 0.2em;color: black;border-radius: 0.25em;background-color: #f0f8ff;}#sk-container-id-2 input.sk-toggleable__control:checked~div.sk-toggleable__content {max-height: 200px;max-width: 100%;overflow: auto;}#sk-container-id-2 input.sk-toggleable__control:checked~label.sk-toggleable__label-arrow:before {content: \"▾\";}#sk-container-id-2 div.sk-estimator input.sk-toggleable__control:checked~label.sk-toggleable__label {background-color: #d4ebff;}#sk-container-id-2 div.sk-label input.sk-toggleable__control:checked~label.sk-toggleable__label {background-color: #d4ebff;}#sk-container-id-2 input.sk-hidden--visually {border: 0;clip: rect(1px 1px 1px 1px);clip: rect(1px, 1px, 1px, 1px);height: 1px;margin: -1px;overflow: hidden;padding: 0;position: absolute;width: 1px;}#sk-container-id-2 div.sk-estimator {font-family: monospace;background-color: #f0f8ff;border: 1px dotted black;border-radius: 0.25em;box-sizing: border-box;margin-bottom: 0.5em;}#sk-container-id-2 div.sk-estimator:hover {background-color: #d4ebff;}#sk-container-id-2 div.sk-parallel-item::after {content: \"\";width: 100%;border-bottom: 1px solid gray;flex-grow: 1;}#sk-container-id-2 div.sk-label:hover label.sk-toggleable__label {background-color: #d4ebff;}#sk-container-id-2 div.sk-serial::before {content: \"\";position: absolute;border-left: 1px solid gray;box-sizing: border-box;top: 0;bottom: 0;left: 50%;z-index: 0;}#sk-container-id-2 div.sk-serial {display: flex;flex-direction: column;align-items: center;background-color: white;padding-right: 0.2em;padding-left: 0.2em;position: relative;}#sk-container-id-2 div.sk-item {position: relative;z-index: 1;}#sk-container-id-2 div.sk-parallel {display: flex;align-items: stretch;justify-content: center;background-color: white;position: relative;}#sk-container-id-2 div.sk-item::before, #sk-container-id-2 div.sk-parallel-item::before {content: \"\";position: absolute;border-left: 1px solid gray;box-sizing: border-box;top: 0;bottom: 0;left: 50%;z-index: -1;}#sk-container-id-2 div.sk-parallel-item {display: flex;flex-direction: column;z-index: 1;position: relative;background-color: white;}#sk-container-id-2 div.sk-parallel-item:first-child::after {align-self: flex-end;width: 50%;}#sk-container-id-2 div.sk-parallel-item:last-child::after {align-self: flex-start;width: 50%;}#sk-container-id-2 div.sk-parallel-item:only-child::after {width: 0;}#sk-container-id-2 div.sk-dashed-wrapped {border: 1px dashed gray;margin: 0 0.4em 0.5em 0.4em;box-sizing: border-box;padding-bottom: 0.4em;background-color: white;}#sk-container-id-2 div.sk-label label {font-family: monospace;font-weight: bold;display: inline-block;line-height: 1.2em;}#sk-container-id-2 div.sk-label-container {text-align: center;}#sk-container-id-2 div.sk-container {/* jupyter's `normalize.less` sets `[hidden] { display: none; }` but bootstrap.min.css set `[hidden] { display: none !important; }` so we also need the `!important` here to be able to override the default hidden behavior on the sphinx rendered scikit-learn.org. See: https://github.com/scikit-learn/scikit-learn/issues/21755 */display: inline-block !important;position: relative;}#sk-container-id-2 div.sk-text-repr-fallback {display: none;}</style><div id=\"sk-container-id-2\" class=\"sk-top-container\"><div class=\"sk-text-repr-fallback\"><pre>ExtraTreesClassifier(criterion=&#x27;entropy&#x27;, max_features=63, n_estimators=5)</pre><b>In a Jupyter environment, please rerun this cell to show the HTML representation or trust the notebook. <br />On GitHub, the HTML representation is unable to render, please try loading this page with nbviewer.org.</b></div><div class=\"sk-container\" hidden><div class=\"sk-item\"><div class=\"sk-estimator sk-toggleable\"><input class=\"sk-toggleable__control sk-hidden--visually\" id=\"sk-estimator-id-2\" type=\"checkbox\" checked><label for=\"sk-estimator-id-2\" class=\"sk-toggleable__label sk-toggleable__label-arrow\">ExtraTreesClassifier</label><div class=\"sk-toggleable__content\"><pre>ExtraTreesClassifier(criterion=&#x27;entropy&#x27;, max_features=63, n_estimators=5)</pre></div></div></div></div></div>"
      ],
      "text/plain": [
       "ExtraTreesClassifier(criterion='entropy', max_features=63, n_estimators=5)"
      ]
     },
     "execution_count": 49,
     "metadata": {},
     "output_type": "execute_result"
    }
   ],
   "source": [
    "# Training the model\n",
    "extra_tree_forest.fit(X, Y)"
   ]
  },
  {
   "cell_type": "code",
   "execution_count": 50,
   "id": "76e61f50",
   "metadata": {},
   "outputs": [],
   "source": [
    "# Computing the importance of each feature\n",
    "feature_importance = extra_tree_forest.feature_importances_"
   ]
  },
  {
   "cell_type": "code",
   "execution_count": 51,
   "id": "a7803707",
   "metadata": {},
   "outputs": [],
   "source": [
    "# Normalizing the individual importances\n",
    "feature_importance_normalized = np.std([tree.feature_importances_ for tree in\n",
    "                                        extra_tree_forest.estimators_],\n",
    "                                        axis = 0)"
   ]
  },
  {
   "cell_type": "code",
   "execution_count": 52,
   "id": "b93e2765",
   "metadata": {},
   "outputs": [],
   "source": [
    "from sklearn.model_selection import cross_val_score\n",
    "from sklearn.model_selection import RepeatedStratifiedKFold\n",
    "from sklearn.ensemble import ExtraTreesClassifier\n",
    "from numpy import mean\n",
    "from numpy import std"
   ]
  },
  {
   "cell_type": "code",
   "execution_count": 53,
   "id": "26e21f47",
   "metadata": {},
   "outputs": [
    {
     "name": "stdout",
     "output_type": "stream",
     "text": [
      "Accuracy: 0.991 (0.003)\n"
     ]
    }
   ],
   "source": [
    "# evaluate the model\n",
    "cv = RepeatedStratifiedKFold(n_splits=10, n_repeats=3, random_state=1)\n",
    "n_scores = cross_val_score(extra_tree_forest, X, Y, scoring='accuracy', cv=cv, n_jobs=1, error_score='raise')\n",
    "# report performance\n",
    "print('Accuracy: %.3f (%.3f)' % (mean(n_scores), std(n_scores)))"
   ]
  },
  {
   "cell_type": "code",
   "execution_count": 54,
   "id": "a61caedd",
   "metadata": {},
   "outputs": [],
   "source": [
    "y_pred = extra_tree_forest.predict(X_test)"
   ]
  },
  {
   "cell_type": "code",
   "execution_count": 55,
   "id": "5dfd6fc0",
   "metadata": {},
   "outputs": [
    {
     "name": "stdout",
     "output_type": "stream",
     "text": [
      "[[101   0   0   0   0   0]\n",
      " [  0 107   0   0   0   0]\n",
      " [  0   0 431   0   0   0]\n",
      " [  0   0   0 643   0   0]\n",
      " [  0   0   0   0 235   0]\n",
      " [  0   0   0   0   0 983]]\n"
     ]
    },
    {
     "data": {
      "text/plain": [
       "1.0"
      ]
     },
     "execution_count": 55,
     "metadata": {},
     "output_type": "execute_result"
    }
   ],
   "source": [
    "from sklearn.metrics import confusion_matrix, accuracy_score\n",
    "cm = confusion_matrix(y_test, y_pred)\n",
    "print(cm)\n",
    "accuracy_score(y_test, y_pred)"
   ]
  },
  {
   "cell_type": "code",
   "execution_count": 57,
   "id": "41826b0f",
   "metadata": {},
   "outputs": [
    {
     "name": "stdout",
     "output_type": "stream",
     "text": [
      "[[101   0   0   0   0   0]\n",
      " [  0 107   0   0   0   0]\n",
      " [  0   0 431   0   0   0]\n",
      " [  0   0   0 643   0   0]\n",
      " [  0   0   0   0 235   0]\n",
      " [  0   0   0   0   0 983]]\n",
      "\n",
      "\n",
      "Clock as Clock =  101  percent =  1.0\n",
      "Clock as Ezviz =  0  percent =  0.0\n",
      "Clock as D3D =  0  percent =  0.0\n",
      "Clock as Netatmo =  0  percent =  0.0\n",
      "Clock as Canary =  0  percent =  0.0\n",
      "Clock as Bulb =  0  percent =  0.0\n",
      "\n",
      "\n",
      "Ezviz as Clock =  0  percent =  0.0\n",
      "Ezviz as Ezviz =  107  percent =  1.0\n",
      "Ezviz as D3D = 0  percent =  0.0\n",
      "Ezviz as Netatmo =  0  percent =  0.0\n",
      "Ezviz as Canary =  0  percent =  0.0\n",
      "Ezviz as Bulb =  0  percent =  0.0\n",
      "\n",
      "\n",
      "D3D as Clock =  0  percent =  0.0\n",
      "D3D as Ezviz =  0  percent =  0.0\n",
      "D3D as D3D =  431  percent =  1.0\n",
      "D3D as Netatmo =  0  percent =  0.0\n",
      "D3D as Canary =  0  percent =  0.0\n",
      "D3D as Bulb =  0  percent =  0.0\n",
      "\n",
      "\n",
      "Netatmo as Clock =  0  percent =  0.0\n",
      "Netatmo as Ezviz =  0  percent =  0.0\n",
      "Netatmo as D3D =  0  percent =  0.0\n",
      "Netatmo as Netatmo =  643  percent =  1.0\n",
      "Netatmo as Canary =  0  percent =  0.0\n",
      "Netatmo as Bulb =  0  percent =  0.0\n",
      "\n",
      "\n",
      "Canary as Clock =  0  percent =  0.0\n",
      "Canary as Ezviz =  0  percent =  0.0\n",
      "Canary as D3D =  0  percent =  0.0\n",
      "Canary as Netatmo =  0  percent =  0.0\n",
      "Canary as Canary =  235  percent =  1.0\n",
      "Canary as Bulb =  0  percent =  0.0\n",
      "\n",
      "\n",
      "Bulb as Clock =  0  percent =  0.0\n",
      "Bulb as Ezviz =  0  percent =  0.0\n",
      "Bulb as D3D =  0  percent =  0.0\n",
      "Bulb as Netatmo =  0  percent =  0.0\n",
      "Bulb as Canary =  0  percent =  0.0\n",
      "Bulb as Bulb =  983  percent =  1.0\n"
     ]
    }
   ],
   "source": [
    "conf_mat = metrics.confusion_matrix(y_test, y_pred, labels=uniqueLabels)\n",
    "#[i][j] ==> knwon to be in group i and predicted as group j\n",
    "print(conf_mat) \n",
    "print('Clock as Clock = ',conf_mat[0][0],' percent = ', (conf_mat[0][0]/(conf_mat[0][0]+conf_mat[0][1]+conf_mat[0][2]+conf_mat[0][3]+conf_mat[0][4]+conf_mat[0][5])))\n",
    "print('Clock as Ezviz = ',conf_mat[0][1],' percent = ', (conf_mat[0][1]/(conf_mat[0][0]+conf_mat[0][1]+conf_mat[0][2]+conf_mat[0][3]+conf_mat[0][4]+conf_mat[0][5])))\n",
    "print('Clock as D3D = ',conf_mat[0][2],' percent = ', (conf_mat[0][2]/(conf_mat[0][0]+conf_mat[0][1]+conf_mat[0][2]+conf_mat[0][3]+conf_mat[0][4]+conf_mat[0][5])))\n",
    "print('Clock as Netatmo = ',conf_mat[0][3],' percent = ', (conf_mat[0][3]/(conf_mat[0][0]+conf_mat[0][1]+conf_mat[0][2]+conf_mat[0][3]+conf_mat[0][4]+conf_mat[0][5])))\n",
    "print('Clock as Canary = ',conf_mat[0][4],' percent = ', (conf_mat[0][4]/(conf_mat[0][0]+conf_mat[0][1]+conf_mat[0][2]+conf_mat[0][3]+conf_mat[0][4]+conf_mat[0][5])))\n",
    "print('Clock as Bulb = ',conf_mat[0][5],' percent = ', (conf_mat[0][5]/(conf_mat[0][0]+conf_mat[0][1]+conf_mat[0][2]+conf_mat[0][3]+conf_mat[0][4]+conf_mat[0][5])))\n",
    "print('\\n')\n",
    "\n",
    "print('Ezviz as Clock = ',conf_mat[1][0],' percent = ', (conf_mat[1][0]/(conf_mat[1][0]+conf_mat[1][1]+conf_mat[1][2]+conf_mat[1][3]+conf_mat[1][4]+conf_mat[1][5])))\n",
    "print('Ezviz as Ezviz = ',conf_mat[1][1],' percent = ', (conf_mat[1][1]/(conf_mat[1][0]+conf_mat[1][1]+conf_mat[1][2]+conf_mat[1][3]+conf_mat[1][4]+conf_mat[1][5])))\n",
    "print('Ezviz as D3D =',conf_mat[1][2],' percent = ', (conf_mat[1][2]/(conf_mat[1][0]+conf_mat[1][1]+conf_mat[1][2]+conf_mat[1][3]+conf_mat[1][4]+conf_mat[1][5])))\n",
    "print('Ezviz as Netatmo = ',conf_mat[1][3],' percent = ', (conf_mat[1][3]/(conf_mat[1][0]+conf_mat[1][1]+conf_mat[1][2]+conf_mat[1][3]+conf_mat[1][4]+conf_mat[1][5])))\n",
    "print('Ezviz as Canary = ',conf_mat[1][4],' percent = ', (conf_mat[1][4]/(conf_mat[1][0]+conf_mat[1][1]+conf_mat[1][2]+conf_mat[1][3]+conf_mat[1][4]+conf_mat[1][5])))\n",
    "print('Ezviz as Bulb = ',conf_mat[1][5],' percent = ', (conf_mat[1][5]/(conf_mat[1][0]+conf_mat[1][1]+conf_mat[1][2]+conf_mat[1][3]+conf_mat[1][4]+conf_mat[1][5])))\n",
    "print('\\n')\n",
    "\n",
    "print('D3D as Clock = ',conf_mat[2][0],' percent = ', (conf_mat[2][0]/(conf_mat[2][0]+conf_mat[2][1]+conf_mat[2][2]+conf_mat[2][3]+conf_mat[2][4]+conf_mat[2][5])))\n",
    "print('D3D as Ezviz = ',conf_mat[2][1],' percent = ', (conf_mat[2][1]/(conf_mat[2][0]+conf_mat[2][1]+conf_mat[2][2]+conf_mat[2][3]+conf_mat[2][4]+conf_mat[2][5])))\n",
    "print('D3D as D3D = ',conf_mat[2][2],' percent = ', (conf_mat[2][2]/(conf_mat[2][0]+conf_mat[2][1]+conf_mat[2][2]+conf_mat[2][3]+conf_mat[2][4]+conf_mat[2][5])))\n",
    "print('D3D as Netatmo = ',conf_mat[2][3],' percent = ', (conf_mat[2][3]/(conf_mat[2][0]+conf_mat[2][1]+conf_mat[2][2]+conf_mat[2][3]+conf_mat[2][4]+conf_mat[2][5])))\n",
    "print('D3D as Canary = ',conf_mat[2][4],' percent = ', (conf_mat[2][4]/(conf_mat[2][0]+conf_mat[2][1]+conf_mat[2][2]+conf_mat[2][3]+conf_mat[2][4]+conf_mat[2][5])))\n",
    "print('D3D as Bulb = ',conf_mat[2][5],' percent = ', (conf_mat[2][5]/(conf_mat[2][0]+conf_mat[2][1]+conf_mat[2][2]+conf_mat[2][3]+conf_mat[2][4]+conf_mat[2][5])))\n",
    "print('\\n')\n",
    "\n",
    "print('Netatmo as Clock = ',conf_mat[3][0],' percent = ', (conf_mat[3][0]/(conf_mat[3][0]+conf_mat[3][1]+conf_mat[3][2]+conf_mat[3][3]+conf_mat[3][4]+conf_mat[3][5])))\n",
    "print('Netatmo as Ezviz = ',conf_mat[3][1],' percent = ', (conf_mat[3][1]/(conf_mat[3][0]+conf_mat[3][1]+conf_mat[3][2]+conf_mat[3][3]+conf_mat[3][4]+conf_mat[3][5])))\n",
    "print('Netatmo as D3D = ',conf_mat[3][2],' percent = ', (conf_mat[3][2]/(conf_mat[3][0]+conf_mat[3][1]+conf_mat[3][2]+conf_mat[3][3]+conf_mat[3][4]+conf_mat[3][5])))\n",
    "print('Netatmo as Netatmo = ',conf_mat[3][3],' percent = ', (conf_mat[3][3]/(conf_mat[3][0]+conf_mat[3][1]+conf_mat[3][2]+conf_mat[3][3]+conf_mat[3][4]+conf_mat[3][5])))\n",
    "print('Netatmo as Canary = ',conf_mat[3][4],' percent = ', (conf_mat[3][4]/(conf_mat[3][0]+conf_mat[3][1]+conf_mat[3][2]+conf_mat[3][3]+conf_mat[3][4]+conf_mat[3][5])))\n",
    "print('Netatmo as Bulb = ',conf_mat[3][5],' percent = ', (conf_mat[3][5]/(conf_mat[3][0]+conf_mat[3][1]+conf_mat[3][2]+conf_mat[3][3]+conf_mat[3][4]+conf_mat[3][5])))\n",
    "print('\\n')\n",
    "\n",
    "print('Canary as Clock = ',conf_mat[4][0],' percent = ', (conf_mat[4][0]/(conf_mat[4][0]+conf_mat[4][1]+conf_mat[4][2]+conf_mat[4][3]+conf_mat[4][4]+conf_mat[4][5])))\n",
    "print('Canary as Ezviz = ',conf_mat[4][1],' percent = ', (conf_mat[4][1]/(conf_mat[4][0]+conf_mat[4][1]+conf_mat[4][2]+conf_mat[4][3]+conf_mat[4][4]+conf_mat[4][5])))\n",
    "print('Canary as D3D = ',conf_mat[4][2],' percent = ', (conf_mat[4][2]/(conf_mat[4][0]+conf_mat[4][1]+conf_mat[4][2]+conf_mat[4][3]+conf_mat[4][4]+conf_mat[4][5])))\n",
    "print('Canary as Netatmo = ',conf_mat[4][3],' percent = ', (conf_mat[4][3]/(conf_mat[4][0]+conf_mat[4][1]+conf_mat[4][2]+conf_mat[4][3]+conf_mat[4][4]+conf_mat[4][5])))\n",
    "print('Canary as Canary = ',conf_mat[4][4],' percent = ', (conf_mat[4][4]/(conf_mat[4][0]+conf_mat[4][1]+conf_mat[4][2]+conf_mat[4][3]+conf_mat[4][4]+conf_mat[4][5])))\n",
    "print('Canary as Bulb = ',conf_mat[4][5],' percent = ', (conf_mat[4][5]/(conf_mat[4][0]+conf_mat[4][1]+conf_mat[4][2]+conf_mat[4][3]+conf_mat[4][4]+conf_mat[4][5])))\n",
    "print('\\n')\n",
    "\n",
    "print('Bulb as Clock = ',conf_mat[5][0],' percent = ', (conf_mat[5][0]/(conf_mat[5][0]+conf_mat[5][1]+conf_mat[5][2]+conf_mat[5][3]+conf_mat[5][4]+conf_mat[5][5])))\n",
    "print('Bulb as Ezviz = ',conf_mat[5][1],' percent = ', (conf_mat[5][1]/(conf_mat[5][0]+conf_mat[5][1]+conf_mat[5][2]+conf_mat[5][3]+conf_mat[5][4]+conf_mat[5][5])))\n",
    "print('Bulb as D3D = ',conf_mat[5][2],' percent = ', (conf_mat[5][2]/(conf_mat[5][0]+conf_mat[5][1]+conf_mat[5][2]+conf_mat[5][3]+conf_mat[5][4]+conf_mat[5][5])))\n",
    "print('Bulb as Netatmo = ',conf_mat[5][3],' percent = ', (conf_mat[5][3]/(conf_mat[5][0]+conf_mat[5][1]+conf_mat[5][2]+conf_mat[5][3]+conf_mat[5][4]+conf_mat[5][5])))\n",
    "print('Bulb as Canary = ',conf_mat[5][4],' percent = ', (conf_mat[5][4]/(conf_mat[5][0]+conf_mat[5][1]+conf_mat[5][2]+conf_mat[5][3]+conf_mat[5][4]+conf_mat[5][5])))\n",
    "print('Bulb as Bulb = ',conf_mat[5][5],' percent = ', (conf_mat[5][5]/(conf_mat[5][0]+conf_mat[5][1]+conf_mat[5][2]+conf_mat[5][3]+conf_mat[5][4]+conf_mat[5][5])))"
   ]
  },
  {
   "cell_type": "code",
   "execution_count": 58,
   "id": "03989665",
   "metadata": {},
   "outputs": [
    {
     "name": "stdout",
     "output_type": "stream",
     "text": [
      "                 precision    recall  f1-score   support\n",
      "\n",
      "        Dropcam       1.00      1.00      1.00      3793\n",
      "          IPCam       1.00      1.00      1.00      2406\n",
      "     NetatmoCam       1.00      1.00      1.00      9545\n",
      "SamsungSmartCam       1.00      1.00      1.00     38501\n",
      "      TPLinkCam       1.00      1.00      1.00      4226\n",
      "    WithingsCam       1.00      1.00      1.00      6757\n",
      "\n",
      "       accuracy                           1.00     65228\n",
      "      macro avg       1.00      1.00      1.00     65228\n",
      "   weighted avg       1.00      1.00      1.00     65228\n",
      "\n"
     ]
    }
   ],
   "source": [
    "from sklearn.metrics import classification_report\n",
    "print(classification_report(y_test, y_pred))"
   ]
  },
  {
   "cell_type": "markdown",
   "id": "1e8ff4d4",
   "metadata": {},
   "source": [
    "Guassian Naive Baise Classifier"
   ]
  },
  {
   "cell_type": "code",
   "execution_count": 58,
   "id": "919cd6f7",
   "metadata": {},
   "outputs": [],
   "source": [
    "df = pd.read_csv('D:/code/MLCode_output/ProcessedNPrunned_BITSDataset_missclass.csv')"
   ]
  },
  {
   "cell_type": "code",
   "execution_count": 59,
   "id": "0af89423",
   "metadata": {},
   "outputs": [],
   "source": [
    "# Shuffle the dataset\n",
    "df_shuffled = df.sample(n=len(df))"
   ]
  },
  {
   "cell_type": "code",
   "execution_count": 60,
   "id": "8a210333",
   "metadata": {},
   "outputs": [],
   "source": [
    "# Save the shuffled dataset to a new CSV file\n",
    "df_shuffled.to_csv('D:/code/MLCode_output/ProcessedNPrunned_BITSDataset_missclass_gnb.csv', index=False)"
   ]
  },
  {
   "cell_type": "code",
   "execution_count": 61,
   "id": "e81d539e",
   "metadata": {},
   "outputs": [],
   "source": [
    "df_shuffled = df_shuffled.reset_index(drop=True)"
   ]
  },
  {
   "cell_type": "code",
   "execution_count": 62,
   "id": "4db1aa17",
   "metadata": {},
   "outputs": [
    {
     "name": "stdout",
     "output_type": "stream",
     "text": [
      "Xshape:  (10000, 62)\n",
      "Yshape:  (10000,)\n"
     ]
    }
   ],
   "source": [
    "#classification with all the features\n",
    "masterDS = df_shuffled.values  #masterSelected.values\n",
    "X = masterDS[:,:-1]\n",
    "Y = masterDS[:,-1]\n",
    "print(\"Xshape: \", X.shape)\n",
    "print(\"Yshape: \", Y.shape)"
   ]
  },
  {
   "cell_type": "code",
   "execution_count": 63,
   "id": "c9892548",
   "metadata": {},
   "outputs": [],
   "source": [
    "x_train, x_test, y_train, y_test = train_test_split(X, Y, test_size=.25, random_state=50)"
   ]
  },
  {
   "cell_type": "code",
   "execution_count": 64,
   "id": "6c62671d",
   "metadata": {},
   "outputs": [],
   "source": [
    "from sklearn.naive_bayes import GaussianNB\n",
    "from sklearn.metrics import accuracy_score\n",
    "from sklearn.model_selection import train_test_split\n",
    "import numpy as np"
   ]
  },
  {
   "cell_type": "code",
   "execution_count": 65,
   "id": "f58a0559",
   "metadata": {},
   "outputs": [
    {
     "data": {
      "text/html": [
       "<style>#sk-container-id-3 {color: black;background-color: white;}#sk-container-id-3 pre{padding: 0;}#sk-container-id-3 div.sk-toggleable {background-color: white;}#sk-container-id-3 label.sk-toggleable__label {cursor: pointer;display: block;width: 100%;margin-bottom: 0;padding: 0.3em;box-sizing: border-box;text-align: center;}#sk-container-id-3 label.sk-toggleable__label-arrow:before {content: \"▸\";float: left;margin-right: 0.25em;color: #696969;}#sk-container-id-3 label.sk-toggleable__label-arrow:hover:before {color: black;}#sk-container-id-3 div.sk-estimator:hover label.sk-toggleable__label-arrow:before {color: black;}#sk-container-id-3 div.sk-toggleable__content {max-height: 0;max-width: 0;overflow: hidden;text-align: left;background-color: #f0f8ff;}#sk-container-id-3 div.sk-toggleable__content pre {margin: 0.2em;color: black;border-radius: 0.25em;background-color: #f0f8ff;}#sk-container-id-3 input.sk-toggleable__control:checked~div.sk-toggleable__content {max-height: 200px;max-width: 100%;overflow: auto;}#sk-container-id-3 input.sk-toggleable__control:checked~label.sk-toggleable__label-arrow:before {content: \"▾\";}#sk-container-id-3 div.sk-estimator input.sk-toggleable__control:checked~label.sk-toggleable__label {background-color: #d4ebff;}#sk-container-id-3 div.sk-label input.sk-toggleable__control:checked~label.sk-toggleable__label {background-color: #d4ebff;}#sk-container-id-3 input.sk-hidden--visually {border: 0;clip: rect(1px 1px 1px 1px);clip: rect(1px, 1px, 1px, 1px);height: 1px;margin: -1px;overflow: hidden;padding: 0;position: absolute;width: 1px;}#sk-container-id-3 div.sk-estimator {font-family: monospace;background-color: #f0f8ff;border: 1px dotted black;border-radius: 0.25em;box-sizing: border-box;margin-bottom: 0.5em;}#sk-container-id-3 div.sk-estimator:hover {background-color: #d4ebff;}#sk-container-id-3 div.sk-parallel-item::after {content: \"\";width: 100%;border-bottom: 1px solid gray;flex-grow: 1;}#sk-container-id-3 div.sk-label:hover label.sk-toggleable__label {background-color: #d4ebff;}#sk-container-id-3 div.sk-serial::before {content: \"\";position: absolute;border-left: 1px solid gray;box-sizing: border-box;top: 0;bottom: 0;left: 50%;z-index: 0;}#sk-container-id-3 div.sk-serial {display: flex;flex-direction: column;align-items: center;background-color: white;padding-right: 0.2em;padding-left: 0.2em;position: relative;}#sk-container-id-3 div.sk-item {position: relative;z-index: 1;}#sk-container-id-3 div.sk-parallel {display: flex;align-items: stretch;justify-content: center;background-color: white;position: relative;}#sk-container-id-3 div.sk-item::before, #sk-container-id-3 div.sk-parallel-item::before {content: \"\";position: absolute;border-left: 1px solid gray;box-sizing: border-box;top: 0;bottom: 0;left: 50%;z-index: -1;}#sk-container-id-3 div.sk-parallel-item {display: flex;flex-direction: column;z-index: 1;position: relative;background-color: white;}#sk-container-id-3 div.sk-parallel-item:first-child::after {align-self: flex-end;width: 50%;}#sk-container-id-3 div.sk-parallel-item:last-child::after {align-self: flex-start;width: 50%;}#sk-container-id-3 div.sk-parallel-item:only-child::after {width: 0;}#sk-container-id-3 div.sk-dashed-wrapped {border: 1px dashed gray;margin: 0 0.4em 0.5em 0.4em;box-sizing: border-box;padding-bottom: 0.4em;background-color: white;}#sk-container-id-3 div.sk-label label {font-family: monospace;font-weight: bold;display: inline-block;line-height: 1.2em;}#sk-container-id-3 div.sk-label-container {text-align: center;}#sk-container-id-3 div.sk-container {/* jupyter's `normalize.less` sets `[hidden] { display: none; }` but bootstrap.min.css set `[hidden] { display: none !important; }` so we also need the `!important` here to be able to override the default hidden behavior on the sphinx rendered scikit-learn.org. See: https://github.com/scikit-learn/scikit-learn/issues/21755 */display: inline-block !important;position: relative;}#sk-container-id-3 div.sk-text-repr-fallback {display: none;}</style><div id=\"sk-container-id-3\" class=\"sk-top-container\"><div class=\"sk-text-repr-fallback\"><pre>GaussianNB()</pre><b>In a Jupyter environment, please rerun this cell to show the HTML representation or trust the notebook. <br />On GitHub, the HTML representation is unable to render, please try loading this page with nbviewer.org.</b></div><div class=\"sk-container\" hidden><div class=\"sk-item\"><div class=\"sk-estimator sk-toggleable\"><input class=\"sk-toggleable__control sk-hidden--visually\" id=\"sk-estimator-id-3\" type=\"checkbox\" checked><label for=\"sk-estimator-id-3\" class=\"sk-toggleable__label sk-toggleable__label-arrow\">GaussianNB</label><div class=\"sk-toggleable__content\"><pre>GaussianNB()</pre></div></div></div></div></div>"
      ],
      "text/plain": [
       "GaussianNB()"
      ]
     },
     "execution_count": 65,
     "metadata": {},
     "output_type": "execute_result"
    }
   ],
   "source": [
    "clf = GaussianNB()\n",
    "clf.fit(x_train, y_train.flatten())"
   ]
  },
  {
   "cell_type": "code",
   "execution_count": 66,
   "id": "cf01a59e",
   "metadata": {},
   "outputs": [
    {
     "name": "stdout",
     "output_type": "stream",
     "text": [
      "Accuracy Score:  0.3824\n"
     ]
    }
   ],
   "source": [
    "predictions = clf.predict(x_test)\n",
    "print('Accuracy Score: ', accuracy_score(predictions, y_test))"
   ]
  },
  {
   "cell_type": "code",
   "execution_count": 67,
   "id": "db4a873d",
   "metadata": {},
   "outputs": [
    {
     "name": "stdout",
     "output_type": "stream",
     "text": [
      "[[ 22   1   5   1  59   6]\n",
      " [  0  48  42   0  20   0]\n",
      " [ 37   0 258   2 144   1]\n",
      " [ 12   6  92 207 315   2]\n",
      " [  0   0   2   0 212   0]\n",
      " [  2 385 129  12 269 209]]\n"
     ]
    }
   ],
   "source": [
    "from sklearn.metrics import confusion_matrix \n",
    "cm = confusion_matrix(y_test, predictions) \n",
    "print(cm)"
   ]
  },
  {
   "cell_type": "code",
   "execution_count": 68,
   "id": "c9f93fc7",
   "metadata": {},
   "outputs": [
    {
     "name": "stdout",
     "output_type": "stream",
     "text": [
      "[[ 22   1   5   1  59   6]\n",
      " [  0  48  42   0  20   0]\n",
      " [ 37   0 258   2 144   1]\n",
      " [ 12   6  92 207 315   2]\n",
      " [  0   0   2   0 212   0]\n",
      " [  2 385 129  12 269 209]]\n",
      "\n",
      "\n",
      "Clock as Clock =  22  percent =  0.23404255319148937\n",
      "Clock as Ezviz =  1  percent =  0.010638297872340425\n",
      "Clock as D3D =  5  percent =  0.05319148936170213\n",
      "Clock as Netatmo =  1  percent =  0.010638297872340425\n",
      "Clock as Canary =  59  percent =  0.6276595744680851\n",
      "Clock as Bulb =  6  percent =  0.06382978723404255\n",
      "\n",
      "\n",
      "Ezviz as Clock =  0  percent =  0.0\n",
      "Ezviz as Ezviz =  48  percent =  0.43636363636363634\n",
      "Ezviz as D3D = 42  percent =  0.38181818181818183\n",
      "Ezviz as Netatmo =  0  percent =  0.0\n",
      "Ezviz as Canary =  20  percent =  0.18181818181818182\n",
      "Ezviz as Bulb =  0  percent =  0.0\n",
      "\n",
      "\n",
      "D3D as Clock =  37  percent =  0.083710407239819\n",
      "D3D as Ezviz =  0  percent =  0.0\n",
      "D3D as D3D =  258  percent =  0.583710407239819\n",
      "D3D as Netatmo =  2  percent =  0.004524886877828055\n",
      "D3D as Canary =  144  percent =  0.3257918552036199\n",
      "D3D as Bulb =  1  percent =  0.0022624434389140274\n",
      "\n",
      "\n",
      "Netatmo as Clock =  12  percent =  0.01892744479495268\n",
      "Netatmo as Ezviz =  6  percent =  0.00946372239747634\n",
      "Netatmo as D3D =  92  percent =  0.14511041009463724\n",
      "Netatmo as Netatmo =  207  percent =  0.3264984227129338\n",
      "Netatmo as Canary =  315  percent =  0.4968454258675079\n",
      "Netatmo as Bulb =  2  percent =  0.0031545741324921135\n",
      "\n",
      "\n",
      "Canary as Clock =  0  percent =  0.0\n",
      "Canary as Ezviz =  0  percent =  0.0\n",
      "Canary as D3D =  2  percent =  0.009345794392523364\n",
      "Canary as Netatmo =  0  percent =  0.0\n",
      "Canary as Canary =  212  percent =  0.9906542056074766\n",
      "Canary as Bulb =  0  percent =  0.0\n",
      "\n",
      "\n",
      "Bulb as Clock =  2  percent =  0.0019880715705765406\n",
      "Bulb as Ezviz =  385  percent =  0.3827037773359841\n",
      "Bulb as D3D =  129  percent =  0.12823061630218688\n",
      "Bulb as Netatmo =  12  percent =  0.011928429423459244\n",
      "Bulb as Canary =  269  percent =  0.2673956262425447\n",
      "Bulb as Bulb =  209  percent =  0.2077534791252485\n"
     ]
    }
   ],
   "source": [
    "conf_mat = metrics.confusion_matrix(y_test, predictions, labels=uniqueLabels)\n",
    "#[i][j] ==> knwon to be in group i and predicted as group j\n",
    "print(conf_mat)\n",
    "print('\\n')\n",
    "print('Clock as Clock = ',conf_mat[0][0],' percent = ', (conf_mat[0][0]/(conf_mat[0][0]+conf_mat[0][1]+conf_mat[0][2]+conf_mat[0][3]+conf_mat[0][4]+conf_mat[0][5])))\n",
    "print('Clock as Ezviz = ',conf_mat[0][1],' percent = ', (conf_mat[0][1]/(conf_mat[0][0]+conf_mat[0][1]+conf_mat[0][2]+conf_mat[0][3]+conf_mat[0][4]+conf_mat[0][5])))\n",
    "print('Clock as D3D = ',conf_mat[0][2],' percent = ', (conf_mat[0][2]/(conf_mat[0][0]+conf_mat[0][1]+conf_mat[0][2]+conf_mat[0][3]+conf_mat[0][4]+conf_mat[0][5])))\n",
    "print('Clock as Netatmo = ',conf_mat[0][3],' percent = ', (conf_mat[0][3]/(conf_mat[0][0]+conf_mat[0][1]+conf_mat[0][2]+conf_mat[0][3]+conf_mat[0][4]+conf_mat[0][5])))\n",
    "print('Clock as Canary = ',conf_mat[0][4],' percent = ', (conf_mat[0][4]/(conf_mat[0][0]+conf_mat[0][1]+conf_mat[0][2]+conf_mat[0][3]+conf_mat[0][4]+conf_mat[0][5])))\n",
    "print('Clock as Bulb = ',conf_mat[0][5],' percent = ', (conf_mat[0][5]/(conf_mat[0][0]+conf_mat[0][1]+conf_mat[0][2]+conf_mat[0][3]+conf_mat[0][4]+conf_mat[0][5])))\n",
    "print('\\n')\n",
    "\n",
    "print('Ezviz as Clock = ',conf_mat[1][0],' percent = ', (conf_mat[1][0]/(conf_mat[1][0]+conf_mat[1][1]+conf_mat[1][2]+conf_mat[1][3]+conf_mat[1][4]+conf_mat[1][5])))\n",
    "print('Ezviz as Ezviz = ',conf_mat[1][1],' percent = ', (conf_mat[1][1]/(conf_mat[1][0]+conf_mat[1][1]+conf_mat[1][2]+conf_mat[1][3]+conf_mat[1][4]+conf_mat[1][5])))\n",
    "print('Ezviz as D3D =',conf_mat[1][2],' percent = ', (conf_mat[1][2]/(conf_mat[1][0]+conf_mat[1][1]+conf_mat[1][2]+conf_mat[1][3]+conf_mat[1][4]+conf_mat[1][5])))\n",
    "print('Ezviz as Netatmo = ',conf_mat[1][3],' percent = ', (conf_mat[1][3]/(conf_mat[1][0]+conf_mat[1][1]+conf_mat[1][2]+conf_mat[1][3]+conf_mat[1][4]+conf_mat[1][5])))\n",
    "print('Ezviz as Canary = ',conf_mat[1][4],' percent = ', (conf_mat[1][4]/(conf_mat[1][0]+conf_mat[1][1]+conf_mat[1][2]+conf_mat[1][3]+conf_mat[1][4]+conf_mat[1][5])))\n",
    "print('Ezviz as Bulb = ',conf_mat[1][5],' percent = ', (conf_mat[1][5]/(conf_mat[1][0]+conf_mat[1][1]+conf_mat[1][2]+conf_mat[1][3]+conf_mat[1][4]+conf_mat[1][5])))\n",
    "print('\\n')\n",
    "\n",
    "print('D3D as Clock = ',conf_mat[2][0],' percent = ', (conf_mat[2][0]/(conf_mat[2][0]+conf_mat[2][1]+conf_mat[2][2]+conf_mat[2][3]+conf_mat[2][4]+conf_mat[2][5])))\n",
    "print('D3D as Ezviz = ',conf_mat[2][1],' percent = ', (conf_mat[2][1]/(conf_mat[2][0]+conf_mat[2][1]+conf_mat[2][2]+conf_mat[2][3]+conf_mat[2][4]+conf_mat[2][5])))\n",
    "print('D3D as D3D = ',conf_mat[2][2],' percent = ', (conf_mat[2][2]/(conf_mat[2][0]+conf_mat[2][1]+conf_mat[2][2]+conf_mat[2][3]+conf_mat[2][4]+conf_mat[2][5])))\n",
    "print('D3D as Netatmo = ',conf_mat[2][3],' percent = ', (conf_mat[2][3]/(conf_mat[2][0]+conf_mat[2][1]+conf_mat[2][2]+conf_mat[2][3]+conf_mat[2][4]+conf_mat[2][5])))\n",
    "print('D3D as Canary = ',conf_mat[2][4],' percent = ', (conf_mat[2][4]/(conf_mat[2][0]+conf_mat[2][1]+conf_mat[2][2]+conf_mat[2][3]+conf_mat[2][4]+conf_mat[2][5])))\n",
    "print('D3D as Bulb = ',conf_mat[2][5],' percent = ', (conf_mat[2][5]/(conf_mat[2][0]+conf_mat[2][1]+conf_mat[2][2]+conf_mat[2][3]+conf_mat[2][4]+conf_mat[2][5])))\n",
    "print('\\n')\n",
    "\n",
    "print('Netatmo as Clock = ',conf_mat[3][0],' percent = ', (conf_mat[3][0]/(conf_mat[3][0]+conf_mat[3][1]+conf_mat[3][2]+conf_mat[3][3]+conf_mat[3][4]+conf_mat[3][5])))\n",
    "print('Netatmo as Ezviz = ',conf_mat[3][1],' percent = ', (conf_mat[3][1]/(conf_mat[3][0]+conf_mat[3][1]+conf_mat[3][2]+conf_mat[3][3]+conf_mat[3][4]+conf_mat[3][5])))\n",
    "print('Netatmo as D3D = ',conf_mat[3][2],' percent = ', (conf_mat[3][2]/(conf_mat[3][0]+conf_mat[3][1]+conf_mat[3][2]+conf_mat[3][3]+conf_mat[3][4]+conf_mat[3][5])))\n",
    "print('Netatmo as Netatmo = ',conf_mat[3][3],' percent = ', (conf_mat[3][3]/(conf_mat[3][0]+conf_mat[3][1]+conf_mat[3][2]+conf_mat[3][3]+conf_mat[3][4]+conf_mat[3][5])))\n",
    "print('Netatmo as Canary = ',conf_mat[3][4],' percent = ', (conf_mat[3][4]/(conf_mat[3][0]+conf_mat[3][1]+conf_mat[3][2]+conf_mat[3][3]+conf_mat[3][4]+conf_mat[3][5])))\n",
    "print('Netatmo as Bulb = ',conf_mat[3][5],' percent = ', (conf_mat[3][5]/(conf_mat[3][0]+conf_mat[3][1]+conf_mat[3][2]+conf_mat[3][3]+conf_mat[3][4]+conf_mat[3][5])))\n",
    "print('\\n')\n",
    "\n",
    "print('Canary as Clock = ',conf_mat[4][0],' percent = ', (conf_mat[4][0]/(conf_mat[4][0]+conf_mat[4][1]+conf_mat[4][2]+conf_mat[4][3]+conf_mat[4][4]+conf_mat[4][5])))\n",
    "print('Canary as Ezviz = ',conf_mat[4][1],' percent = ', (conf_mat[4][1]/(conf_mat[4][0]+conf_mat[4][1]+conf_mat[4][2]+conf_mat[4][3]+conf_mat[4][4]+conf_mat[4][5])))\n",
    "print('Canary as D3D = ',conf_mat[4][2],' percent = ', (conf_mat[4][2]/(conf_mat[4][0]+conf_mat[4][1]+conf_mat[4][2]+conf_mat[4][3]+conf_mat[4][4]+conf_mat[4][5])))\n",
    "print('Canary as Netatmo = ',conf_mat[4][3],' percent = ', (conf_mat[4][3]/(conf_mat[4][0]+conf_mat[4][1]+conf_mat[4][2]+conf_mat[4][3]+conf_mat[4][4]+conf_mat[4][5])))\n",
    "print('Canary as Canary = ',conf_mat[4][4],' percent = ', (conf_mat[4][4]/(conf_mat[4][0]+conf_mat[4][1]+conf_mat[4][2]+conf_mat[4][3]+conf_mat[4][4]+conf_mat[4][5])))\n",
    "print('Canary as Bulb = ',conf_mat[4][5],' percent = ', (conf_mat[4][5]/(conf_mat[4][0]+conf_mat[4][1]+conf_mat[4][2]+conf_mat[4][3]+conf_mat[4][4]+conf_mat[4][5])))\n",
    "print('\\n')\n",
    "\n",
    "print('Bulb as Clock = ',conf_mat[5][0],' percent = ', (conf_mat[5][0]/(conf_mat[5][0]+conf_mat[5][1]+conf_mat[5][2]+conf_mat[5][3]+conf_mat[5][4]+conf_mat[5][5])))\n",
    "print('Bulb as Ezviz = ',conf_mat[5][1],' percent = ', (conf_mat[5][1]/(conf_mat[5][0]+conf_mat[5][1]+conf_mat[5][2]+conf_mat[5][3]+conf_mat[5][4]+conf_mat[5][5])))\n",
    "print('Bulb as D3D = ',conf_mat[5][2],' percent = ', (conf_mat[5][2]/(conf_mat[5][0]+conf_mat[5][1]+conf_mat[5][2]+conf_mat[5][3]+conf_mat[5][4]+conf_mat[5][5])))\n",
    "print('Bulb as Netatmo = ',conf_mat[5][3],' percent = ', (conf_mat[5][3]/(conf_mat[5][0]+conf_mat[5][1]+conf_mat[5][2]+conf_mat[5][3]+conf_mat[5][4]+conf_mat[5][5])))\n",
    "print('Bulb as Canary = ',conf_mat[5][4],' percent = ', (conf_mat[5][4]/(conf_mat[5][0]+conf_mat[5][1]+conf_mat[5][2]+conf_mat[5][3]+conf_mat[5][4]+conf_mat[5][5])))\n",
    "print('Bulb as Bulb = ',conf_mat[5][5],' percent = ', (conf_mat[5][5]/(conf_mat[5][0]+conf_mat[5][1]+conf_mat[5][2]+conf_mat[5][3]+conf_mat[5][4]+conf_mat[5][5])))"
   ]
  },
  {
   "cell_type": "code",
   "execution_count": 70,
   "id": "7ca5e6f3",
   "metadata": {},
   "outputs": [
    {
     "name": "stdout",
     "output_type": "stream",
     "text": [
      "                  precision    recall  f1-score   support\n",
      "\n",
      "IPCam_AlarmClock       0.30      0.23      0.26        94\n",
      "    IPCam_Canary       0.11      0.44      0.17       110\n",
      "       IPCam_D3D       0.49      0.58      0.53       442\n",
      "     IPCam_Ezviz       0.93      0.33      0.48       634\n",
      "   IPCam_Netatmo       0.21      0.99      0.34       214\n",
      "      IPCam_V380       0.96      0.21      0.34      1006\n",
      "\n",
      "        accuracy                           0.38      2500\n",
      "       macro avg       0.50      0.46      0.36      2500\n",
      "    weighted avg       0.74      0.38      0.40      2500\n",
      "\n"
     ]
    }
   ],
   "source": [
    "from sklearn.metrics import classification_report\n",
    "print(classification_report(y_test, predictions))"
   ]
  },
  {
   "cell_type": "markdown",
   "id": "522a8a96",
   "metadata": {},
   "source": [
    "KNN Classifier"
   ]
  },
  {
   "cell_type": "code",
   "execution_count": 72,
   "id": "ec2bb5af",
   "metadata": {},
   "outputs": [],
   "source": [
    "from sklearn.model_selection import train_test_split\n",
    "X_train, X_test, y_train, y_test = train_test_split(X, Y, test_size = 0.25, random_state = 0)"
   ]
  },
  {
   "cell_type": "code",
   "execution_count": 73,
   "id": "0fe5cbd6",
   "metadata": {},
   "outputs": [],
   "source": [
    "from sklearn.preprocessing import StandardScaler\n",
    "sc = StandardScaler()\n",
    "X_train = sc.fit_transform(X_train)\n",
    "X_test = sc.transform(X_test) #avoid data leakage"
   ]
  },
  {
   "cell_type": "code",
   "execution_count": 74,
   "id": "b0268eed",
   "metadata": {},
   "outputs": [],
   "source": [
    "from math import sqrt\n",
    "class KNN():\n",
    "  def __init__(self,k):\n",
    "    self.k=k\n",
    "    print(self.k)\n",
    "  def fit(self,X_train,y_train):\n",
    "    self.x_train=X_train\n",
    "    self.y_train=y_train\n",
    "  def calculate_euclidean(self,sample1,sample2):\n",
    "    distance=0.0\n",
    "    for i in range(len(sample1)):\n",
    "      distance+=(sample1[i]-sample2[i])**2 #Euclidean Distance = sqrt(sum i to N (x1_i – x2_i)^2)\n",
    "    return sqrt(distance)\n",
    "  def nearest_neighbors(self,test_sample):\n",
    "    distances=[]#calculate distances from a test sample to every sample in a training set\n",
    "    for i in range(len(self.x_train)):\n",
    "      distances.append((self.y_train[i],self.calculate_euclidean(self.x_train[i],test_sample)))\n",
    "    distances.sort(key=lambda x:x[1])#sort in ascending order, based on a distance value\n",
    "    neighbors=[]\n",
    "    for i in range(self.k): #get first k samples\n",
    "      neighbors.append(distances[i][0])\n",
    "    return neighbors\n",
    "  def predict(self,test_set):\n",
    "    predictions=[]\n",
    "    for test_sample in test_set:\n",
    "      neighbors=self.nearest_neighbors(test_sample)\n",
    "      labels=[sample for sample in neighbors]\n",
    "      prediction=max(labels,key=labels.count)\n",
    "      predictions.append(prediction)\n",
    "    return predictions"
   ]
  },
  {
   "cell_type": "code",
   "execution_count": 75,
   "id": "8d0afcb0",
   "metadata": {},
   "outputs": [
    {
     "name": "stdout",
     "output_type": "stream",
     "text": [
      "5\n"
     ]
    }
   ],
   "source": [
    "model=KNN(5) #our model\n",
    "model.fit(X_train,y_train)"
   ]
  },
  {
   "cell_type": "code",
   "execution_count": 76,
   "id": "653aed59",
   "metadata": {},
   "outputs": [
    {
     "data": {
      "text/html": [
       "<style>#sk-container-id-4 {color: black;background-color: white;}#sk-container-id-4 pre{padding: 0;}#sk-container-id-4 div.sk-toggleable {background-color: white;}#sk-container-id-4 label.sk-toggleable__label {cursor: pointer;display: block;width: 100%;margin-bottom: 0;padding: 0.3em;box-sizing: border-box;text-align: center;}#sk-container-id-4 label.sk-toggleable__label-arrow:before {content: \"▸\";float: left;margin-right: 0.25em;color: #696969;}#sk-container-id-4 label.sk-toggleable__label-arrow:hover:before {color: black;}#sk-container-id-4 div.sk-estimator:hover label.sk-toggleable__label-arrow:before {color: black;}#sk-container-id-4 div.sk-toggleable__content {max-height: 0;max-width: 0;overflow: hidden;text-align: left;background-color: #f0f8ff;}#sk-container-id-4 div.sk-toggleable__content pre {margin: 0.2em;color: black;border-radius: 0.25em;background-color: #f0f8ff;}#sk-container-id-4 input.sk-toggleable__control:checked~div.sk-toggleable__content {max-height: 200px;max-width: 100%;overflow: auto;}#sk-container-id-4 input.sk-toggleable__control:checked~label.sk-toggleable__label-arrow:before {content: \"▾\";}#sk-container-id-4 div.sk-estimator input.sk-toggleable__control:checked~label.sk-toggleable__label {background-color: #d4ebff;}#sk-container-id-4 div.sk-label input.sk-toggleable__control:checked~label.sk-toggleable__label {background-color: #d4ebff;}#sk-container-id-4 input.sk-hidden--visually {border: 0;clip: rect(1px 1px 1px 1px);clip: rect(1px, 1px, 1px, 1px);height: 1px;margin: -1px;overflow: hidden;padding: 0;position: absolute;width: 1px;}#sk-container-id-4 div.sk-estimator {font-family: monospace;background-color: #f0f8ff;border: 1px dotted black;border-radius: 0.25em;box-sizing: border-box;margin-bottom: 0.5em;}#sk-container-id-4 div.sk-estimator:hover {background-color: #d4ebff;}#sk-container-id-4 div.sk-parallel-item::after {content: \"\";width: 100%;border-bottom: 1px solid gray;flex-grow: 1;}#sk-container-id-4 div.sk-label:hover label.sk-toggleable__label {background-color: #d4ebff;}#sk-container-id-4 div.sk-serial::before {content: \"\";position: absolute;border-left: 1px solid gray;box-sizing: border-box;top: 0;bottom: 0;left: 50%;z-index: 0;}#sk-container-id-4 div.sk-serial {display: flex;flex-direction: column;align-items: center;background-color: white;padding-right: 0.2em;padding-left: 0.2em;position: relative;}#sk-container-id-4 div.sk-item {position: relative;z-index: 1;}#sk-container-id-4 div.sk-parallel {display: flex;align-items: stretch;justify-content: center;background-color: white;position: relative;}#sk-container-id-4 div.sk-item::before, #sk-container-id-4 div.sk-parallel-item::before {content: \"\";position: absolute;border-left: 1px solid gray;box-sizing: border-box;top: 0;bottom: 0;left: 50%;z-index: -1;}#sk-container-id-4 div.sk-parallel-item {display: flex;flex-direction: column;z-index: 1;position: relative;background-color: white;}#sk-container-id-4 div.sk-parallel-item:first-child::after {align-self: flex-end;width: 50%;}#sk-container-id-4 div.sk-parallel-item:last-child::after {align-self: flex-start;width: 50%;}#sk-container-id-4 div.sk-parallel-item:only-child::after {width: 0;}#sk-container-id-4 div.sk-dashed-wrapped {border: 1px dashed gray;margin: 0 0.4em 0.5em 0.4em;box-sizing: border-box;padding-bottom: 0.4em;background-color: white;}#sk-container-id-4 div.sk-label label {font-family: monospace;font-weight: bold;display: inline-block;line-height: 1.2em;}#sk-container-id-4 div.sk-label-container {text-align: center;}#sk-container-id-4 div.sk-container {/* jupyter's `normalize.less` sets `[hidden] { display: none; }` but bootstrap.min.css set `[hidden] { display: none !important; }` so we also need the `!important` here to be able to override the default hidden behavior on the sphinx rendered scikit-learn.org. See: https://github.com/scikit-learn/scikit-learn/issues/21755 */display: inline-block !important;position: relative;}#sk-container-id-4 div.sk-text-repr-fallback {display: none;}</style><div id=\"sk-container-id-4\" class=\"sk-top-container\"><div class=\"sk-text-repr-fallback\"><pre>KNeighborsClassifier()</pre><b>In a Jupyter environment, please rerun this cell to show the HTML representation or trust the notebook. <br />On GitHub, the HTML representation is unable to render, please try loading this page with nbviewer.org.</b></div><div class=\"sk-container\" hidden><div class=\"sk-item\"><div class=\"sk-estimator sk-toggleable\"><input class=\"sk-toggleable__control sk-hidden--visually\" id=\"sk-estimator-id-4\" type=\"checkbox\" checked><label for=\"sk-estimator-id-4\" class=\"sk-toggleable__label sk-toggleable__label-arrow\">KNeighborsClassifier</label><div class=\"sk-toggleable__content\"><pre>KNeighborsClassifier()</pre></div></div></div></div></div>"
      ],
      "text/plain": [
       "KNeighborsClassifier()"
      ]
     },
     "execution_count": 76,
     "metadata": {},
     "output_type": "execute_result"
    }
   ],
   "source": [
    "from sklearn.neighbors import KNeighborsClassifier\n",
    "classifier = KNeighborsClassifier(n_neighbors = 5, metric = 'minkowski', p = 2)#The default metric is minkowski, and with p=2 is equivalent to the standard Euclidean metric.\n",
    "classifier.fit(X_train, y_train)"
   ]
  },
  {
   "cell_type": "code",
   "execution_count": 77,
   "id": "92fb1940",
   "metadata": {},
   "outputs": [],
   "source": [
    "y_pred = classifier.predict(X_test)"
   ]
  },
  {
   "cell_type": "code",
   "execution_count": 78,
   "id": "fd252f13",
   "metadata": {},
   "outputs": [
    {
     "name": "stdout",
     "output_type": "stream",
     "text": [
      "[[ 91   0   9   3   0   2]\n",
      " [  2  97   1   1   2   9]\n",
      " [  4   0 400   0   1   6]\n",
      " [  1   2   2 644   8   4]\n",
      " [  0   1   0   3 218  11]\n",
      " [  3   0   3  11  21 940]]\n"
     ]
    },
    {
     "data": {
      "text/plain": [
       "0.956"
      ]
     },
     "execution_count": 78,
     "metadata": {},
     "output_type": "execute_result"
    }
   ],
   "source": [
    "from sklearn.metrics import confusion_matrix, accuracy_score\n",
    "cm = confusion_matrix(y_test, y_pred)\n",
    "print(cm)\n",
    "accuracy_score(y_test, y_pred)"
   ]
  },
  {
   "cell_type": "code",
   "execution_count": 79,
   "id": "c147cc1c",
   "metadata": {},
   "outputs": [
    {
     "name": "stdout",
     "output_type": "stream",
     "text": [
      "[[ 91   0   9   3   0   2]\n",
      " [  2  97   1   1   2   9]\n",
      " [  4   0 400   0   1   6]\n",
      " [  1   2   2 644   8   4]\n",
      " [  0   1   0   3 218  11]\n",
      " [  3   0   3  11  21 940]]\n",
      "\n",
      "\n",
      "Clock as Clock =  91  percent =  0.8666666666666667\n",
      "Clock as Ezviz =  0  percent =  0.0\n",
      "Clock as D3D =  9  percent =  0.08571428571428572\n",
      "Clock as Netatmo =  3  percent =  0.02857142857142857\n",
      "Clock as Canary =  0  percent =  0.0\n",
      "Clock as Bulb =  2  percent =  0.01904761904761905\n",
      "\n",
      "\n",
      "Ezviz as Clock =  2  percent =  0.017857142857142856\n",
      "Ezviz as Ezviz =  97  percent =  0.8660714285714286\n",
      "Ezviz as D3D = 1  percent =  0.008928571428571428\n",
      "Ezviz as Netatmo =  1  percent =  0.008928571428571428\n",
      "Ezviz as Canary =  2  percent =  0.017857142857142856\n",
      "Ezviz as Bulb =  9  percent =  0.08035714285714286\n",
      "\n",
      "\n",
      "D3D as Clock =  4  percent =  0.009732360097323601\n",
      "D3D as Ezviz =  0  percent =  0.0\n",
      "D3D as D3D =  400  percent =  0.9732360097323601\n",
      "D3D as Netatmo =  0  percent =  0.0\n",
      "D3D as Canary =  1  percent =  0.0024330900243309003\n",
      "D3D as Bulb =  6  percent =  0.014598540145985401\n",
      "\n",
      "\n",
      "Netatmo as Clock =  1  percent =  0.0015128593040847202\n",
      "Netatmo as Ezviz =  2  percent =  0.0030257186081694403\n",
      "Netatmo as D3D =  2  percent =  0.0030257186081694403\n",
      "Netatmo as Netatmo =  644  percent =  0.9742813918305597\n",
      "Netatmo as Canary =  8  percent =  0.012102874432677761\n",
      "Netatmo as Bulb =  4  percent =  0.006051437216338881\n",
      "\n",
      "\n",
      "Canary as Clock =  0  percent =  0.0\n",
      "Canary as Ezviz =  1  percent =  0.004291845493562232\n",
      "Canary as D3D =  0  percent =  0.0\n",
      "Canary as Netatmo =  3  percent =  0.012875536480686695\n",
      "Canary as Canary =  218  percent =  0.9356223175965666\n",
      "Canary as Bulb =  11  percent =  0.04721030042918455\n",
      "\n",
      "\n",
      "Bulb as Clock =  3  percent =  0.003067484662576687\n",
      "Bulb as Ezviz =  0  percent =  0.0\n",
      "Bulb as D3D =  3  percent =  0.003067484662576687\n",
      "Bulb as Netatmo =  11  percent =  0.011247443762781187\n",
      "Bulb as Canary =  21  percent =  0.02147239263803681\n",
      "Bulb as Bulb =  940  percent =  0.9611451942740287\n"
     ]
    }
   ],
   "source": [
    "conf_mat = metrics.confusion_matrix(y_test, y_pred, labels=uniqueLabels)\n",
    "#[i][j] ==> knwon to be in group i and predicted as group j\n",
    "print(conf_mat)\n",
    "print('\\n')\n",
    "print('Clock as Clock = ',conf_mat[0][0],' percent = ', (conf_mat[0][0]/(conf_mat[0][0]+conf_mat[0][1]+conf_mat[0][2]+conf_mat[0][3]+conf_mat[0][4]+conf_mat[0][5])))\n",
    "print('Clock as Ezviz = ',conf_mat[0][1],' percent = ', (conf_mat[0][1]/(conf_mat[0][0]+conf_mat[0][1]+conf_mat[0][2]+conf_mat[0][3]+conf_mat[0][4]+conf_mat[0][5])))\n",
    "print('Clock as D3D = ',conf_mat[0][2],' percent = ', (conf_mat[0][2]/(conf_mat[0][0]+conf_mat[0][1]+conf_mat[0][2]+conf_mat[0][3]+conf_mat[0][4]+conf_mat[0][5])))\n",
    "print('Clock as Netatmo = ',conf_mat[0][3],' percent = ', (conf_mat[0][3]/(conf_mat[0][0]+conf_mat[0][1]+conf_mat[0][2]+conf_mat[0][3]+conf_mat[0][4]+conf_mat[0][5])))\n",
    "print('Clock as Canary = ',conf_mat[0][4],' percent = ', (conf_mat[0][4]/(conf_mat[0][0]+conf_mat[0][1]+conf_mat[0][2]+conf_mat[0][3]+conf_mat[0][4]+conf_mat[0][5])))\n",
    "print('Clock as Bulb = ',conf_mat[0][5],' percent = ', (conf_mat[0][5]/(conf_mat[0][0]+conf_mat[0][1]+conf_mat[0][2]+conf_mat[0][3]+conf_mat[0][4]+conf_mat[0][5])))\n",
    "print('\\n')\n",
    "\n",
    "print('Ezviz as Clock = ',conf_mat[1][0],' percent = ', (conf_mat[1][0]/(conf_mat[1][0]+conf_mat[1][1]+conf_mat[1][2]+conf_mat[1][3]+conf_mat[1][4]+conf_mat[1][5])))\n",
    "print('Ezviz as Ezviz = ',conf_mat[1][1],' percent = ', (conf_mat[1][1]/(conf_mat[1][0]+conf_mat[1][1]+conf_mat[1][2]+conf_mat[1][3]+conf_mat[1][4]+conf_mat[1][5])))\n",
    "print('Ezviz as D3D =',conf_mat[1][2],' percent = ', (conf_mat[1][2]/(conf_mat[1][0]+conf_mat[1][1]+conf_mat[1][2]+conf_mat[1][3]+conf_mat[1][4]+conf_mat[1][5])))\n",
    "print('Ezviz as Netatmo = ',conf_mat[1][3],' percent = ', (conf_mat[1][3]/(conf_mat[1][0]+conf_mat[1][1]+conf_mat[1][2]+conf_mat[1][3]+conf_mat[1][4]+conf_mat[1][5])))\n",
    "print('Ezviz as Canary = ',conf_mat[1][4],' percent = ', (conf_mat[1][4]/(conf_mat[1][0]+conf_mat[1][1]+conf_mat[1][2]+conf_mat[1][3]+conf_mat[1][4]+conf_mat[1][5])))\n",
    "print('Ezviz as Bulb = ',conf_mat[1][5],' percent = ', (conf_mat[1][5]/(conf_mat[1][0]+conf_mat[1][1]+conf_mat[1][2]+conf_mat[1][3]+conf_mat[1][4]+conf_mat[1][5])))\n",
    "print('\\n')\n",
    "\n",
    "print('D3D as Clock = ',conf_mat[2][0],' percent = ', (conf_mat[2][0]/(conf_mat[2][0]+conf_mat[2][1]+conf_mat[2][2]+conf_mat[2][3]+conf_mat[2][4]+conf_mat[2][5])))\n",
    "print('D3D as Ezviz = ',conf_mat[2][1],' percent = ', (conf_mat[2][1]/(conf_mat[2][0]+conf_mat[2][1]+conf_mat[2][2]+conf_mat[2][3]+conf_mat[2][4]+conf_mat[2][5])))\n",
    "print('D3D as D3D = ',conf_mat[2][2],' percent = ', (conf_mat[2][2]/(conf_mat[2][0]+conf_mat[2][1]+conf_mat[2][2]+conf_mat[2][3]+conf_mat[2][4]+conf_mat[2][5])))\n",
    "print('D3D as Netatmo = ',conf_mat[2][3],' percent = ', (conf_mat[2][3]/(conf_mat[2][0]+conf_mat[2][1]+conf_mat[2][2]+conf_mat[2][3]+conf_mat[2][4]+conf_mat[2][5])))\n",
    "print('D3D as Canary = ',conf_mat[2][4],' percent = ', (conf_mat[2][4]/(conf_mat[2][0]+conf_mat[2][1]+conf_mat[2][2]+conf_mat[2][3]+conf_mat[2][4]+conf_mat[2][5])))\n",
    "print('D3D as Bulb = ',conf_mat[2][5],' percent = ', (conf_mat[2][5]/(conf_mat[2][0]+conf_mat[2][1]+conf_mat[2][2]+conf_mat[2][3]+conf_mat[2][4]+conf_mat[2][5])))\n",
    "print('\\n')\n",
    "\n",
    "print('Netatmo as Clock = ',conf_mat[3][0],' percent = ', (conf_mat[3][0]/(conf_mat[3][0]+conf_mat[3][1]+conf_mat[3][2]+conf_mat[3][3]+conf_mat[3][4]+conf_mat[3][5])))\n",
    "print('Netatmo as Ezviz = ',conf_mat[3][1],' percent = ', (conf_mat[3][1]/(conf_mat[3][0]+conf_mat[3][1]+conf_mat[3][2]+conf_mat[3][3]+conf_mat[3][4]+conf_mat[3][5])))\n",
    "print('Netatmo as D3D = ',conf_mat[3][2],' percent = ', (conf_mat[3][2]/(conf_mat[3][0]+conf_mat[3][1]+conf_mat[3][2]+conf_mat[3][3]+conf_mat[3][4]+conf_mat[3][5])))\n",
    "print('Netatmo as Netatmo = ',conf_mat[3][3],' percent = ', (conf_mat[3][3]/(conf_mat[3][0]+conf_mat[3][1]+conf_mat[3][2]+conf_mat[3][3]+conf_mat[3][4]+conf_mat[3][5])))\n",
    "print('Netatmo as Canary = ',conf_mat[3][4],' percent = ', (conf_mat[3][4]/(conf_mat[3][0]+conf_mat[3][1]+conf_mat[3][2]+conf_mat[3][3]+conf_mat[3][4]+conf_mat[3][5])))\n",
    "print('Netatmo as Bulb = ',conf_mat[3][5],' percent = ', (conf_mat[3][5]/(conf_mat[3][0]+conf_mat[3][1]+conf_mat[3][2]+conf_mat[3][3]+conf_mat[3][4]+conf_mat[3][5])))\n",
    "print('\\n')\n",
    "\n",
    "print('Canary as Clock = ',conf_mat[4][0],' percent = ', (conf_mat[4][0]/(conf_mat[4][0]+conf_mat[4][1]+conf_mat[4][2]+conf_mat[4][3]+conf_mat[4][4]+conf_mat[4][5])))\n",
    "print('Canary as Ezviz = ',conf_mat[4][1],' percent = ', (conf_mat[4][1]/(conf_mat[4][0]+conf_mat[4][1]+conf_mat[4][2]+conf_mat[4][3]+conf_mat[4][4]+conf_mat[4][5])))\n",
    "print('Canary as D3D = ',conf_mat[4][2],' percent = ', (conf_mat[4][2]/(conf_mat[4][0]+conf_mat[4][1]+conf_mat[4][2]+conf_mat[4][3]+conf_mat[4][4]+conf_mat[4][5])))\n",
    "print('Canary as Netatmo = ',conf_mat[4][3],' percent = ', (conf_mat[4][3]/(conf_mat[4][0]+conf_mat[4][1]+conf_mat[4][2]+conf_mat[4][3]+conf_mat[4][4]+conf_mat[4][5])))\n",
    "print('Canary as Canary = ',conf_mat[4][4],' percent = ', (conf_mat[4][4]/(conf_mat[4][0]+conf_mat[4][1]+conf_mat[4][2]+conf_mat[4][3]+conf_mat[4][4]+conf_mat[4][5])))\n",
    "print('Canary as Bulb = ',conf_mat[4][5],' percent = ', (conf_mat[4][5]/(conf_mat[4][0]+conf_mat[4][1]+conf_mat[4][2]+conf_mat[4][3]+conf_mat[4][4]+conf_mat[4][5])))\n",
    "print('\\n')\n",
    "\n",
    "print('Bulb as Clock = ',conf_mat[5][0],' percent = ', (conf_mat[5][0]/(conf_mat[5][0]+conf_mat[5][1]+conf_mat[5][2]+conf_mat[5][3]+conf_mat[5][4]+conf_mat[5][5])))\n",
    "print('Bulb as Ezviz = ',conf_mat[5][1],' percent = ', (conf_mat[5][1]/(conf_mat[5][0]+conf_mat[5][1]+conf_mat[5][2]+conf_mat[5][3]+conf_mat[5][4]+conf_mat[5][5])))\n",
    "print('Bulb as D3D = ',conf_mat[5][2],' percent = ', (conf_mat[5][2]/(conf_mat[5][0]+conf_mat[5][1]+conf_mat[5][2]+conf_mat[5][3]+conf_mat[5][4]+conf_mat[5][5])))\n",
    "print('Bulb as Netatmo = ',conf_mat[5][3],' percent = ', (conf_mat[5][3]/(conf_mat[5][0]+conf_mat[5][1]+conf_mat[5][2]+conf_mat[5][3]+conf_mat[5][4]+conf_mat[5][5])))\n",
    "print('Bulb as Canary = ',conf_mat[5][4],' percent = ', (conf_mat[5][4]/(conf_mat[5][0]+conf_mat[5][1]+conf_mat[5][2]+conf_mat[5][3]+conf_mat[5][4]+conf_mat[5][5])))\n",
    "print('Bulb as Bulb = ',conf_mat[5][5],' percent = ', (conf_mat[5][5]/(conf_mat[5][0]+conf_mat[5][1]+conf_mat[5][2]+conf_mat[5][3]+conf_mat[5][4]+conf_mat[5][5])))"
   ]
  },
  {
   "cell_type": "code",
   "execution_count": 81,
   "id": "a3a3bb1c",
   "metadata": {},
   "outputs": [
    {
     "name": "stdout",
     "output_type": "stream",
     "text": [
      "                  precision    recall  f1-score   support\n",
      "\n",
      "IPCam_AlarmClock       0.90      0.87      0.88       105\n",
      "    IPCam_Canary       0.97      0.87      0.92       112\n",
      "       IPCam_D3D       0.96      0.97      0.97       411\n",
      "     IPCam_Ezviz       0.97      0.97      0.97       661\n",
      "   IPCam_Netatmo       0.87      0.94      0.90       233\n",
      "      IPCam_V380       0.97      0.96      0.96       978\n",
      "\n",
      "        accuracy                           0.96      2500\n",
      "       macro avg       0.94      0.93      0.93      2500\n",
      "    weighted avg       0.96      0.96      0.96      2500\n",
      "\n"
     ]
    }
   ],
   "source": [
    "from sklearn.metrics import classification_report\n",
    "print(classification_report(y_test, y_pred))"
   ]
  },
  {
   "cell_type": "markdown",
   "id": "800b80f5",
   "metadata": {},
   "source": [
    "LKSVM Classifier"
   ]
  },
  {
   "cell_type": "code",
   "execution_count": 82,
   "id": "7ce70ed5",
   "metadata": {},
   "outputs": [
    {
     "name": "stdout",
     "output_type": "stream",
     "text": [
      "Accuracy: 0.8948\n"
     ]
    }
   ],
   "source": [
    "from sklearn.svm import SVC\n",
    "from sklearn import metrics\n",
    "from sklearn.model_selection import train_test_split\n",
    "from sklearn.preprocessing import StandardScaler\n",
    "import pandas as pd\n",
    "\n",
    "# Load the dataset\n",
    "icam = pd.read_csv('D:/code/MLCode_output/ProcessedNPrunned_BITSDataset_missclass_gnb.csv') #UNSW dataset\n",
    "\n",
    "# Splitting the data into features and labels\n",
    "X = icam.iloc[:, :-1]\n",
    "y = icam.iloc[:, -1]\n",
    "\n",
    "# Scaling the features\n",
    "scaler = StandardScaler()\n",
    "X = scaler.fit_transform(X)\n",
    "\n",
    "# Splitting the data into training and test sets\n",
    "X_train, X_test, y_train, y_test = train_test_split(X, y, test_size=0.25, random_state=109)\n",
    "\n",
    "# Create a svm Classifier\n",
    "clf = SVC(kernel='linear') \n",
    "\n",
    "# Train the model using the training sets\n",
    "clf.fit(X_train, y_train)\n",
    "\n",
    "# Predict the response for test dataset\n",
    "y_pred = clf.predict(X_test)\n",
    "\n",
    "# Model Accuracy: how often is the classifier correct?Accuracy: 0.9476\n",
    "print(\"Accuracy:\",metrics.accuracy_score(y_test, y_pred))"
   ]
  },
  {
   "cell_type": "code",
   "execution_count": 83,
   "id": "9d095ef6",
   "metadata": {},
   "outputs": [
    {
     "name": "stdout",
     "output_type": "stream",
     "text": [
      "[[ 73   0   5   0   0  34]\n",
      " [  5  90   0   0   3  11]\n",
      " [  0   2 435   0   0  30]\n",
      " [ 22   1   7 575   1  12]\n",
      " [  2   2   0   0 173  48]\n",
      " [ 13   2  16   8  39 891]]\n",
      "\n",
      "\n",
      "Clock as Clock =  73  percent =  0.6517857142857143\n",
      "Clock as Ezviz =  0  percent =  0.0\n",
      "Clock as D3D =  5  percent =  0.044642857142857144\n",
      "Clock as Netatmo =  0  percent =  0.0\n",
      "Clock as Canary =  0  percent =  0.0\n",
      "Clock as Bulb =  34  percent =  0.30357142857142855\n",
      "\n",
      "\n",
      "Ezviz as Clock =  5  percent =  0.045871559633027525\n",
      "Ezviz as Ezviz =  90  percent =  0.8256880733944955\n",
      "Ezviz as D3D = 0  percent =  0.0\n",
      "Ezviz as Netatmo =  0  percent =  0.0\n",
      "Ezviz as Canary =  3  percent =  0.027522935779816515\n",
      "Ezviz as Bulb =  11  percent =  0.10091743119266056\n",
      "\n",
      "\n",
      "D3D as Clock =  0  percent =  0.0\n",
      "D3D as Ezviz =  2  percent =  0.004282655246252677\n",
      "D3D as D3D =  435  percent =  0.9314775160599572\n",
      "D3D as Netatmo =  0  percent =  0.0\n",
      "D3D as Canary =  0  percent =  0.0\n",
      "D3D as Bulb =  30  percent =  0.06423982869379015\n",
      "\n",
      "\n",
      "Netatmo as Clock =  22  percent =  0.03559870550161812\n",
      "Netatmo as Ezviz =  1  percent =  0.0016181229773462784\n",
      "Netatmo as D3D =  7  percent =  0.011326860841423949\n",
      "Netatmo as Netatmo =  575  percent =  0.93042071197411\n",
      "Netatmo as Canary =  1  percent =  0.0016181229773462784\n",
      "Netatmo as Bulb =  12  percent =  0.019417475728155338\n",
      "\n",
      "\n",
      "Canary as Clock =  2  percent =  0.008888888888888889\n",
      "Canary as Ezviz =  2  percent =  0.008888888888888889\n",
      "Canary as D3D =  0  percent =  0.0\n",
      "Canary as Netatmo =  0  percent =  0.0\n",
      "Canary as Canary =  173  percent =  0.7688888888888888\n",
      "Canary as Bulb =  48  percent =  0.21333333333333335\n",
      "\n",
      "\n",
      "Bulb as Clock =  13  percent =  0.013415892672858616\n",
      "Bulb as Ezviz =  2  percent =  0.0020639834881320948\n",
      "Bulb as D3D =  16  percent =  0.016511867905056758\n",
      "Bulb as Netatmo =  8  percent =  0.008255933952528379\n",
      "Bulb as Canary =  39  percent =  0.04024767801857585\n",
      "Bulb as Bulb =  891  percent =  0.9195046439628483\n"
     ]
    }
   ],
   "source": [
    "conf_mat = metrics.confusion_matrix(y_test, y_pred, labels=uniqueLabels)\n",
    "#[i][j] ==> knwon to be in group i and predicted as group j\n",
    "print(conf_mat)\n",
    "print('\\n')\n",
    "print('Clock as Clock = ',conf_mat[0][0],' percent = ', (conf_mat[0][0]/(conf_mat[0][0]+conf_mat[0][1]+conf_mat[0][2]+conf_mat[0][3]+conf_mat[0][4]+conf_mat[0][5])))\n",
    "print('Clock as Ezviz = ',conf_mat[0][1],' percent = ', (conf_mat[0][1]/(conf_mat[0][0]+conf_mat[0][1]+conf_mat[0][2]+conf_mat[0][3]+conf_mat[0][4]+conf_mat[0][5])))\n",
    "print('Clock as D3D = ',conf_mat[0][2],' percent = ', (conf_mat[0][2]/(conf_mat[0][0]+conf_mat[0][1]+conf_mat[0][2]+conf_mat[0][3]+conf_mat[0][4]+conf_mat[0][5])))\n",
    "print('Clock as Netatmo = ',conf_mat[0][3],' percent = ', (conf_mat[0][3]/(conf_mat[0][0]+conf_mat[0][1]+conf_mat[0][2]+conf_mat[0][3]+conf_mat[0][4]+conf_mat[0][5])))\n",
    "print('Clock as Canary = ',conf_mat[0][4],' percent = ', (conf_mat[0][4]/(conf_mat[0][0]+conf_mat[0][1]+conf_mat[0][2]+conf_mat[0][3]+conf_mat[0][4]+conf_mat[0][5])))\n",
    "print('Clock as Bulb = ',conf_mat[0][5],' percent = ', (conf_mat[0][5]/(conf_mat[0][0]+conf_mat[0][1]+conf_mat[0][2]+conf_mat[0][3]+conf_mat[0][4]+conf_mat[0][5])))\n",
    "print('\\n')\n",
    "\n",
    "print('Ezviz as Clock = ',conf_mat[1][0],' percent = ', (conf_mat[1][0]/(conf_mat[1][0]+conf_mat[1][1]+conf_mat[1][2]+conf_mat[1][3]+conf_mat[1][4]+conf_mat[1][5])))\n",
    "print('Ezviz as Ezviz = ',conf_mat[1][1],' percent = ', (conf_mat[1][1]/(conf_mat[1][0]+conf_mat[1][1]+conf_mat[1][2]+conf_mat[1][3]+conf_mat[1][4]+conf_mat[1][5])))\n",
    "print('Ezviz as D3D =',conf_mat[1][2],' percent = ', (conf_mat[1][2]/(conf_mat[1][0]+conf_mat[1][1]+conf_mat[1][2]+conf_mat[1][3]+conf_mat[1][4]+conf_mat[1][5])))\n",
    "print('Ezviz as Netatmo = ',conf_mat[1][3],' percent = ', (conf_mat[1][3]/(conf_mat[1][0]+conf_mat[1][1]+conf_mat[1][2]+conf_mat[1][3]+conf_mat[1][4]+conf_mat[1][5])))\n",
    "print('Ezviz as Canary = ',conf_mat[1][4],' percent = ', (conf_mat[1][4]/(conf_mat[1][0]+conf_mat[1][1]+conf_mat[1][2]+conf_mat[1][3]+conf_mat[1][4]+conf_mat[1][5])))\n",
    "print('Ezviz as Bulb = ',conf_mat[1][5],' percent = ', (conf_mat[1][5]/(conf_mat[1][0]+conf_mat[1][1]+conf_mat[1][2]+conf_mat[1][3]+conf_mat[1][4]+conf_mat[1][5])))\n",
    "print('\\n')\n",
    "\n",
    "print('D3D as Clock = ',conf_mat[2][0],' percent = ', (conf_mat[2][0]/(conf_mat[2][0]+conf_mat[2][1]+conf_mat[2][2]+conf_mat[2][3]+conf_mat[2][4]+conf_mat[2][5])))\n",
    "print('D3D as Ezviz = ',conf_mat[2][1],' percent = ', (conf_mat[2][1]/(conf_mat[2][0]+conf_mat[2][1]+conf_mat[2][2]+conf_mat[2][3]+conf_mat[2][4]+conf_mat[2][5])))\n",
    "print('D3D as D3D = ',conf_mat[2][2],' percent = ', (conf_mat[2][2]/(conf_mat[2][0]+conf_mat[2][1]+conf_mat[2][2]+conf_mat[2][3]+conf_mat[2][4]+conf_mat[2][5])))\n",
    "print('D3D as Netatmo = ',conf_mat[2][3],' percent = ', (conf_mat[2][3]/(conf_mat[2][0]+conf_mat[2][1]+conf_mat[2][2]+conf_mat[2][3]+conf_mat[2][4]+conf_mat[2][5])))\n",
    "print('D3D as Canary = ',conf_mat[2][4],' percent = ', (conf_mat[2][4]/(conf_mat[2][0]+conf_mat[2][1]+conf_mat[2][2]+conf_mat[2][3]+conf_mat[2][4]+conf_mat[2][5])))\n",
    "print('D3D as Bulb = ',conf_mat[2][5],' percent = ', (conf_mat[2][5]/(conf_mat[2][0]+conf_mat[2][1]+conf_mat[2][2]+conf_mat[2][3]+conf_mat[2][4]+conf_mat[2][5])))\n",
    "print('\\n')\n",
    "\n",
    "print('Netatmo as Clock = ',conf_mat[3][0],' percent = ', (conf_mat[3][0]/(conf_mat[3][0]+conf_mat[3][1]+conf_mat[3][2]+conf_mat[3][3]+conf_mat[3][4]+conf_mat[3][5])))\n",
    "print('Netatmo as Ezviz = ',conf_mat[3][1],' percent = ', (conf_mat[3][1]/(conf_mat[3][0]+conf_mat[3][1]+conf_mat[3][2]+conf_mat[3][3]+conf_mat[3][4]+conf_mat[3][5])))\n",
    "print('Netatmo as D3D = ',conf_mat[3][2],' percent = ', (conf_mat[3][2]/(conf_mat[3][0]+conf_mat[3][1]+conf_mat[3][2]+conf_mat[3][3]+conf_mat[3][4]+conf_mat[3][5])))\n",
    "print('Netatmo as Netatmo = ',conf_mat[3][3],' percent = ', (conf_mat[3][3]/(conf_mat[3][0]+conf_mat[3][1]+conf_mat[3][2]+conf_mat[3][3]+conf_mat[3][4]+conf_mat[3][5])))\n",
    "print('Netatmo as Canary = ',conf_mat[3][4],' percent = ', (conf_mat[3][4]/(conf_mat[3][0]+conf_mat[3][1]+conf_mat[3][2]+conf_mat[3][3]+conf_mat[3][4]+conf_mat[3][5])))\n",
    "print('Netatmo as Bulb = ',conf_mat[3][5],' percent = ', (conf_mat[3][5]/(conf_mat[3][0]+conf_mat[3][1]+conf_mat[3][2]+conf_mat[3][3]+conf_mat[3][4]+conf_mat[3][5])))\n",
    "print('\\n')\n",
    "\n",
    "print('Canary as Clock = ',conf_mat[4][0],' percent = ', (conf_mat[4][0]/(conf_mat[4][0]+conf_mat[4][1]+conf_mat[4][2]+conf_mat[4][3]+conf_mat[4][4]+conf_mat[4][5])))\n",
    "print('Canary as Ezviz = ',conf_mat[4][1],' percent = ', (conf_mat[4][1]/(conf_mat[4][0]+conf_mat[4][1]+conf_mat[4][2]+conf_mat[4][3]+conf_mat[4][4]+conf_mat[4][5])))\n",
    "print('Canary as D3D = ',conf_mat[4][2],' percent = ', (conf_mat[4][2]/(conf_mat[4][0]+conf_mat[4][1]+conf_mat[4][2]+conf_mat[4][3]+conf_mat[4][4]+conf_mat[4][5])))\n",
    "print('Canary as Netatmo = ',conf_mat[4][3],' percent = ', (conf_mat[4][3]/(conf_mat[4][0]+conf_mat[4][1]+conf_mat[4][2]+conf_mat[4][3]+conf_mat[4][4]+conf_mat[4][5])))\n",
    "print('Canary as Canary = ',conf_mat[4][4],' percent = ', (conf_mat[4][4]/(conf_mat[4][0]+conf_mat[4][1]+conf_mat[4][2]+conf_mat[4][3]+conf_mat[4][4]+conf_mat[4][5])))\n",
    "print('Canary as Bulb = ',conf_mat[4][5],' percent = ', (conf_mat[4][5]/(conf_mat[4][0]+conf_mat[4][1]+conf_mat[4][2]+conf_mat[4][3]+conf_mat[4][4]+conf_mat[4][5])))\n",
    "print('\\n')\n",
    "\n",
    "print('Bulb as Clock = ',conf_mat[5][0],' percent = ', (conf_mat[5][0]/(conf_mat[5][0]+conf_mat[5][1]+conf_mat[5][2]+conf_mat[5][3]+conf_mat[5][4]+conf_mat[5][5])))\n",
    "print('Bulb as Ezviz = ',conf_mat[5][1],' percent = ', (conf_mat[5][1]/(conf_mat[5][0]+conf_mat[5][1]+conf_mat[5][2]+conf_mat[5][3]+conf_mat[5][4]+conf_mat[5][5])))\n",
    "print('Bulb as D3D = ',conf_mat[5][2],' percent = ', (conf_mat[5][2]/(conf_mat[5][0]+conf_mat[5][1]+conf_mat[5][2]+conf_mat[5][3]+conf_mat[5][4]+conf_mat[5][5])))\n",
    "print('Bulb as Netatmo = ',conf_mat[5][3],' percent = ', (conf_mat[5][3]/(conf_mat[5][0]+conf_mat[5][1]+conf_mat[5][2]+conf_mat[5][3]+conf_mat[5][4]+conf_mat[5][5])))\n",
    "print('Bulb as Canary = ',conf_mat[5][4],' percent = ', (conf_mat[5][4]/(conf_mat[5][0]+conf_mat[5][1]+conf_mat[5][2]+conf_mat[5][3]+conf_mat[5][4]+conf_mat[5][5])))\n",
    "print('Bulb as Bulb = ',conf_mat[5][5],' percent = ', (conf_mat[5][5]/(conf_mat[5][0]+conf_mat[5][1]+conf_mat[5][2]+conf_mat[5][3]+conf_mat[5][4]+conf_mat[5][5])))"
   ]
  },
  {
   "cell_type": "markdown",
   "id": "da31b527",
   "metadata": {},
   "source": [
    "Accuracy: 0.7034447396634503"
   ]
  },
  {
   "cell_type": "markdown",
   "id": "bd5cc7ed",
   "metadata": {},
   "source": [
    "Random Forest classifier"
   ]
  },
  {
   "cell_type": "code",
   "execution_count": 84,
   "id": "146fd5d0",
   "metadata": {},
   "outputs": [],
   "source": [
    "# split data into training and testing sets\n",
    "from sklearn.model_selection import train_test_split\n",
    "X_train, X_test, y_train, y_test = train_test_split(X, Y, test_size = 0.33, random_state = 42)"
   ]
  },
  {
   "cell_type": "code",
   "execution_count": 85,
   "id": "6d33261b",
   "metadata": {},
   "outputs": [
    {
     "data": {
      "text/plain": [
       "((6700, 62), (3300, 62))"
      ]
     },
     "execution_count": 85,
     "metadata": {},
     "output_type": "execute_result"
    }
   ],
   "source": [
    "# check the shape of X_train and X_test\n",
    "X_train.shape, X_test.shape"
   ]
  },
  {
   "cell_type": "code",
   "execution_count": 86,
   "id": "b4663ccc",
   "metadata": {},
   "outputs": [],
   "source": [
    "#from sklearn.preprocessing import CategoricalEncoder\n",
    "import category_encoders as ce\n",
    "\n",
    "# encode categorical variables with ordinal encoding\n",
    "encoder = ce.OrdinalEncoder(cols=[])\n",
    "X_train = encoder.fit_transform(X_train)\n",
    "X_test = encoder.transform(X_test)"
   ]
  },
  {
   "cell_type": "code",
   "execution_count": 87,
   "id": "c1a965dd",
   "metadata": {},
   "outputs": [
    {
     "name": "stdout",
     "output_type": "stream",
     "text": [
      "Model accuracy score with 10 decision-trees : 0.9821\n"
     ]
    }
   ],
   "source": [
    "# import Random Forest classifier\n",
    "\n",
    "from sklearn.ensemble import RandomForestClassifier\n",
    "from sklearn.metrics import accuracy_score\n",
    "\n",
    "# instantiate the classifier \n",
    "rfc = RandomForestClassifier(random_state=0)\n",
    "\n",
    "# fit the model\n",
    "rfc.fit(X_train, y_train)\n",
    "\n",
    "# Predict the Test set results\n",
    "y_pred = rfc.predict(X_test)\n",
    "\n",
    "# Check accuracy score \n",
    "print('Model accuracy score with 10 decision-trees : {0:0.4f}'. format(accuracy_score(y_test, y_pred)))"
   ]
  },
  {
   "cell_type": "code",
   "execution_count": 85,
   "id": "72f3e8f5",
   "metadata": {},
   "outputs": [
    {
     "name": "stdout",
     "output_type": "stream",
     "text": [
      "Model accuracy score with 100 decision-trees : 0.9963\n"
     ]
    }
   ],
   "source": [
    "# instantiate the classifier with n_estimators = 100\n",
    "rfc_100 = RandomForestClassifier(n_estimators=100, random_state=0)\n",
    "\n",
    "# fit the model to the training set\n",
    "rfc_100.fit(X_train, y_train)\n",
    "\n",
    "# Predict on the test set results\n",
    "y_pred_100 = rfc_100.predict(X_test)\n",
    "\n",
    "# Check accuracy score \n",
    "print('Model accuracy score with 100 decision-trees : {0:0.4f}'. format(accuracy_score(y_test, y_pred_100)))"
   ]
  },
  {
   "cell_type": "code",
   "execution_count": 88,
   "id": "883e4e8e",
   "metadata": {},
   "outputs": [
    {
     "data": {
      "text/html": [
       "<style>#sk-container-id-5 {color: black;background-color: white;}#sk-container-id-5 pre{padding: 0;}#sk-container-id-5 div.sk-toggleable {background-color: white;}#sk-container-id-5 label.sk-toggleable__label {cursor: pointer;display: block;width: 100%;margin-bottom: 0;padding: 0.3em;box-sizing: border-box;text-align: center;}#sk-container-id-5 label.sk-toggleable__label-arrow:before {content: \"▸\";float: left;margin-right: 0.25em;color: #696969;}#sk-container-id-5 label.sk-toggleable__label-arrow:hover:before {color: black;}#sk-container-id-5 div.sk-estimator:hover label.sk-toggleable__label-arrow:before {color: black;}#sk-container-id-5 div.sk-toggleable__content {max-height: 0;max-width: 0;overflow: hidden;text-align: left;background-color: #f0f8ff;}#sk-container-id-5 div.sk-toggleable__content pre {margin: 0.2em;color: black;border-radius: 0.25em;background-color: #f0f8ff;}#sk-container-id-5 input.sk-toggleable__control:checked~div.sk-toggleable__content {max-height: 200px;max-width: 100%;overflow: auto;}#sk-container-id-5 input.sk-toggleable__control:checked~label.sk-toggleable__label-arrow:before {content: \"▾\";}#sk-container-id-5 div.sk-estimator input.sk-toggleable__control:checked~label.sk-toggleable__label {background-color: #d4ebff;}#sk-container-id-5 div.sk-label input.sk-toggleable__control:checked~label.sk-toggleable__label {background-color: #d4ebff;}#sk-container-id-5 input.sk-hidden--visually {border: 0;clip: rect(1px 1px 1px 1px);clip: rect(1px, 1px, 1px, 1px);height: 1px;margin: -1px;overflow: hidden;padding: 0;position: absolute;width: 1px;}#sk-container-id-5 div.sk-estimator {font-family: monospace;background-color: #f0f8ff;border: 1px dotted black;border-radius: 0.25em;box-sizing: border-box;margin-bottom: 0.5em;}#sk-container-id-5 div.sk-estimator:hover {background-color: #d4ebff;}#sk-container-id-5 div.sk-parallel-item::after {content: \"\";width: 100%;border-bottom: 1px solid gray;flex-grow: 1;}#sk-container-id-5 div.sk-label:hover label.sk-toggleable__label {background-color: #d4ebff;}#sk-container-id-5 div.sk-serial::before {content: \"\";position: absolute;border-left: 1px solid gray;box-sizing: border-box;top: 0;bottom: 0;left: 50%;z-index: 0;}#sk-container-id-5 div.sk-serial {display: flex;flex-direction: column;align-items: center;background-color: white;padding-right: 0.2em;padding-left: 0.2em;position: relative;}#sk-container-id-5 div.sk-item {position: relative;z-index: 1;}#sk-container-id-5 div.sk-parallel {display: flex;align-items: stretch;justify-content: center;background-color: white;position: relative;}#sk-container-id-5 div.sk-item::before, #sk-container-id-5 div.sk-parallel-item::before {content: \"\";position: absolute;border-left: 1px solid gray;box-sizing: border-box;top: 0;bottom: 0;left: 50%;z-index: -1;}#sk-container-id-5 div.sk-parallel-item {display: flex;flex-direction: column;z-index: 1;position: relative;background-color: white;}#sk-container-id-5 div.sk-parallel-item:first-child::after {align-self: flex-end;width: 50%;}#sk-container-id-5 div.sk-parallel-item:last-child::after {align-self: flex-start;width: 50%;}#sk-container-id-5 div.sk-parallel-item:only-child::after {width: 0;}#sk-container-id-5 div.sk-dashed-wrapped {border: 1px dashed gray;margin: 0 0.4em 0.5em 0.4em;box-sizing: border-box;padding-bottom: 0.4em;background-color: white;}#sk-container-id-5 div.sk-label label {font-family: monospace;font-weight: bold;display: inline-block;line-height: 1.2em;}#sk-container-id-5 div.sk-label-container {text-align: center;}#sk-container-id-5 div.sk-container {/* jupyter's `normalize.less` sets `[hidden] { display: none; }` but bootstrap.min.css set `[hidden] { display: none !important; }` so we also need the `!important` here to be able to override the default hidden behavior on the sphinx rendered scikit-learn.org. See: https://github.com/scikit-learn/scikit-learn/issues/21755 */display: inline-block !important;position: relative;}#sk-container-id-5 div.sk-text-repr-fallback {display: none;}</style><div id=\"sk-container-id-5\" class=\"sk-top-container\"><div class=\"sk-text-repr-fallback\"><pre>RandomForestClassifier(random_state=0)</pre><b>In a Jupyter environment, please rerun this cell to show the HTML representation or trust the notebook. <br />On GitHub, the HTML representation is unable to render, please try loading this page with nbviewer.org.</b></div><div class=\"sk-container\" hidden><div class=\"sk-item\"><div class=\"sk-estimator sk-toggleable\"><input class=\"sk-toggleable__control sk-hidden--visually\" id=\"sk-estimator-id-5\" type=\"checkbox\" checked><label for=\"sk-estimator-id-5\" class=\"sk-toggleable__label sk-toggleable__label-arrow\">RandomForestClassifier</label><div class=\"sk-toggleable__content\"><pre>RandomForestClassifier(random_state=0)</pre></div></div></div></div></div>"
      ],
      "text/plain": [
       "RandomForestClassifier(random_state=0)"
      ]
     },
     "execution_count": 88,
     "metadata": {},
     "output_type": "execute_result"
    }
   ],
   "source": [
    "# create the classifier with n_estimators = 100\n",
    "clf = RandomForestClassifier(n_estimators=100, random_state=0)\n",
    "# fit the model to the training set\n",
    "clf.fit(X_train, y_train)"
   ]
  },
  {
   "cell_type": "code",
   "execution_count": 89,
   "id": "549bd017",
   "metadata": {},
   "outputs": [
    {
     "name": "stdout",
     "output_type": "stream",
     "text": [
      "Confusion matrix\n",
      "\n",
      " [[ 125    1    6    0    0    5]\n",
      " [   2  122    0    1    3    6]\n",
      " [   2    3  550    0    2    3]\n",
      " [   0    0    2  840    1    4]\n",
      " [   0    2    1    2  283    6]\n",
      " [   1    2    0    1    3 1321]]\n"
     ]
    }
   ],
   "source": [
    "# Print the Confusion Matrix and slice it into four pieces\n",
    "from sklearn.metrics import confusion_matrix\n",
    "cm = confusion_matrix(y_test, y_pred)\n",
    "print('Confusion matrix\\n\\n', cm)"
   ]
  },
  {
   "cell_type": "code",
   "execution_count": 90,
   "id": "84ab0ac3",
   "metadata": {},
   "outputs": [
    {
     "name": "stdout",
     "output_type": "stream",
     "text": [
      "[[ 125    1    6    0    0    5]\n",
      " [   2  122    0    1    3    6]\n",
      " [   2    3  550    0    2    3]\n",
      " [   0    0    2  840    1    4]\n",
      " [   0    2    1    2  283    6]\n",
      " [   1    2    0    1    3 1321]]\n",
      "\n",
      "\n",
      "Clock as Clock =  125  percent =  0.9124087591240876\n",
      "Clock as Ezviz =  1  percent =  0.0072992700729927005\n",
      "Clock as D3D =  6  percent =  0.043795620437956206\n",
      "Clock as Netatmo =  0  percent =  0.0\n",
      "Clock as Canary =  0  percent =  0.0\n",
      "Clock as Bulb =  5  percent =  0.0364963503649635\n",
      "\n",
      "\n",
      "Ezviz as Clock =  2  percent =  0.014925373134328358\n",
      "Ezviz as Ezviz =  122  percent =  0.9104477611940298\n",
      "Ezviz as D3D = 0  percent =  0.0\n",
      "Ezviz as Netatmo =  1  percent =  0.007462686567164179\n",
      "Ezviz as Canary =  3  percent =  0.022388059701492536\n",
      "Ezviz as Bulb =  6  percent =  0.04477611940298507\n",
      "\n",
      "\n",
      "D3D as Clock =  2  percent =  0.0035714285714285713\n",
      "D3D as Ezviz =  3  percent =  0.005357142857142857\n",
      "D3D as D3D =  550  percent =  0.9821428571428571\n",
      "D3D as Netatmo =  0  percent =  0.0\n",
      "D3D as Canary =  2  percent =  0.0035714285714285713\n",
      "D3D as Bulb =  3  percent =  0.005357142857142857\n",
      "\n",
      "\n",
      "Netatmo as Clock =  0  percent =  0.0\n",
      "Netatmo as Ezviz =  0  percent =  0.0\n",
      "Netatmo as D3D =  2  percent =  0.0023612750885478157\n",
      "Netatmo as Netatmo =  840  percent =  0.9917355371900827\n",
      "Netatmo as Canary =  1  percent =  0.0011806375442739079\n",
      "Netatmo as Bulb =  4  percent =  0.004722550177095631\n",
      "\n",
      "\n",
      "Canary as Clock =  0  percent =  0.0\n",
      "Canary as Ezviz =  2  percent =  0.006802721088435374\n",
      "Canary as D3D =  1  percent =  0.003401360544217687\n",
      "Canary as Netatmo =  2  percent =  0.006802721088435374\n",
      "Canary as Canary =  283  percent =  0.9625850340136054\n",
      "Canary as Bulb =  6  percent =  0.02040816326530612\n",
      "\n",
      "\n",
      "Bulb as Clock =  1  percent =  0.0007530120481927711\n",
      "Bulb as Ezviz =  2  percent =  0.0015060240963855422\n",
      "Bulb as D3D =  0  percent =  0.0\n",
      "Bulb as Netatmo =  1  percent =  0.0007530120481927711\n",
      "Bulb as Canary =  3  percent =  0.002259036144578313\n",
      "Bulb as Bulb =  1321  percent =  0.9947289156626506\n"
     ]
    }
   ],
   "source": [
    "conf_mat = metrics.confusion_matrix(y_test, y_pred, labels=uniqueLabels)\n",
    "#[i][j] ==> knwon to be in group i and predicted as group j\n",
    "print(conf_mat)\n",
    "print('\\n')\n",
    "print('Clock as Clock = ',conf_mat[0][0],' percent = ', (conf_mat[0][0]/(conf_mat[0][0]+conf_mat[0][1]+conf_mat[0][2]+conf_mat[0][3]+conf_mat[0][4]+conf_mat[0][5])))\n",
    "print('Clock as Ezviz = ',conf_mat[0][1],' percent = ', (conf_mat[0][1]/(conf_mat[0][0]+conf_mat[0][1]+conf_mat[0][2]+conf_mat[0][3]+conf_mat[0][4]+conf_mat[0][5])))\n",
    "print('Clock as D3D = ',conf_mat[0][2],' percent = ', (conf_mat[0][2]/(conf_mat[0][0]+conf_mat[0][1]+conf_mat[0][2]+conf_mat[0][3]+conf_mat[0][4]+conf_mat[0][5])))\n",
    "print('Clock as Netatmo = ',conf_mat[0][3],' percent = ', (conf_mat[0][3]/(conf_mat[0][0]+conf_mat[0][1]+conf_mat[0][2]+conf_mat[0][3]+conf_mat[0][4]+conf_mat[0][5])))\n",
    "print('Clock as Canary = ',conf_mat[0][4],' percent = ', (conf_mat[0][4]/(conf_mat[0][0]+conf_mat[0][1]+conf_mat[0][2]+conf_mat[0][3]+conf_mat[0][4]+conf_mat[0][5])))\n",
    "print('Clock as Bulb = ',conf_mat[0][5],' percent = ', (conf_mat[0][5]/(conf_mat[0][0]+conf_mat[0][1]+conf_mat[0][2]+conf_mat[0][3]+conf_mat[0][4]+conf_mat[0][5])))\n",
    "print('\\n')\n",
    "\n",
    "print('Ezviz as Clock = ',conf_mat[1][0],' percent = ', (conf_mat[1][0]/(conf_mat[1][0]+conf_mat[1][1]+conf_mat[1][2]+conf_mat[1][3]+conf_mat[1][4]+conf_mat[1][5])))\n",
    "print('Ezviz as Ezviz = ',conf_mat[1][1],' percent = ', (conf_mat[1][1]/(conf_mat[1][0]+conf_mat[1][1]+conf_mat[1][2]+conf_mat[1][3]+conf_mat[1][4]+conf_mat[1][5])))\n",
    "print('Ezviz as D3D =',conf_mat[1][2],' percent = ', (conf_mat[1][2]/(conf_mat[1][0]+conf_mat[1][1]+conf_mat[1][2]+conf_mat[1][3]+conf_mat[1][4]+conf_mat[1][5])))\n",
    "print('Ezviz as Netatmo = ',conf_mat[1][3],' percent = ', (conf_mat[1][3]/(conf_mat[1][0]+conf_mat[1][1]+conf_mat[1][2]+conf_mat[1][3]+conf_mat[1][4]+conf_mat[1][5])))\n",
    "print('Ezviz as Canary = ',conf_mat[1][4],' percent = ', (conf_mat[1][4]/(conf_mat[1][0]+conf_mat[1][1]+conf_mat[1][2]+conf_mat[1][3]+conf_mat[1][4]+conf_mat[1][5])))\n",
    "print('Ezviz as Bulb = ',conf_mat[1][5],' percent = ', (conf_mat[1][5]/(conf_mat[1][0]+conf_mat[1][1]+conf_mat[1][2]+conf_mat[1][3]+conf_mat[1][4]+conf_mat[1][5])))\n",
    "print('\\n')\n",
    "\n",
    "print('D3D as Clock = ',conf_mat[2][0],' percent = ', (conf_mat[2][0]/(conf_mat[2][0]+conf_mat[2][1]+conf_mat[2][2]+conf_mat[2][3]+conf_mat[2][4]+conf_mat[2][5])))\n",
    "print('D3D as Ezviz = ',conf_mat[2][1],' percent = ', (conf_mat[2][1]/(conf_mat[2][0]+conf_mat[2][1]+conf_mat[2][2]+conf_mat[2][3]+conf_mat[2][4]+conf_mat[2][5])))\n",
    "print('D3D as D3D = ',conf_mat[2][2],' percent = ', (conf_mat[2][2]/(conf_mat[2][0]+conf_mat[2][1]+conf_mat[2][2]+conf_mat[2][3]+conf_mat[2][4]+conf_mat[2][5])))\n",
    "print('D3D as Netatmo = ',conf_mat[2][3],' percent = ', (conf_mat[2][3]/(conf_mat[2][0]+conf_mat[2][1]+conf_mat[2][2]+conf_mat[2][3]+conf_mat[2][4]+conf_mat[2][5])))\n",
    "print('D3D as Canary = ',conf_mat[2][4],' percent = ', (conf_mat[2][4]/(conf_mat[2][0]+conf_mat[2][1]+conf_mat[2][2]+conf_mat[2][3]+conf_mat[2][4]+conf_mat[2][5])))\n",
    "print('D3D as Bulb = ',conf_mat[2][5],' percent = ', (conf_mat[2][5]/(conf_mat[2][0]+conf_mat[2][1]+conf_mat[2][2]+conf_mat[2][3]+conf_mat[2][4]+conf_mat[2][5])))\n",
    "print('\\n')\n",
    "\n",
    "print('Netatmo as Clock = ',conf_mat[3][0],' percent = ', (conf_mat[3][0]/(conf_mat[3][0]+conf_mat[3][1]+conf_mat[3][2]+conf_mat[3][3]+conf_mat[3][4]+conf_mat[3][5])))\n",
    "print('Netatmo as Ezviz = ',conf_mat[3][1],' percent = ', (conf_mat[3][1]/(conf_mat[3][0]+conf_mat[3][1]+conf_mat[3][2]+conf_mat[3][3]+conf_mat[3][4]+conf_mat[3][5])))\n",
    "print('Netatmo as D3D = ',conf_mat[3][2],' percent = ', (conf_mat[3][2]/(conf_mat[3][0]+conf_mat[3][1]+conf_mat[3][2]+conf_mat[3][3]+conf_mat[3][4]+conf_mat[3][5])))\n",
    "print('Netatmo as Netatmo = ',conf_mat[3][3],' percent = ', (conf_mat[3][3]/(conf_mat[3][0]+conf_mat[3][1]+conf_mat[3][2]+conf_mat[3][3]+conf_mat[3][4]+conf_mat[3][5])))\n",
    "print('Netatmo as Canary = ',conf_mat[3][4],' percent = ', (conf_mat[3][4]/(conf_mat[3][0]+conf_mat[3][1]+conf_mat[3][2]+conf_mat[3][3]+conf_mat[3][4]+conf_mat[3][5])))\n",
    "print('Netatmo as Bulb = ',conf_mat[3][5],' percent = ', (conf_mat[3][5]/(conf_mat[3][0]+conf_mat[3][1]+conf_mat[3][2]+conf_mat[3][3]+conf_mat[3][4]+conf_mat[3][5])))\n",
    "print('\\n')\n",
    "\n",
    "print('Canary as Clock = ',conf_mat[4][0],' percent = ', (conf_mat[4][0]/(conf_mat[4][0]+conf_mat[4][1]+conf_mat[4][2]+conf_mat[4][3]+conf_mat[4][4]+conf_mat[4][5])))\n",
    "print('Canary as Ezviz = ',conf_mat[4][1],' percent = ', (conf_mat[4][1]/(conf_mat[4][0]+conf_mat[4][1]+conf_mat[4][2]+conf_mat[4][3]+conf_mat[4][4]+conf_mat[4][5])))\n",
    "print('Canary as D3D = ',conf_mat[4][2],' percent = ', (conf_mat[4][2]/(conf_mat[4][0]+conf_mat[4][1]+conf_mat[4][2]+conf_mat[4][3]+conf_mat[4][4]+conf_mat[4][5])))\n",
    "print('Canary as Netatmo = ',conf_mat[4][3],' percent = ', (conf_mat[4][3]/(conf_mat[4][0]+conf_mat[4][1]+conf_mat[4][2]+conf_mat[4][3]+conf_mat[4][4]+conf_mat[4][5])))\n",
    "print('Canary as Canary = ',conf_mat[4][4],' percent = ', (conf_mat[4][4]/(conf_mat[4][0]+conf_mat[4][1]+conf_mat[4][2]+conf_mat[4][3]+conf_mat[4][4]+conf_mat[4][5])))\n",
    "print('Canary as Bulb = ',conf_mat[4][5],' percent = ', (conf_mat[4][5]/(conf_mat[4][0]+conf_mat[4][1]+conf_mat[4][2]+conf_mat[4][3]+conf_mat[4][4]+conf_mat[4][5])))\n",
    "print('\\n')\n",
    "\n",
    "print('Bulb as Clock = ',conf_mat[5][0],' percent = ', (conf_mat[5][0]/(conf_mat[5][0]+conf_mat[5][1]+conf_mat[5][2]+conf_mat[5][3]+conf_mat[5][4]+conf_mat[5][5])))\n",
    "print('Bulb as Ezviz = ',conf_mat[5][1],' percent = ', (conf_mat[5][1]/(conf_mat[5][0]+conf_mat[5][1]+conf_mat[5][2]+conf_mat[5][3]+conf_mat[5][4]+conf_mat[5][5])))\n",
    "print('Bulb as D3D = ',conf_mat[5][2],' percent = ', (conf_mat[5][2]/(conf_mat[5][0]+conf_mat[5][1]+conf_mat[5][2]+conf_mat[5][3]+conf_mat[5][4]+conf_mat[5][5])))\n",
    "print('Bulb as Netatmo = ',conf_mat[5][3],' percent = ', (conf_mat[5][3]/(conf_mat[5][0]+conf_mat[5][1]+conf_mat[5][2]+conf_mat[5][3]+conf_mat[5][4]+conf_mat[5][5])))\n",
    "print('Bulb as Canary = ',conf_mat[5][4],' percent = ', (conf_mat[5][4]/(conf_mat[5][0]+conf_mat[5][1]+conf_mat[5][2]+conf_mat[5][3]+conf_mat[5][4]+conf_mat[5][5])))\n",
    "print('Bulb as Bulb = ',conf_mat[5][5],' percent = ', (conf_mat[5][5]/(conf_mat[5][0]+conf_mat[5][1]+conf_mat[5][2]+conf_mat[5][3]+conf_mat[5][4]+conf_mat[5][5])))"
   ]
  },
  {
   "cell_type": "code",
   "execution_count": 91,
   "id": "e7a9c529",
   "metadata": {},
   "outputs": [
    {
     "name": "stdout",
     "output_type": "stream",
     "text": [
      "                  precision    recall  f1-score   support\n",
      "\n",
      "IPCam_AlarmClock       0.96      0.91      0.94       137\n",
      "    IPCam_Canary       0.94      0.91      0.92       134\n",
      "       IPCam_D3D       0.98      0.98      0.98       560\n",
      "     IPCam_Ezviz       1.00      0.99      0.99       847\n",
      "   IPCam_Netatmo       0.97      0.96      0.97       294\n",
      "      IPCam_V380       0.98      0.99      0.99      1328\n",
      "\n",
      "        accuracy                           0.98      3300\n",
      "       macro avg       0.97      0.96      0.97      3300\n",
      "    weighted avg       0.98      0.98      0.98      3300\n",
      "\n"
     ]
    }
   ],
   "source": [
    "from sklearn.metrics import classification_report\n",
    "print(classification_report(y_test, y_pred))"
   ]
  },
  {
   "cell_type": "markdown",
   "id": "5a5f1e52",
   "metadata": {},
   "source": [
    "XGBoost Classifier"
   ]
  },
  {
   "cell_type": "code",
   "execution_count": 97,
   "id": "d723b812",
   "metadata": {},
   "outputs": [
    {
     "name": "stdout",
     "output_type": "stream",
     "text": [
      "['0', 'IPCam_Canary', 'IPCam_D3D', 'IPCam_Ezviz', 'IPCam_Netatmo', 'IPCam_V380']\n"
     ]
    }
   ],
   "source": [
    "ipcamDF['Label'].replace('IPCam_AlarmClock','0',inplace=True)\n",
    "#uniqueLabels = list(ipcamDF['Label'].unique())\n",
    "#print(uniqueLabels)\n",
    "print(list(ipcamDF['Label'].unique()))"
   ]
  },
  {
   "cell_type": "code",
   "execution_count": 98,
   "id": "918422fb",
   "metadata": {},
   "outputs": [
    {
     "name": "stdout",
     "output_type": "stream",
     "text": [
      "['0', '1', 'IPCam_D3D', 'IPCam_Ezviz', 'IPCam_Netatmo', 'IPCam_V380']\n"
     ]
    }
   ],
   "source": [
    "ipcamDF['Label'].replace('IPCam_Canary','1',inplace=True)\n",
    "#uniqueLabels = list(ipcamDF['Label'].unique())\n",
    "#print(uniqueLabels)\n",
    "print(list(ipcamDF['Label'].unique()))"
   ]
  },
  {
   "cell_type": "code",
   "execution_count": 99,
   "id": "84be6f11",
   "metadata": {},
   "outputs": [
    {
     "name": "stdout",
     "output_type": "stream",
     "text": [
      "['0', '1', '2', 'IPCam_Ezviz', 'IPCam_Netatmo', 'IPCam_V380']\n"
     ]
    }
   ],
   "source": [
    "ipcamDF['Label'].replace('IPCam_D3D','2',inplace=True)\n",
    "#uniqueLabels = list(ipcamDF['Label'].unique())\n",
    "#print(uniqueLabels)\n",
    "print(list(ipcamDF['Label'].unique()))"
   ]
  },
  {
   "cell_type": "code",
   "execution_count": 100,
   "id": "50df0445",
   "metadata": {},
   "outputs": [
    {
     "name": "stdout",
     "output_type": "stream",
     "text": [
      "['0', '1', '2', '3', 'IPCam_Netatmo', 'IPCam_V380']\n"
     ]
    }
   ],
   "source": [
    "ipcamDF['Label'].replace('IPCam_Ezviz','3',inplace=True)\n",
    "#uniqueLabels = list(ipcamDF['Label'].unique())\n",
    "#print(uniqueLabels)\n",
    "print(list(ipcamDF['Label'].unique()))"
   ]
  },
  {
   "cell_type": "code",
   "execution_count": 101,
   "id": "b551d629",
   "metadata": {},
   "outputs": [
    {
     "name": "stdout",
     "output_type": "stream",
     "text": [
      "['0', '1', '2', '3', '4', 'IPCam_V380']\n"
     ]
    }
   ],
   "source": [
    "ipcamDF['Label'].replace('IPCam_Netatmo','4',inplace=True)\n",
    "#uniqueLabels = list(ipcamDF['Label'].unique())\n",
    "#print(uniqueLabels)\n",
    "print(list(ipcamDF['Label'].unique()))"
   ]
  },
  {
   "cell_type": "code",
   "execution_count": 102,
   "id": "717958bb",
   "metadata": {},
   "outputs": [
    {
     "name": "stdout",
     "output_type": "stream",
     "text": [
      "['0', '1', '2', '3', '4', '5']\n"
     ]
    }
   ],
   "source": [
    "ipcamDF['Label'].replace('IPCam_V380','5',inplace=True)\n",
    "#uniqueLabels = list(ipcamDF['Label'].unique())\n",
    "#print(uniqueLabels)\n",
    "print(list(ipcamDF['Label'].unique()))"
   ]
  },
  {
   "cell_type": "code",
   "execution_count": 103,
   "id": "20e7f670",
   "metadata": {},
   "outputs": [
    {
     "name": "stdout",
     "output_type": "stream",
     "text": [
      "(10000, 84)\n"
     ]
    }
   ],
   "source": [
    "######### creating master DF\n",
    "dfListAll = [ipcamDF]\n",
    "masterDF = pd.concat(dfListAll)\n",
    "print(masterDF.shape)"
   ]
  },
  {
   "cell_type": "code",
   "execution_count": 104,
   "id": "a152d17c",
   "metadata": {},
   "outputs": [
    {
     "name": "stdout",
     "output_type": "stream",
     "text": [
      "['0', '1', '2', '3', '4', '5']\n"
     ]
    }
   ],
   "source": [
    "uniqueLabels = list(masterDF['Label'].unique())\n",
    "print(uniqueLabels)"
   ]
  },
  {
   "cell_type": "code",
   "execution_count": 105,
   "id": "42af0fc4",
   "metadata": {},
   "outputs": [
    {
     "name": "stdout",
     "output_type": "stream",
     "text": [
      "pruneddata size:  (10000, 77)\n",
      "['Flow Duration', 'Tot Fwd Pkts', 'Tot Bwd Pkts', 'TotLen Fwd Pkts', 'TotLen Bwd Pkts', 'Fwd Pkt Len Max', 'Fwd Pkt Len Min', 'Fwd Pkt Len Mean', 'Fwd Pkt Len Std', 'Bwd Pkt Len Max', 'Bwd Pkt Len Min', 'Bwd Pkt Len Mean', 'Bwd Pkt Len Std', 'Flow Byts/s', 'Flow Pkts/s', 'Flow IAT Mean', 'Flow IAT Std', 'Flow IAT Max', 'Flow IAT Min', 'Fwd IAT Tot', 'Fwd IAT Mean', 'Fwd IAT Std', 'Fwd IAT Max', 'Fwd IAT Min', 'Bwd IAT Tot', 'Bwd IAT Mean', 'Bwd IAT Std', 'Bwd IAT Max', 'Bwd IAT Min', 'Fwd PSH Flags', 'Bwd PSH Flags', 'Fwd URG Flags', 'Bwd URG Flags', 'Fwd Header Len', 'Bwd Header Len', 'Fwd Pkts/s', 'Bwd Pkts/s', 'Pkt Len Min', 'Pkt Len Max', 'Pkt Len Mean', 'Pkt Len Std', 'Pkt Len Var', 'FIN Flag Cnt', 'SYN Flag Cnt', 'RST Flag Cnt', 'PSH Flag Cnt', 'ACK Flag Cnt', 'URG Flag Cnt', 'CWE Flag Count', 'ECE Flag Cnt', 'Down/Up Ratio', 'Pkt Size Avg', 'Fwd Seg Size Avg', 'Bwd Seg Size Avg', 'Fwd Byts/b Avg', 'Fwd Pkts/b Avg', 'Fwd Blk Rate Avg', 'Bwd Byts/b Avg', 'Bwd Pkts/b Avg', 'Bwd Blk Rate Avg', 'Subflow Fwd Pkts', 'Subflow Fwd Byts', 'Subflow Bwd Pkts', 'Subflow Bwd Byts', 'Init Fwd Win Byts', 'Init Bwd Win Byts', 'Fwd Act Data Pkts', 'Fwd Seg Size Min', 'Active Mean', 'Active Std', 'Active Max', 'Active Min', 'Idle Mean', 'Idle Std', 'Idle Max', 'Idle Min', 'Label']\n"
     ]
    }
   ],
   "source": [
    "#discard all those columns that helps in uniquely identifying a flow\n",
    "masterPruned = masterDF.iloc[:,np.arange(7,84)]\n",
    "print('pruneddata size: ', masterPruned.shape)\n",
    "ftList = list(masterPruned.columns)\n",
    "print(ftList)"
   ]
  },
  {
   "cell_type": "code",
   "execution_count": 106,
   "id": "2bd808bb",
   "metadata": {},
   "outputs": [
    {
     "data": {
      "text/plain": [
       "(10000, 77)"
      ]
     },
     "execution_count": 106,
     "metadata": {},
     "output_type": "execute_result"
    }
   ],
   "source": [
    "#discard those flows that has 0 flow duration\n",
    "masterSelected = masterPruned.drop(masterPruned[masterPruned['Flow Duration']==0].index)\n",
    "masterSelected.shape"
   ]
  },
  {
   "cell_type": "code",
   "execution_count": 107,
   "id": "5d98d1a0",
   "metadata": {},
   "outputs": [
    {
     "name": "stdout",
     "output_type": "stream",
     "text": [
      "[]\n"
     ]
    }
   ],
   "source": [
    "#identify those columns that has non-numeric values\n",
    "typesList = masterSelected.dtypes\n",
    "ftCount = len(ftList)\n",
    "nonNumericFtList = list()\n",
    "for fi in range(ftCount):\n",
    "    if ftList[fi] != 'Label' and typesList[fi] != 'int64' and typesList[fi] != 'float64':\n",
    "        print(ftList[fi], '  ', typesList[fi])\n",
    "        nonNumericFtList.append(ftList[fi])\n",
    "print(nonNumericFtList)"
   ]
  },
  {
   "cell_type": "code",
   "execution_count": 108,
   "id": "b9d8da3c",
   "metadata": {},
   "outputs": [],
   "source": [
    "for ft in nonNumericFtList:\n",
    "    masterSelected[ft] = pd.to_numeric(masterSelected[ft], errors='coerce')"
   ]
  },
  {
   "cell_type": "code",
   "execution_count": 109,
   "id": "0788b3f9",
   "metadata": {},
   "outputs": [
    {
     "name": "stdout",
     "output_type": "stream",
     "text": [
      "[]\n"
     ]
    }
   ],
   "source": [
    "print(nonNumericFtList)\n",
    "for ft in nonNumericFtList:\n",
    "    countNaN = masterSelected[ft].isna().sum()\n",
    "    print('converted to numeric ft: ', ft, '  countNaN: ', countNaN)"
   ]
  },
  {
   "cell_type": "code",
   "execution_count": 110,
   "id": "e452f3fb",
   "metadata": {},
   "outputs": [
    {
     "name": "stdout",
     "output_type": "stream",
     "text": [
      "count inf:  0\n"
     ]
    }
   ],
   "source": [
    "number_inf = masterSelected[masterSelected == np.inf].count().sum()\n",
    "print('count inf: ',number_inf)"
   ]
  },
  {
   "cell_type": "code",
   "execution_count": 111,
   "id": "64c8ee3e",
   "metadata": {},
   "outputs": [
    {
     "name": "stdout",
     "output_type": "stream",
     "text": [
      "[]\n"
     ]
    }
   ],
   "source": [
    "typesList = masterSelected.dtypes\n",
    "ftCount = len(ftList)\n",
    "nonNumericFtList = list()\n",
    "for fi in range(ftCount):\n",
    "    if ftList[fi] != 'Label' and typesList[fi] != 'int64' and typesList[fi] != 'float64':\n",
    "        print(ftList[fi], '  ', typesList[fi])\n",
    "        nonNumericFtList.append(ftList[fi])\n",
    "print(nonNumericFtList)"
   ]
  },
  {
   "cell_type": "code",
   "execution_count": 112,
   "id": "1cdefef4",
   "metadata": {},
   "outputs": [
    {
     "name": "stdout",
     "output_type": "stream",
     "text": [
      "count:  1  ft:  Fwd PSH Flags  ftmin:  0  ftMax:  0\n",
      "count:  2  ft:  Fwd URG Flags  ftmin:  0  ftMax:  0\n",
      "count:  3  ft:  Bwd URG Flags  ftmin:  0  ftMax:  0\n",
      "count:  4  ft:  URG Flag Cnt  ftmin:  0  ftMax:  0\n",
      "count:  5  ft:  CWE Flag Count  ftmin:  0  ftMax:  0\n",
      "count:  6  ft:  ECE Flag Cnt  ftmin:  0  ftMax:  0\n",
      "count:  7  ft:  Fwd Byts/b Avg  ftmin:  0  ftMax:  0\n",
      "count:  8  ft:  Fwd Pkts/b Avg  ftmin:  0  ftMax:  0\n",
      "count:  9  ft:  Fwd Blk Rate Avg  ftmin:  0  ftMax:  0\n",
      "count:  10  ft:  Bwd Byts/b Avg  ftmin:  0  ftMax:  0\n",
      "count:  11  ft:  Bwd Pkts/b Avg  ftmin:  0  ftMax:  0\n",
      "count:  12  ft:  Bwd Blk Rate Avg  ftmin:  0  ftMax:  0\n",
      "count:  13  ft:  Init Fwd Win Byts  ftmin:  -1  ftMax:  -1\n",
      "count:  14  ft:  Fwd Seg Size Min  ftmin:  0  ftMax:  0\n",
      "['Fwd PSH Flags', 'Fwd URG Flags', 'Bwd URG Flags', 'URG Flag Cnt', 'CWE Flag Count', 'ECE Flag Cnt', 'Fwd Byts/b Avg', 'Fwd Pkts/b Avg', 'Fwd Blk Rate Avg', 'Bwd Byts/b Avg', 'Bwd Pkts/b Avg', 'Bwd Blk Rate Avg', 'Init Fwd Win Byts', 'Fwd Seg Size Min']\n"
     ]
    }
   ],
   "source": [
    "#identify those columns that has 0 std\n",
    "count = 0\n",
    "staticFtList = list()\n",
    "for ft in ftList:\n",
    "    if ft == 'Label':\n",
    "        continue\n",
    "    #print('ft : ', ft)\n",
    "    ftMin = masterSelected[ft].min()\n",
    "    ftMax = masterSelected[ft].max()\n",
    "    #std = masterPruned[ft].std()\n",
    "    \n",
    "    if ftMin == ftMax:\n",
    "        count += 1\n",
    "        print('count: ', count, ' ft: ', ft, ' ftmin: ', ftMin, ' ftMax: ', ftMax)\n",
    "        staticFtList.append(ft)\n",
    "print(staticFtList)"
   ]
  },
  {
   "cell_type": "code",
   "execution_count": 113,
   "id": "d112c79a",
   "metadata": {},
   "outputs": [
    {
     "name": "stdout",
     "output_type": "stream",
     "text": [
      "before droping column:  (10000, 77)\n",
      "after droping column:  (10000, 63)\n"
     ]
    }
   ],
   "source": [
    "#remove those columns that have 0 std\n",
    "print('before droping column: ', masterSelected.shape)\n",
    "for ft in staticFtList:\n",
    "    masterSelected.drop([ft], axis=1,inplace=True)\n",
    "print('after droping column: ', masterSelected.shape)    "
   ]
  },
  {
   "cell_type": "code",
   "execution_count": 114,
   "id": "c2b3dcbc",
   "metadata": {},
   "outputs": [
    {
     "name": "stdout",
     "output_type": "stream",
     "text": [
      "63\n",
      "['Flow Duration', 'Tot Fwd Pkts', 'Tot Bwd Pkts', 'TotLen Fwd Pkts', 'TotLen Bwd Pkts', 'Fwd Pkt Len Max', 'Fwd Pkt Len Min', 'Fwd Pkt Len Mean', 'Fwd Pkt Len Std', 'Bwd Pkt Len Max', 'Bwd Pkt Len Min', 'Bwd Pkt Len Mean', 'Bwd Pkt Len Std', 'Flow Byts/s', 'Flow Pkts/s', 'Flow IAT Mean', 'Flow IAT Std', 'Flow IAT Max', 'Flow IAT Min', 'Fwd IAT Tot', 'Fwd IAT Mean', 'Fwd IAT Std', 'Fwd IAT Max', 'Fwd IAT Min', 'Bwd IAT Tot', 'Bwd IAT Mean', 'Bwd IAT Std', 'Bwd IAT Max', 'Bwd IAT Min', 'Bwd PSH Flags', 'Fwd Header Len', 'Bwd Header Len', 'Fwd Pkts/s', 'Bwd Pkts/s', 'Pkt Len Min', 'Pkt Len Max', 'Pkt Len Mean', 'Pkt Len Std', 'Pkt Len Var', 'FIN Flag Cnt', 'SYN Flag Cnt', 'RST Flag Cnt', 'PSH Flag Cnt', 'ACK Flag Cnt', 'Down/Up Ratio', 'Pkt Size Avg', 'Fwd Seg Size Avg', 'Bwd Seg Size Avg', 'Subflow Fwd Pkts', 'Subflow Fwd Byts', 'Subflow Bwd Pkts', 'Subflow Bwd Byts', 'Init Bwd Win Byts', 'Fwd Act Data Pkts', 'Active Mean', 'Active Std', 'Active Max', 'Active Min', 'Idle Mean', 'Idle Std', 'Idle Max', 'Idle Min', 'Label']\n"
     ]
    }
   ],
   "source": [
    "xCount = masterSelected.shape[1]\n",
    "print(xCount)\n",
    "finalFtList = list(masterSelected.columns)\n",
    "print(finalFtList)"
   ]
  },
  {
   "cell_type": "code",
   "execution_count": 115,
   "id": "5ee1b66f",
   "metadata": {},
   "outputs": [],
   "source": [
    "#report intermediate data frame to a csv\n",
    "masterSelected.to_csv('D:/code/MLCode_output/ProcessedNPrunned_BITSDataset_XGBnew.csv', index = False)"
   ]
  },
  {
   "cell_type": "code",
   "execution_count": 116,
   "id": "ec3526e9",
   "metadata": {},
   "outputs": [
    {
     "name": "stdout",
     "output_type": "stream",
     "text": [
      "['0', '1', '2', '3', '4', '5']\n"
     ]
    }
   ],
   "source": [
    "print(list(masterSelected['Label'].unique()))"
   ]
  },
  {
   "cell_type": "code",
   "execution_count": 117,
   "id": "427e7ebf",
   "metadata": {},
   "outputs": [],
   "source": [
    "df = pd.read_csv('D:/code/MLCode_output/ProcessedNPrunned_BITSDataset_XGBnew.csv')"
   ]
  },
  {
   "cell_type": "code",
   "execution_count": 118,
   "id": "83a75943",
   "metadata": {},
   "outputs": [],
   "source": [
    "# Shuffle the dataset\n",
    "df_shuffled = df.sample(n=len(df))"
   ]
  },
  {
   "cell_type": "code",
   "execution_count": 119,
   "id": "27a58cd5",
   "metadata": {},
   "outputs": [],
   "source": [
    "# Save the shuffled dataset to a new CSV file\n",
    "df_shuffled.to_csv('D:/code/MLCode_output/ProcessedNPrunned_BITSDataset_XGBnew.csv', index=False)"
   ]
  },
  {
   "cell_type": "code",
   "execution_count": 120,
   "id": "bd5bd968",
   "metadata": {},
   "outputs": [],
   "source": [
    "df_shuffled = df_shuffled.reset_index(drop=True)"
   ]
  },
  {
   "cell_type": "code",
   "execution_count": 121,
   "id": "9a4fbefd",
   "metadata": {},
   "outputs": [
    {
     "name": "stdout",
     "output_type": "stream",
     "text": [
      "Xshape:  (10000, 62)\n",
      "Yshape:  (10000,)\n"
     ]
    }
   ],
   "source": [
    "#classification with all the features\n",
    "masterDS = df_shuffled.values  #masterSelected.values\n",
    "X = masterDS[:,:-1]\n",
    "Y = masterDS[:,-1]\n",
    "print(\"Xshape: \", X.shape)\n",
    "print(\"Yshape: \", Y.shape)"
   ]
  },
  {
   "cell_type": "code",
   "execution_count": 122,
   "id": "42bd64c6",
   "metadata": {},
   "outputs": [
    {
     "name": "stdout",
     "output_type": "stream",
     "text": [
      "(7500,)\n"
     ]
    }
   ],
   "source": [
    "from sklearn.model_selection import train_test_split\n",
    "X_train, X_test, y_train, y_test = train_test_split(X, Y, test_size = 0.25, random_state = 0)\n",
    "#y_train_xgb = y_train.map({\"IPCam\": 0, \"Other\":1, \"VConf\":2, \"VShare\": 3})\n",
    "#X_train, X_test, y_train, y_test = train_test_split(X, Y, Label, test_size=test_size, stratify = labels)\n",
    "\n",
    "#xgb = XGBClassifier(n_estimators = 400, learning_rate = 0.1, max_depth = 3)\n",
    "#xgb.fit(X_train.values, y_train)\n",
    "\n",
    "from sklearn.preprocessing import LabelEncoder\n",
    "le = LabelEncoder()\n",
    "y_train = le.fit_transform(y_train)\n",
    "print(y_train.shape)"
   ]
  },
  {
   "cell_type": "code",
   "execution_count": 123,
   "id": "af5db056",
   "metadata": {},
   "outputs": [
    {
     "data": {
      "text/html": [
       "<style>#sk-container-id-6 {color: black;background-color: white;}#sk-container-id-6 pre{padding: 0;}#sk-container-id-6 div.sk-toggleable {background-color: white;}#sk-container-id-6 label.sk-toggleable__label {cursor: pointer;display: block;width: 100%;margin-bottom: 0;padding: 0.3em;box-sizing: border-box;text-align: center;}#sk-container-id-6 label.sk-toggleable__label-arrow:before {content: \"▸\";float: left;margin-right: 0.25em;color: #696969;}#sk-container-id-6 label.sk-toggleable__label-arrow:hover:before {color: black;}#sk-container-id-6 div.sk-estimator:hover label.sk-toggleable__label-arrow:before {color: black;}#sk-container-id-6 div.sk-toggleable__content {max-height: 0;max-width: 0;overflow: hidden;text-align: left;background-color: #f0f8ff;}#sk-container-id-6 div.sk-toggleable__content pre {margin: 0.2em;color: black;border-radius: 0.25em;background-color: #f0f8ff;}#sk-container-id-6 input.sk-toggleable__control:checked~div.sk-toggleable__content {max-height: 200px;max-width: 100%;overflow: auto;}#sk-container-id-6 input.sk-toggleable__control:checked~label.sk-toggleable__label-arrow:before {content: \"▾\";}#sk-container-id-6 div.sk-estimator input.sk-toggleable__control:checked~label.sk-toggleable__label {background-color: #d4ebff;}#sk-container-id-6 div.sk-label input.sk-toggleable__control:checked~label.sk-toggleable__label {background-color: #d4ebff;}#sk-container-id-6 input.sk-hidden--visually {border: 0;clip: rect(1px 1px 1px 1px);clip: rect(1px, 1px, 1px, 1px);height: 1px;margin: -1px;overflow: hidden;padding: 0;position: absolute;width: 1px;}#sk-container-id-6 div.sk-estimator {font-family: monospace;background-color: #f0f8ff;border: 1px dotted black;border-radius: 0.25em;box-sizing: border-box;margin-bottom: 0.5em;}#sk-container-id-6 div.sk-estimator:hover {background-color: #d4ebff;}#sk-container-id-6 div.sk-parallel-item::after {content: \"\";width: 100%;border-bottom: 1px solid gray;flex-grow: 1;}#sk-container-id-6 div.sk-label:hover label.sk-toggleable__label {background-color: #d4ebff;}#sk-container-id-6 div.sk-serial::before {content: \"\";position: absolute;border-left: 1px solid gray;box-sizing: border-box;top: 0;bottom: 0;left: 50%;z-index: 0;}#sk-container-id-6 div.sk-serial {display: flex;flex-direction: column;align-items: center;background-color: white;padding-right: 0.2em;padding-left: 0.2em;position: relative;}#sk-container-id-6 div.sk-item {position: relative;z-index: 1;}#sk-container-id-6 div.sk-parallel {display: flex;align-items: stretch;justify-content: center;background-color: white;position: relative;}#sk-container-id-6 div.sk-item::before, #sk-container-id-6 div.sk-parallel-item::before {content: \"\";position: absolute;border-left: 1px solid gray;box-sizing: border-box;top: 0;bottom: 0;left: 50%;z-index: -1;}#sk-container-id-6 div.sk-parallel-item {display: flex;flex-direction: column;z-index: 1;position: relative;background-color: white;}#sk-container-id-6 div.sk-parallel-item:first-child::after {align-self: flex-end;width: 50%;}#sk-container-id-6 div.sk-parallel-item:last-child::after {align-self: flex-start;width: 50%;}#sk-container-id-6 div.sk-parallel-item:only-child::after {width: 0;}#sk-container-id-6 div.sk-dashed-wrapped {border: 1px dashed gray;margin: 0 0.4em 0.5em 0.4em;box-sizing: border-box;padding-bottom: 0.4em;background-color: white;}#sk-container-id-6 div.sk-label label {font-family: monospace;font-weight: bold;display: inline-block;line-height: 1.2em;}#sk-container-id-6 div.sk-label-container {text-align: center;}#sk-container-id-6 div.sk-container {/* jupyter's `normalize.less` sets `[hidden] { display: none; }` but bootstrap.min.css set `[hidden] { display: none !important; }` so we also need the `!important` here to be able to override the default hidden behavior on the sphinx rendered scikit-learn.org. See: https://github.com/scikit-learn/scikit-learn/issues/21755 */display: inline-block !important;position: relative;}#sk-container-id-6 div.sk-text-repr-fallback {display: none;}</style><div id=\"sk-container-id-6\" class=\"sk-top-container\"><div class=\"sk-text-repr-fallback\"><pre>XGBClassifier(base_score=None, booster=None, callbacks=None,\n",
       "              colsample_bylevel=None, colsample_bynode=None,\n",
       "              colsample_bytree=None, device=None, early_stopping_rounds=None,\n",
       "              enable_categorical=False, eval_metric=None, feature_types=None,\n",
       "              gamma=None, grow_policy=None, importance_type=None,\n",
       "              interaction_constraints=None, learning_rate=1.0, max_bin=None,\n",
       "              max_cat_threshold=None, max_cat_to_onehot=None,\n",
       "              max_delta_step=None, max_depth=4, max_leaves=None,\n",
       "              min_child_weight=None, missing=nan, monotone_constraints=None,\n",
       "              multi_strategy=None, n_estimators=250, n_jobs=None,\n",
       "              num_parallel_tree=None, objective=&#x27;multi:softprob&#x27;, ...)</pre><b>In a Jupyter environment, please rerun this cell to show the HTML representation or trust the notebook. <br />On GitHub, the HTML representation is unable to render, please try loading this page with nbviewer.org.</b></div><div class=\"sk-container\" hidden><div class=\"sk-item\"><div class=\"sk-estimator sk-toggleable\"><input class=\"sk-toggleable__control sk-hidden--visually\" id=\"sk-estimator-id-6\" type=\"checkbox\" checked><label for=\"sk-estimator-id-6\" class=\"sk-toggleable__label sk-toggleable__label-arrow\">XGBClassifier</label><div class=\"sk-toggleable__content\"><pre>XGBClassifier(base_score=None, booster=None, callbacks=None,\n",
       "              colsample_bylevel=None, colsample_bynode=None,\n",
       "              colsample_bytree=None, device=None, early_stopping_rounds=None,\n",
       "              enable_categorical=False, eval_metric=None, feature_types=None,\n",
       "              gamma=None, grow_policy=None, importance_type=None,\n",
       "              interaction_constraints=None, learning_rate=1.0, max_bin=None,\n",
       "              max_cat_threshold=None, max_cat_to_onehot=None,\n",
       "              max_delta_step=None, max_depth=4, max_leaves=None,\n",
       "              min_child_weight=None, missing=nan, monotone_constraints=None,\n",
       "              multi_strategy=None, n_estimators=250, n_jobs=None,\n",
       "              num_parallel_tree=None, objective=&#x27;multi:softprob&#x27;, ...)</pre></div></div></div></div></div>"
      ],
      "text/plain": [
       "XGBClassifier(base_score=None, booster=None, callbacks=None,\n",
       "              colsample_bylevel=None, colsample_bynode=None,\n",
       "              colsample_bytree=None, device=None, early_stopping_rounds=None,\n",
       "              enable_categorical=False, eval_metric=None, feature_types=None,\n",
       "              gamma=None, grow_policy=None, importance_type=None,\n",
       "              interaction_constraints=None, learning_rate=1.0, max_bin=None,\n",
       "              max_cat_threshold=None, max_cat_to_onehot=None,\n",
       "              max_delta_step=None, max_depth=4, max_leaves=None,\n",
       "              min_child_weight=None, missing=nan, monotone_constraints=None,\n",
       "              multi_strategy=None, n_estimators=250, n_jobs=None,\n",
       "              num_parallel_tree=None, objective='multi:softprob', ...)"
      ]
     },
     "execution_count": 123,
     "metadata": {},
     "output_type": "execute_result"
    }
   ],
   "source": [
    "#import XGBClassifier\n",
    "from xgboost import XGBClassifier\n",
    "# declare parameters\n",
    "params = {\n",
    "            'objective':'binary:logistic',\n",
    "            'max_depth': 4,\n",
    "            #'alpha': 0.1,\n",
    "            'learning_rate': 1.0,\n",
    "            'n_estimators':250\n",
    "         }\n",
    "                      \n",
    "# instantiate the classifier \n",
    "xgb_clf = XGBClassifier(**params)\n",
    "\n",
    "# fit the classifier to the training data\n",
    "xgb_clf.fit(X_train, y_train)"
   ]
  },
  {
   "cell_type": "code",
   "execution_count": 124,
   "id": "e25a9216",
   "metadata": {},
   "outputs": [
    {
     "name": "stdout",
     "output_type": "stream",
     "text": [
      "XGBClassifier(base_score=None, booster=None, callbacks=None,\n",
      "              colsample_bylevel=None, colsample_bynode=None,\n",
      "              colsample_bytree=None, device=None, early_stopping_rounds=None,\n",
      "              enable_categorical=False, eval_metric=None, feature_types=None,\n",
      "              gamma=None, grow_policy=None, importance_type=None,\n",
      "              interaction_constraints=None, learning_rate=1.0, max_bin=None,\n",
      "              max_cat_threshold=None, max_cat_to_onehot=None,\n",
      "              max_delta_step=None, max_depth=4, max_leaves=None,\n",
      "              min_child_weight=None, missing=nan, monotone_constraints=None,\n",
      "              multi_strategy=None, n_estimators=250, n_jobs=None,\n",
      "              num_parallel_tree=None, objective='multi:softprob', ...)\n"
     ]
    }
   ],
   "source": [
    "#alternatively view the parameters of the xgb trained model\n",
    "print(xgb_clf)"
   ]
  },
  {
   "cell_type": "code",
   "execution_count": 125,
   "id": "b4ee1487",
   "metadata": {},
   "outputs": [
    {
     "name": "stdout",
     "output_type": "stream",
     "text": [
      "(2500,)\n"
     ]
    }
   ],
   "source": [
    "# make predictions on test data\n",
    "y_pred = xgb_clf.predict(X_test)\n",
    "print(y_pred.shape)"
   ]
  },
  {
   "cell_type": "code",
   "execution_count": 126,
   "id": "7c7d479a",
   "metadata": {},
   "outputs": [
    {
     "name": "stdout",
     "output_type": "stream",
     "text": [
      "XGBoost model accuracy score: 0.9936\n"
     ]
    }
   ],
   "source": [
    "# check accuracy score\n",
    "from sklearn.metrics import accuracy_score\n",
    "print('XGBoost model accuracy score: {0:0.4f}'. format(accuracy_score(y_test, y_pred)))"
   ]
  },
  {
   "cell_type": "code",
   "execution_count": 127,
   "id": "f3324b4a",
   "metadata": {},
   "outputs": [
    {
     "name": "stdout",
     "output_type": "stream",
     "text": [
      "[[ 95   0   0   0   0   0]\n",
      " [  0 103   0   2   2   1]\n",
      " [  0   0 438   0   0   1]\n",
      " [  0   0   0 631   0   5]\n",
      " [  0   0   0   0 218   4]\n",
      " [  0   1   0   0   0 999]]\n"
     ]
    },
    {
     "data": {
      "text/plain": [
       "0.9936"
      ]
     },
     "execution_count": 127,
     "metadata": {},
     "output_type": "execute_result"
    }
   ],
   "source": [
    "from sklearn.metrics import confusion_matrix, accuracy_score\n",
    "cm = confusion_matrix(y_test, y_pred) #our model\n",
    "print(cm)\n",
    "accuracy_score(y_test, y_pred)"
   ]
  },
  {
   "cell_type": "code",
   "execution_count": 129,
   "id": "28607bbf",
   "metadata": {},
   "outputs": [
    {
     "name": "stdout",
     "output_type": "stream",
     "text": [
      "[[ 95   0   0   0   0   0]\n",
      " [  0 103   0   2   2   1]\n",
      " [  0   0 438   0   0   1]\n",
      " [  0   0   0 631   0   5]\n",
      " [  0   0   0   0 218   4]\n",
      " [  0   1   0   0   0 999]]\n",
      "\n",
      "\n",
      "Clock as Clock =  95  percent =  1.0\n",
      "Clock as Ezviz =  0  percent =  0.0\n",
      "Clock as D3D =  0  percent =  0.0\n",
      "Clock as Netatmo =  0  percent =  0.0\n",
      "Clock as Canary =  0  percent =  0.0\n",
      "Clock as Bulb =  0  percent =  0.0\n",
      "\n",
      "\n",
      "Ezviz as Clock =  0  percent =  0.0\n",
      "Ezviz as Ezviz =  103  percent =  0.9537037037037037\n",
      "Ezviz as D3D = 0  percent =  0.0\n",
      "Ezviz as Netatmo =  2  percent =  0.018518518518518517\n",
      "Ezviz as Canary =  2  percent =  0.018518518518518517\n",
      "Ezviz as Bulb =  1  percent =  0.009259259259259259\n",
      "\n",
      "\n",
      "D3D as Clock =  0  percent =  0.0\n",
      "D3D as Ezviz =  0  percent =  0.0\n",
      "D3D as D3D =  438  percent =  0.9977220956719818\n",
      "D3D as Netatmo =  0  percent =  0.0\n",
      "D3D as Canary =  0  percent =  0.0\n",
      "D3D as Bulb =  1  percent =  0.002277904328018223\n",
      "\n",
      "\n",
      "Netatmo as Clock =  0  percent =  0.0\n",
      "Netatmo as Ezviz =  0  percent =  0.0\n",
      "Netatmo as D3D =  0  percent =  0.0\n",
      "Netatmo as Netatmo =  631  percent =  0.9921383647798742\n",
      "Netatmo as Canary =  0  percent =  0.0\n",
      "Netatmo as Bulb =  5  percent =  0.007861635220125786\n",
      "\n",
      "\n",
      "Canary as Clock =  0  percent =  0.0\n",
      "Canary as Ezviz =  0  percent =  0.0\n",
      "Canary as D3D =  0  percent =  0.0\n",
      "Canary as Netatmo =  0  percent =  0.0\n",
      "Canary as Canary =  218  percent =  0.9819819819819819\n",
      "Canary as Bulb =  4  percent =  0.018018018018018018\n",
      "\n",
      "\n",
      "Bulb as Clock =  0  percent =  0.0\n",
      "Bulb as Ezviz =  1  percent =  0.001\n",
      "Bulb as D3D =  0  percent =  0.0\n",
      "Bulb as Netatmo =  0  percent =  0.0\n",
      "Bulb as Canary =  0  percent =  0.0\n",
      "Bulb as Bulb =  999  percent =  0.999\n"
     ]
    }
   ],
   "source": [
    "conf_mat = metrics.confusion_matrix(y_test, y_pred)#, labels=uniqueLabels)\n",
    "#[i][j] ==> knwon to be in group i and predicted as group j\n",
    "print(conf_mat)\n",
    "print('\\n')\n",
    "print('Clock as Clock = ',conf_mat[0][0],' percent = ', (conf_mat[0][0]/(conf_mat[0][0]+conf_mat[0][1]+conf_mat[0][2]+conf_mat[0][3]+conf_mat[0][4]+conf_mat[0][5])))\n",
    "print('Clock as Ezviz = ',conf_mat[0][1],' percent = ', (conf_mat[0][1]/(conf_mat[0][0]+conf_mat[0][1]+conf_mat[0][2]+conf_mat[0][3]+conf_mat[0][4]+conf_mat[0][5])))\n",
    "print('Clock as D3D = ',conf_mat[0][2],' percent = ', (conf_mat[0][2]/(conf_mat[0][0]+conf_mat[0][1]+conf_mat[0][2]+conf_mat[0][3]+conf_mat[0][4]+conf_mat[0][5])))\n",
    "print('Clock as Netatmo = ',conf_mat[0][3],' percent = ', (conf_mat[0][3]/(conf_mat[0][0]+conf_mat[0][1]+conf_mat[0][2]+conf_mat[0][3]+conf_mat[0][4]+conf_mat[0][5])))\n",
    "print('Clock as Canary = ',conf_mat[0][4],' percent = ', (conf_mat[0][4]/(conf_mat[0][0]+conf_mat[0][1]+conf_mat[0][2]+conf_mat[0][3]+conf_mat[0][4]+conf_mat[0][5])))\n",
    "print('Clock as Bulb = ',conf_mat[0][5],' percent = ', (conf_mat[0][5]/(conf_mat[0][0]+conf_mat[0][1]+conf_mat[0][2]+conf_mat[0][3]+conf_mat[0][4]+conf_mat[0][5])))\n",
    "print('\\n')\n",
    "\n",
    "print('Ezviz as Clock = ',conf_mat[1][0],' percent = ', (conf_mat[1][0]/(conf_mat[1][0]+conf_mat[1][1]+conf_mat[1][2]+conf_mat[1][3]+conf_mat[1][4]+conf_mat[1][5])))\n",
    "print('Ezviz as Ezviz = ',conf_mat[1][1],' percent = ', (conf_mat[1][1]/(conf_mat[1][0]+conf_mat[1][1]+conf_mat[1][2]+conf_mat[1][3]+conf_mat[1][4]+conf_mat[1][5])))\n",
    "print('Ezviz as D3D =',conf_mat[1][2],' percent = ', (conf_mat[1][2]/(conf_mat[1][0]+conf_mat[1][1]+conf_mat[1][2]+conf_mat[1][3]+conf_mat[1][4]+conf_mat[1][5])))\n",
    "print('Ezviz as Netatmo = ',conf_mat[1][3],' percent = ', (conf_mat[1][3]/(conf_mat[1][0]+conf_mat[1][1]+conf_mat[1][2]+conf_mat[1][3]+conf_mat[1][4]+conf_mat[1][5])))\n",
    "print('Ezviz as Canary = ',conf_mat[1][4],' percent = ', (conf_mat[1][4]/(conf_mat[1][0]+conf_mat[1][1]+conf_mat[1][2]+conf_mat[1][3]+conf_mat[1][4]+conf_mat[1][5])))\n",
    "print('Ezviz as Bulb = ',conf_mat[1][5],' percent = ', (conf_mat[1][5]/(conf_mat[1][0]+conf_mat[1][1]+conf_mat[1][2]+conf_mat[1][3]+conf_mat[1][4]+conf_mat[1][5])))\n",
    "print('\\n')\n",
    "\n",
    "print('D3D as Clock = ',conf_mat[2][0],' percent = ', (conf_mat[2][0]/(conf_mat[2][0]+conf_mat[2][1]+conf_mat[2][2]+conf_mat[2][3]+conf_mat[2][4]+conf_mat[2][5])))\n",
    "print('D3D as Ezviz = ',conf_mat[2][1],' percent = ', (conf_mat[2][1]/(conf_mat[2][0]+conf_mat[2][1]+conf_mat[2][2]+conf_mat[2][3]+conf_mat[2][4]+conf_mat[2][5])))\n",
    "print('D3D as D3D = ',conf_mat[2][2],' percent = ', (conf_mat[2][2]/(conf_mat[2][0]+conf_mat[2][1]+conf_mat[2][2]+conf_mat[2][3]+conf_mat[2][4]+conf_mat[2][5])))\n",
    "print('D3D as Netatmo = ',conf_mat[2][3],' percent = ', (conf_mat[2][3]/(conf_mat[2][0]+conf_mat[2][1]+conf_mat[2][2]+conf_mat[2][3]+conf_mat[2][4]+conf_mat[2][5])))\n",
    "print('D3D as Canary = ',conf_mat[2][4],' percent = ', (conf_mat[2][4]/(conf_mat[2][0]+conf_mat[2][1]+conf_mat[2][2]+conf_mat[2][3]+conf_mat[2][4]+conf_mat[2][5])))\n",
    "print('D3D as Bulb = ',conf_mat[2][5],' percent = ', (conf_mat[2][5]/(conf_mat[2][0]+conf_mat[2][1]+conf_mat[2][2]+conf_mat[2][3]+conf_mat[2][4]+conf_mat[2][5])))\n",
    "print('\\n')\n",
    "\n",
    "print('Netatmo as Clock = ',conf_mat[3][0],' percent = ', (conf_mat[3][0]/(conf_mat[3][0]+conf_mat[3][1]+conf_mat[3][2]+conf_mat[3][3]+conf_mat[3][4]+conf_mat[3][5])))\n",
    "print('Netatmo as Ezviz = ',conf_mat[3][1],' percent = ', (conf_mat[3][1]/(conf_mat[3][0]+conf_mat[3][1]+conf_mat[3][2]+conf_mat[3][3]+conf_mat[3][4]+conf_mat[3][5])))\n",
    "print('Netatmo as D3D = ',conf_mat[3][2],' percent = ', (conf_mat[3][2]/(conf_mat[3][0]+conf_mat[3][1]+conf_mat[3][2]+conf_mat[3][3]+conf_mat[3][4]+conf_mat[3][5])))\n",
    "print('Netatmo as Netatmo = ',conf_mat[3][3],' percent = ', (conf_mat[3][3]/(conf_mat[3][0]+conf_mat[3][1]+conf_mat[3][2]+conf_mat[3][3]+conf_mat[3][4]+conf_mat[3][5])))\n",
    "print('Netatmo as Canary = ',conf_mat[3][4],' percent = ', (conf_mat[3][4]/(conf_mat[3][0]+conf_mat[3][1]+conf_mat[3][2]+conf_mat[3][3]+conf_mat[3][4]+conf_mat[3][5])))\n",
    "print('Netatmo as Bulb = ',conf_mat[3][5],' percent = ', (conf_mat[3][5]/(conf_mat[3][0]+conf_mat[3][1]+conf_mat[3][2]+conf_mat[3][3]+conf_mat[3][4]+conf_mat[3][5])))\n",
    "print('\\n')\n",
    "\n",
    "print('Canary as Clock = ',conf_mat[4][0],' percent = ', (conf_mat[4][0]/(conf_mat[4][0]+conf_mat[4][1]+conf_mat[4][2]+conf_mat[4][3]+conf_mat[4][4]+conf_mat[4][5])))\n",
    "print('Canary as Ezviz = ',conf_mat[4][1],' percent = ', (conf_mat[4][1]/(conf_mat[4][0]+conf_mat[4][1]+conf_mat[4][2]+conf_mat[4][3]+conf_mat[4][4]+conf_mat[4][5])))\n",
    "print('Canary as D3D = ',conf_mat[4][2],' percent = ', (conf_mat[4][2]/(conf_mat[4][0]+conf_mat[4][1]+conf_mat[4][2]+conf_mat[4][3]+conf_mat[4][4]+conf_mat[4][5])))\n",
    "print('Canary as Netatmo = ',conf_mat[4][3],' percent = ', (conf_mat[4][3]/(conf_mat[4][0]+conf_mat[4][1]+conf_mat[4][2]+conf_mat[4][3]+conf_mat[4][4]+conf_mat[4][5])))\n",
    "print('Canary as Canary = ',conf_mat[4][4],' percent = ', (conf_mat[4][4]/(conf_mat[4][0]+conf_mat[4][1]+conf_mat[4][2]+conf_mat[4][3]+conf_mat[4][4]+conf_mat[4][5])))\n",
    "print('Canary as Bulb = ',conf_mat[4][5],' percent = ', (conf_mat[4][5]/(conf_mat[4][0]+conf_mat[4][1]+conf_mat[4][2]+conf_mat[4][3]+conf_mat[4][4]+conf_mat[4][5])))\n",
    "print('\\n')\n",
    "\n",
    "print('Bulb as Clock = ',conf_mat[5][0],' percent = ', (conf_mat[5][0]/(conf_mat[5][0]+conf_mat[5][1]+conf_mat[5][2]+conf_mat[5][3]+conf_mat[5][4]+conf_mat[5][5])))\n",
    "print('Bulb as Ezviz = ',conf_mat[5][1],' percent = ', (conf_mat[5][1]/(conf_mat[5][0]+conf_mat[5][1]+conf_mat[5][2]+conf_mat[5][3]+conf_mat[5][4]+conf_mat[5][5])))\n",
    "print('Bulb as D3D = ',conf_mat[5][2],' percent = ', (conf_mat[5][2]/(conf_mat[5][0]+conf_mat[5][1]+conf_mat[5][2]+conf_mat[5][3]+conf_mat[5][4]+conf_mat[5][5])))\n",
    "print('Bulb as Netatmo = ',conf_mat[5][3],' percent = ', (conf_mat[5][3]/(conf_mat[5][0]+conf_mat[5][1]+conf_mat[5][2]+conf_mat[5][3]+conf_mat[5][4]+conf_mat[5][5])))\n",
    "print('Bulb as Canary = ',conf_mat[5][4],' percent = ', (conf_mat[5][4]/(conf_mat[5][0]+conf_mat[5][1]+conf_mat[5][2]+conf_mat[5][3]+conf_mat[5][4]+conf_mat[5][5])))\n",
    "print('Bulb as Bulb = ',conf_mat[5][5],' percent = ', (conf_mat[5][5]/(conf_mat[5][0]+conf_mat[5][1]+conf_mat[5][2]+conf_mat[5][3]+conf_mat[5][4]+conf_mat[5][5])))"
   ]
  },
  {
   "cell_type": "code",
   "execution_count": null,
   "id": "368fab94",
   "metadata": {},
   "outputs": [],
   "source": []
  }
 ],
 "metadata": {
  "kernelspec": {
   "display_name": "Python 3 (ipykernel)",
   "language": "python",
   "name": "python3"
  },
  "language_info": {
   "codemirror_mode": {
    "name": "ipython",
    "version": 3
   },
   "file_extension": ".py",
   "mimetype": "text/x-python",
   "name": "python",
   "nbconvert_exporter": "python",
   "pygments_lexer": "ipython3",
   "version": "3.10.5"
  }
 },
 "nbformat": 4,
 "nbformat_minor": 5
}
