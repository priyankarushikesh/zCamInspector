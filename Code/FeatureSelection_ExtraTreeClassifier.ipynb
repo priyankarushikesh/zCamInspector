{
 "cells": [
  {
   "cell_type": "code",
   "execution_count": 1,
   "id": "a0f6893e",
   "metadata": {},
   "outputs": [
    {
     "name": "stdout",
     "output_type": "stream",
     "text": [
      "              feature  importance\n",
      "24        Bwd IAT Tot    0.055439\n",
      "52  Init Bwd Win Byts    0.053069\n",
      "43       ACK Flag Cnt    0.042488\n",
      "0       Flow Duration    0.038719\n",
      "29      Bwd PSH Flags    0.029104\n",
      "9     Bwd Pkt Len Max    0.027336\n",
      "10    Bwd Pkt Len Min    0.027111\n",
      "33         Bwd Pkts/s    0.027082\n",
      "19        Fwd IAT Tot    0.026682\n",
      "35        Pkt Len Max    0.025808\n",
      "(260910, 17)\n"
     ]
    }
   ],
   "source": [
    "# Import necessary libraries\n",
    "import pandas as pd\n",
    "from sklearn.ensemble import ExtraTreesClassifier\n",
    "from sklearn.feature_selection import SelectFromModel\n",
    "\n",
    "# Load the CSV file\n",
    "\n",
    "df = pd.read_csv('D:/code/MLCode_output/ProcessedNPrunned_CombinationUNSWOurDataset.csv')\n",
    "\n",
    "\n",
    "# Split the data into features (X) and target (y)\n",
    "X = df.drop('Label', axis=1)  # Replace 'target_column' with your actual target column\n",
    "y = df['Label']\n",
    "\n",
    "# Create an ExtraTreesClassifier instance\n",
    "clf = ExtraTreesClassifier(n_estimators=100)\n",
    "\n",
    "# Fit the classifier to the data\n",
    "clf.fit(X, y)\n",
    "\n",
    "# Get the feature importances\n",
    "importances = clf.feature_importances_\n",
    "\n",
    "# Create a dataframe with the feature names and their importances\n",
    "feature_importances = pd.DataFrame({'feature': X.columns, 'importance': importances})\n",
    "\n",
    "# Sort the dataframe by importance in descending order\n",
    "feature_importances = feature_importances.sort_values(by='importance', ascending=False)\n",
    "\n",
    "# Select the top 10 features\n",
    "top_10_features = feature_importances.head(10)\n",
    "\n",
    "# Print the top 10 features\n",
    "print(top_10_features)\n",
    "\n",
    "# Use SelectFromModel to select the top 10 features\n",
    "selector = SelectFromModel(clf, threshold='1.25*mean')\n",
    "X_selected = selector.fit_transform(X, y)\n",
    "\n",
    "# Print the shape of the selected features\n",
    "print(X_selected.shape)"
   ]
  },
  {
   "cell_type": "code",
   "execution_count": null,
   "id": "574c81fb",
   "metadata": {},
   "outputs": [],
   "source": [
    "#unsw dataset features\n",
    "feature  importance\n",
    "52  Init Bwd Win Byts    0.066950\n",
    "24        Bwd IAT Tot    0.053494\n",
    "0       Flow Duration    0.041137\n",
    "43       ACK Flag Cnt    0.041087\n",
    "19        Fwd IAT Tot    0.036269\n",
    "33         Bwd Pkts/s    0.025627\n",
    "35        Pkt Len Max    0.025574\n",
    "14        Flow Pkts/s    0.024763\n",
    "44      Down/Up Ratio    0.024180\n",
    "31     Bwd Header Len    0.024031\n",
    "(250910, 17)"
   ]
  },
  {
   "cell_type": "code",
   "execution_count": null,
   "id": "662af7b6",
   "metadata": {},
   "outputs": [],
   "source": [
    "#combine unsw and BITSPHC features\n",
    "feature  importance\n",
    "24        Bwd IAT Tot    0.065836\n",
    "52  Init Bwd Win Byts    0.050926\n",
    "43       ACK Flag Cnt    0.042007\n",
    "19        Fwd IAT Tot    0.034169\n",
    "0       Flow Duration    0.033949\n",
    "35        Pkt Len Max    0.032951\n",
    "33         Bwd Pkts/s    0.028973\n",
    "44      Down/Up Ratio    0.027390\n",
    "27        Bwd IAT Max    0.026052\n",
    "14        Flow Pkts/s    0.025100"
   ]
  },
  {
   "cell_type": "code",
   "execution_count": null,
   "id": "8a6a355a",
   "metadata": {},
   "outputs": [],
   "source": [
    "#BITSPHC\n",
    " feature  importance\n",
    "52  Init Bwd Win Byts    0.063521\n",
    "43       ACK Flag Cnt    0.037343\n",
    "31     Bwd Header Len    0.029014\n",
    "35        Pkt Len Max    0.028527\n",
    "34        Pkt Len Min    0.027847\n",
    "17       Flow IAT Max    0.027584\n",
    "0       Flow Duration    0.027465\n",
    "9     Bwd Pkt Len Max    0.025386\n",
    "23        Fwd IAT Min    0.023905\n",
    "46   Fwd Seg Size Avg    0.023186\n",
    "(10000, 18)"
   ]
  },
  {
   "cell_type": "code",
   "execution_count": null,
   "id": "431637eb",
   "metadata": {},
   "outputs": [],
   "source": []
  }
 ],
 "metadata": {
  "kernelspec": {
   "display_name": "Python 3 (ipykernel)",
   "language": "python",
   "name": "python3"
  },
  "language_info": {
   "codemirror_mode": {
    "name": "ipython",
    "version": 3
   },
   "file_extension": ".py",
   "mimetype": "text/x-python",
   "name": "python",
   "nbconvert_exporter": "python",
   "pygments_lexer": "ipython3",
   "version": "3.10.5"
  }
 },
 "nbformat": 4,
 "nbformat_minor": 5
}
